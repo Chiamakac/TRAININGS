{
  "nbformat": 4,
  "nbformat_minor": 0,
  "metadata": {
    "colab": {
      "name": "Data preprocessing.ipynb",
      "provenance": [],
      "collapsed_sections": [],
      "authorship_tag": "ABX9TyMPvfE9aF8+OXhUec5aeYtJ",
      "include_colab_link": true
    },
    "kernelspec": {
      "name": "python3",
      "display_name": "Python 3"
    },
    "language_info": {
      "name": "python"
    }
  },
  "cells": [
    {
      "cell_type": "markdown",
      "metadata": {
        "id": "view-in-github",
        "colab_type": "text"
      },
      "source": [
        "<a href=\"https://colab.research.google.com/github/Chiamakac/TRAININGS/blob/main/Alignment/Projection_Work/DIRTY_HAND/TRIAL.ipynb\" target=\"_parent\"><img src=\"https://colab.research.google.com/assets/colab-badge.svg\" alt=\"Open In Colab\"/></a>"
      ]
    },
    {
      "cell_type": "code",
      "execution_count": null,
      "metadata": {
        "colab": {
          "base_uri": "https://localhost:8080/"
        },
        "id": "na-Fxokc4YS7",
        "outputId": "e97a4e6a-9979-4bf3-c215-75a9a27d725c"
      },
      "outputs": [
        {
          "output_type": "stream",
          "name": "stdout",
          "text": [
            "--2022-03-16 19:23:25--  https://raw.githubusercontent.com/Chiamakac/IGBONLP/master/ig_en_mt/benchmark_dataset/train.en\n",
            "Resolving raw.githubusercontent.com (raw.githubusercontent.com)... 185.199.108.133, 185.199.109.133, 185.199.110.133, ...\n",
            "Connecting to raw.githubusercontent.com (raw.githubusercontent.com)|185.199.108.133|:443... connected.\n",
            "HTTP request sent, awaiting response... 200 OK\n",
            "Length: 1047590 (1023K) [text/plain]\n",
            "Saving to: ‘train.en’\n",
            "\n",
            "train.en            100%[===================>]   1023K  --.-KB/s    in 0.04s   \n",
            "\n",
            "2022-03-16 19:23:25 (23.3 MB/s) - ‘train.en’ saved [1047590/1047590]\n",
            "\n",
            "--2022-03-16 19:23:25--  https://raw.githubusercontent.com/Chiamakac/IGBONLP/master/ig_en_mt/benchmark_dataset/train.ig\n",
            "Resolving raw.githubusercontent.com (raw.githubusercontent.com)... 185.199.108.133, 185.199.109.133, 185.199.110.133, ...\n",
            "Connecting to raw.githubusercontent.com (raw.githubusercontent.com)|185.199.108.133|:443... connected.\n",
            "HTTP request sent, awaiting response... 200 OK\n",
            "Length: 1183332 (1.1M) [text/plain]\n",
            "Saving to: ‘train.ig’\n",
            "\n",
            "train.ig            100%[===================>]   1.13M  --.-KB/s    in 0.009s  \n",
            "\n",
            "2022-03-16 19:23:25 (119 MB/s) - ‘train.ig’ saved [1183332/1183332]\n",
            "\n"
          ]
        }
      ],
      "source": [
        "!wget -c https://raw.githubusercontent.com/Chiamakac/IGBONLP/master/ig_en_mt/benchmark_dataset/train.en\n",
        "!wget -c https://raw.githubusercontent.com/Chiamakac/IGBONLP/master/ig_en_mt/benchmark_dataset/train.ig"
      ]
    },
    {
      "cell_type": "code",
      "source": [
        "# opening the file in read mode\n",
        "en_file = open(\"/content/train.en\", \"r\")\n",
        "\n",
        "# reading the file\n",
        "ensents = en_file.read()\n",
        "\n",
        "# replacing end splitting the text when newline ('\\n') is seen.\n",
        "ensents = ensents.split(\"\\n\")\n",
        "# print(ensents)\n",
        "# en_file.close()"
      ],
      "metadata": {
        "id": "b3o9h04s45-S"
      },
      "execution_count": null,
      "outputs": []
    },
    {
      "cell_type": "code",
      "source": [
        "# opening the file in read mode\n",
        "ig_file = open(\"/content/train.ig\", \"r\")\n",
        "\n",
        "# reading the file\n",
        "igsents = ig_file.read()\n",
        "\n",
        "# replacing end splitting the text\n",
        "# when newline ('\\n') is seen.\n",
        "igsents = igsents.split(\"\\n\")\n",
        "# print(igsents)\n",
        "# ig_file.close()"
      ],
      "metadata": {
        "id": "ql3aNP4w5YH5"
      },
      "execution_count": null,
      "outputs": []
    },
    {
      "cell_type": "code",
      "source": [
        "# Python zip() function can be used to map the lists altogether \n",
        "# to create a list of tuples using the command:list(zip(list))\n",
        "# lst1 = ensents\n",
        "# lst2 = igsents\n",
        "en_ig_sents = list(zip(ensents,igsents))"
      ],
      "metadata": {
        "id": "qPXDEwSg4n-B"
      },
      "execution_count": null,
      "outputs": []
    },
    {
      "cell_type": "code",
      "source": [
        "en_ig_sents"
      ],
      "metadata": {
        "id": "q-C0uZgzikPP"
      },
      "execution_count": null,
      "outputs": []
    },
    {
      "cell_type": "code",
      "source": [
        "#separating 'ensents' and 'igsents' by (|||) and writing into a file\n",
        "with open ('en_ig_paratrain.txt','w') as outfile:\n",
        "  for ensents,igsents in en_ig_sents:\n",
        "    outfile.write(f'{ensents} ||| {igsents}\\n')"
      ],
      "metadata": {
        "id": "Fgym1oda49mT"
      },
      "execution_count": null,
      "outputs": []
    },
    {
      "cell_type": "code",
      "source": [
        ""
      ],
      "metadata": {
        "id": "9_e5OmiM776H"
      },
      "execution_count": null,
      "outputs": []
    }
  ]
}