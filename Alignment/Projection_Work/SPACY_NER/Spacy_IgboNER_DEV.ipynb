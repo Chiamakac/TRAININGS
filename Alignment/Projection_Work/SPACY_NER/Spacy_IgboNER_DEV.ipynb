{
  "nbformat": 4,
  "nbformat_minor": 0,
  "metadata": {
    "colab": {
      "provenance": [],
      "include_colab_link": true
    },
    "kernelspec": {
      "name": "python3",
      "display_name": "Python 3"
    },
    "language_info": {
      "name": "python"
    }
  },
  "cells": [
    {
      "cell_type": "markdown",
      "metadata": {
        "id": "view-in-github",
        "colab_type": "text"
      },
      "source": [
        "<a href=\"https://colab.research.google.com/github/Chiamakac/TRAININGS/blob/main/Alignment/Projection_Work/SPACY_NER/Spacy_IgboNER_DEV.ipynb\" target=\"_parent\"><img src=\"https://colab.research.google.com/assets/colab-badge.svg\" alt=\"Open In Colab\"/></a>"
      ]
    },
    {
      "cell_type": "markdown",
      "source": [
        "# Developing IgboNER tagger with Spacy"
      ],
      "metadata": {
        "id": "2vqH5tV2-UZq"
      }
    },
    {
      "cell_type": "code",
      "source": [
        "!wget https://raw.githubusercontent.com/masakhane-io/masakhane-ner/main/MasakhaNER2.0/data/ibo/dev.txt\n",
        "!wget https://raw.githubusercontent.com/masakhane-io/masakhane-ner/main/MasakhaNER2.0/data/ibo/test.txt\n",
        "!wget https://raw.githubusercontent.com/masakhane-io/masakhane-ner/main/MasakhaNER2.0/data/ibo/train.txt\n",
        "!wget https://raw.githubusercontent.com/masakhane-io/masakhane-ner/main/data/ibo/dev.txt\n",
        "!wget https://raw.githubusercontent.com/masakhane-io/masakhane-ner/main/data/ibo/test.txt\n",
        "!wget https://raw.githubusercontent.com/masakhane-io/masakhane-ner/main/data/ibo/train.txt"
      ],
      "metadata": {
        "id": "0lYvN607-gq-"
      },
      "execution_count": null,
      "outputs": []
    },
    {
      "cell_type": "code",
      "source": [
        "import os\n",
        "\n",
        "# Function to merge text files in a directory\n",
        "def merge_text_files(directory, output_file):\n",
        "    with open(output_file, 'w') as merged_file:\n",
        "        for file_name in os.listdir(directory):\n",
        "            if file_name.endswith('.txt'):\n",
        "                file_path = os.path.join(directory, file_name)\n",
        "                with open(file_path, 'r') as current_file:\n",
        "                    content = current_file.read()\n",
        "                    merged_file.write(content)\n",
        "\n",
        "# Directory containing the text files to merge\n",
        "text_files_directory = '/content/masakhane'\n",
        "\n",
        "# Output file where merged content will be saved\n",
        "output_file = 'merged_output.txt'\n",
        "\n",
        "# Merge the text files\n",
        "merge_text_files(text_files_directory, output_file)"
      ],
      "metadata": {
        "id": "K-TQmFWFUW24"
      },
      "execution_count": null,
      "outputs": []
    },
    {
      "cell_type": "code",
      "source": [
        "# Read the lines from the 'dev.txt' file, strip leading/trailing spaces and split by spaces\n",
        "# This creates a list of lists where each sublist contains words from a line\n",
        "lines = [line.strip().split() for line in open('merged_output.txt').readlines()]\n",
        "\n",
        "# Extract the first word from each sublist and join them into a single string with spaces in between\n",
        "# This creates a string containing the first word of each non-empty line\n",
        "text = \" \".join([l[0] for l in lines if l])\n"
      ],
      "metadata": {
        "id": "8letN9eb_OMX"
      },
      "execution_count": null,
      "outputs": []
    },
    {
      "cell_type": "code",
      "source": [
        "def join_spans(tag_list):\n",
        "    i = 0\n",
        "    tag_spans = []\n",
        "\n",
        "    # Iterate through the tokens and tags\n",
        "    while i < len(tag_list):\n",
        "        token, tag = tag_list[i]\n",
        "\n",
        "        # Merge contiguous tokens with the same NER tag\n",
        "        while i + 1 < len(tag_list) and tag_list[i + 1][1].startswith('I'):\n",
        "            token = token + ' ' + tag_list[i + 1][0]\n",
        "            i += 1\n",
        "\n",
        "        # Append the merged token and its tag to the tag_spans list\n",
        "        tag_spans.append((token, tag))\n",
        "        i += 1\n",
        "\n",
        "    # Return the spans, excluding the 'I-' prefix from the NER tags\n",
        "    return [(t, s[2:]) for t, s in tag_spans]\n",
        "\n",
        "# Call the join_spans function with a list of lines, extracting non-empty lines with NER tags other than 'O'\n",
        "ner_taglist = join_spans([l for l in lines if l and l[1] != 'O'])\n",
        "\n",
        "# Explanation:\n",
        "# The join_spans function iterates through the tokens and their corresponding tags, merging tokens with the same NER tag to form spans.\n",
        "# It uses a while loop to merge contiguous tokens with tags starting with 'I'.\n",
        "# The merged tokens and their corresponding tags are appended to the tag_spans list.\n",
        "# Finally, the function returns a list of tuples where each tuple contains a merged token and its corresponding NER tag (excluding the 'I-' prefix)."
      ],
      "metadata": {
        "id": "siCZJplMMuHB"
      },
      "execution_count": null,
      "outputs": []
    },
    {
      "cell_type": "code",
      "source": [
        "# Extract tokens with NER tags ending with 'LOC','DATE', 'ORG'\n",
        "locs = [l[0] for l in ner_taglist if l[1].endswith('LOC')]\n",
        "dates = [l[0] for l in ner_taglist if l[1].endswith('DATE')]\n",
        "orgs = [l[0] for l in ner_taglist if l[1].endswith('ORG')]\n",
        "\n",
        "# Extract tokens with NER tags ending with 'PER' (excluding '-')\n",
        "pers = [l[0] for l in ner_taglist if l[1].endswith('PER') and l[0] != '-']"
      ],
      "metadata": {
        "id": "lAZzZNFpF5j9"
      },
      "execution_count": null,
      "outputs": []
    },
    {
      "cell_type": "code",
      "source": [
        "len(set(locs))"
      ],
      "metadata": {
        "colab": {
          "base_uri": "https://localhost:8080/"
        },
        "id": "L3aNyXRKLIeI",
        "outputId": "d4f50d86-c2cf-4842-f4c4-e875f4202332"
      },
      "execution_count": null,
      "outputs": [
        {
          "output_type": "execute_result",
          "data": {
            "text/plain": [
              "1294"
            ]
          },
          "metadata": {},
          "execution_count": 21
        }
      ]
    },
    {
      "cell_type": "code",
      "source": [
        "import spacy\n",
        "from spacy import displacy\n",
        "\n",
        "# Load the English model and disable NER and parser\n",
        "nlp = spacy.load(\"en_core_web_sm\", disable=[\"ner\", \"parser\"]) # we will change the English model later...\n",
        "\n",
        "# add spacy's EntityRuler\n",
        "ruler = nlp.add_pipe('entity_ruler')#, before='ner')\n",
        "\n",
        "# Define entity patterns based on LOC, DATE, ORG, and PER tokens\n",
        "patterns  = [{'label':'LOC', 'pattern':loc} for loc in set(locs)]\n",
        "patterns += [{'label':'DATE', 'pattern':date} for date in set(dates)]\n",
        "patterns += [{'label':'ORG', 'pattern':orgs} for orgs in set(orgs)]\n",
        "patterns += [{'label':'PER', 'pattern':pers} for pers in set(pers)]\n",
        "\n",
        "# Add the patterns to the entity ruler\n",
        "ruler.add_patterns(patterns)"
      ],
      "metadata": {
        "id": "bqNV0vqEHlkO"
      },
      "execution_count": null,
      "outputs": []
    },
    {
      "cell_type": "code",
      "source": [
        "sentences = \"\"\"Buhari nọ n'isi gọọmentị mpụ na nrụrụaka - Saraki Ọ pụtara na enweghi ihe e mere mekaa ndị Igbo ?\n",
        "ASUU strike : Kedụ mgbe ọ ga - ebi , ka Willie Obiano jụrụ?\n",
        "Sineti sị gọọmenti kpọchita Onnoghen Ndị Sịnetị a bụ nke onyeisi ha bụ Bukola Saraki bụ nke agba asatọ n'ime ọchịchị onye kwuo uche ya.\n",
        "Ndị Sịnetị a bụ nke onyeisi ha bụ Bukola Saraki bụ nke agba asatọ n'ime ọchịchị onye - kwuo - uche - ya\n",
        "Nkeiruka, Adamu, Willie, Kuryas gara Anambra na Mee afọ 2021.\n",
        "N'aka ọzọ , ụlọomeiwu Sineti akpọpụla gọọmenti etiti ụlọikpe ka ha were ọsọ were ije kpọchite Onnoghen bụ onye bụbụ onyeisi ndị okaikpe na Naịjirịa .\"\"\".splitlines()"
      ],
      "metadata": {
        "id": "nDODh_EqB84W"
      },
      "execution_count": null,
      "outputs": []
    },
    {
      "cell_type": "code",
      "source": [
        "# Process each sentence\n",
        "\n",
        "doc = nlp(sentences[5])\n",
        "\n",
        "    # Print named entities in the sentence\n",
        "for ent in doc.ents:\n",
        "        print(ent.text, ent.start_char, ent.end_char, ent.label_)\n",
        "\n",
        "    # Visualize the entities using displacy\n",
        "displacy.render(doc, style=\"ent\", jupyter=True)"
      ],
      "metadata": {
        "id": "V_8XxHFKLyKO",
        "outputId": "f5c2dcfc-6253-418c-b7dd-2470309dc1c8",
        "colab": {
          "base_uri": "https://localhost:8080/",
          "height": 105
        }
      },
      "execution_count": null,
      "outputs": [
        {
          "output_type": "stream",
          "name": "stdout",
          "text": [
            "Naịjirịa 139 147 LOC\n"
          ]
        },
        {
          "output_type": "display_data",
          "data": {
            "text/plain": [
              "<IPython.core.display.HTML object>"
            ],
            "text/html": [
              "<span class=\"tex2jax_ignore\"><div class=\"entities\" style=\"line-height: 2.5; direction: ltr\">N'aka ọzọ , ụlọomeiwu Sineti akpọpụla gọọmenti etiti ụlọikpe ka ha were ọsọ were ije kpọchite Onnoghen bụ onye bụbụ onyeisi ndị okaikpe na \n",
              "<mark class=\"entity\" style=\"background: #ff9561; padding: 0.45em 0.6em; margin: 0 0.25em; line-height: 1; border-radius: 0.35em;\">\n",
              "    Naịjirịa\n",
              "    <span style=\"font-size: 0.8em; font-weight: bold; line-height: 1; border-radius: 0.35em; vertical-align: middle; margin-left: 0.5rem\">LOC</span>\n",
              "</mark>\n",
              " .</div></span>"
            ]
          },
          "metadata": {}
        }
      ]
    },
    {
      "cell_type": "code",
      "source": [
        "# Process each sentence and print named entities\n",
        "for sentence in sentences:\n",
        "    doc = nlp(sentence)\n",
        "\n",
        "    # Check if there are entities in the document\n",
        "    if doc.ents:\n",
        "        for ent in doc.ents:\n",
        "            print(ent.text, ent.start_char, ent.end_char, ent.label_)\n",
        "\n",
        "        # Visualize the entities using displacy\n",
        "        displacy.render(doc, style=\"ent\", jupyter=True)\n",
        "    else:\n",
        "        print( sentence)\n"
      ],
      "metadata": {
        "id": "L3H8HMhHlrDc",
        "outputId": "636973af-846c-4e4a-f8a0-36f0b380029c",
        "colab": {
          "base_uri": "https://localhost:8080/",
          "height": 481
        }
      },
      "execution_count": null,
      "outputs": [
        {
          "output_type": "stream",
          "name": "stdout",
          "text": [
            "Buhari 0 6 PER\n"
          ]
        },
        {
          "output_type": "display_data",
          "data": {
            "text/plain": [
              "<IPython.core.display.HTML object>"
            ],
            "text/html": [
              "<span class=\"tex2jax_ignore\"><div class=\"entities\" style=\"line-height: 2.5; direction: ltr\">\n",
              "<mark class=\"entity\" style=\"background: #ddd; padding: 0.45em 0.6em; margin: 0 0.25em; line-height: 1; border-radius: 0.35em;\">\n",
              "    Buhari\n",
              "    <span style=\"font-size: 0.8em; font-weight: bold; line-height: 1; border-radius: 0.35em; vertical-align: middle; margin-left: 0.5rem\">PER</span>\n",
              "</mark>\n",
              " nọ n'isi gọọmentị mpụ na nrụrụaka - Saraki Ọ pụtara na enweghi ihe e mere mekaa ndị Igbo ?</div></span>"
            ]
          },
          "metadata": {}
        },
        {
          "output_type": "stream",
          "name": "stdout",
          "text": [
            "Willie Obiano 40 53 PER\n"
          ]
        },
        {
          "output_type": "display_data",
          "data": {
            "text/plain": [
              "<IPython.core.display.HTML object>"
            ],
            "text/html": [
              "<span class=\"tex2jax_ignore\"><div class=\"entities\" style=\"line-height: 2.5; direction: ltr\">ASUU strike : Kedụ mgbe ọ ga - ebi , ka \n",
              "<mark class=\"entity\" style=\"background: #ddd; padding: 0.45em 0.6em; margin: 0 0.25em; line-height: 1; border-radius: 0.35em;\">\n",
              "    Willie Obiano\n",
              "    <span style=\"font-size: 0.8em; font-weight: bold; line-height: 1; border-radius: 0.35em; vertical-align: middle; margin-left: 0.5rem\">PER</span>\n",
              "</mark>\n",
              " jụrụ?</div></span>"
            ]
          },
          "metadata": {}
        },
        {
          "output_type": "stream",
          "name": "stdout",
          "text": [
            "Sineti sị gọọmenti kpọchita Onnoghen Ndị Sịnetị a bụ nke onyeisi ha bụ Bukola Saraki bụ nke agba asatọ n'ime ọchịchị onye kwuo uche ya.\n",
            "Ndị Sịnetị a bụ nke onyeisi ha bụ Bukola Saraki bụ nke agba asatọ n'ime ọchịchị onye - kwuo - uche - ya\n",
            "Nkeiruka 0 8 PER\n",
            "Adamu 10 15 PER\n",
            "Willie 17 23 PER\n",
            "Kuryas 25 31 PER\n",
            "Anambra 37 44 LOC\n",
            "2021 56 60 DATE\n"
          ]
        },
        {
          "output_type": "display_data",
          "data": {
            "text/plain": [
              "<IPython.core.display.HTML object>"
            ],
            "text/html": [
              "<span class=\"tex2jax_ignore\"><div class=\"entities\" style=\"line-height: 2.5; direction: ltr\">\n",
              "<mark class=\"entity\" style=\"background: #ddd; padding: 0.45em 0.6em; margin: 0 0.25em; line-height: 1; border-radius: 0.35em;\">\n",
              "    Nkeiruka\n",
              "    <span style=\"font-size: 0.8em; font-weight: bold; line-height: 1; border-radius: 0.35em; vertical-align: middle; margin-left: 0.5rem\">PER</span>\n",
              "</mark>\n",
              ", \n",
              "<mark class=\"entity\" style=\"background: #ddd; padding: 0.45em 0.6em; margin: 0 0.25em; line-height: 1; border-radius: 0.35em;\">\n",
              "    Adamu\n",
              "    <span style=\"font-size: 0.8em; font-weight: bold; line-height: 1; border-radius: 0.35em; vertical-align: middle; margin-left: 0.5rem\">PER</span>\n",
              "</mark>\n",
              ", \n",
              "<mark class=\"entity\" style=\"background: #ddd; padding: 0.45em 0.6em; margin: 0 0.25em; line-height: 1; border-radius: 0.35em;\">\n",
              "    Willie\n",
              "    <span style=\"font-size: 0.8em; font-weight: bold; line-height: 1; border-radius: 0.35em; vertical-align: middle; margin-left: 0.5rem\">PER</span>\n",
              "</mark>\n",
              ", \n",
              "<mark class=\"entity\" style=\"background: #ddd; padding: 0.45em 0.6em; margin: 0 0.25em; line-height: 1; border-radius: 0.35em;\">\n",
              "    Kuryas\n",
              "    <span style=\"font-size: 0.8em; font-weight: bold; line-height: 1; border-radius: 0.35em; vertical-align: middle; margin-left: 0.5rem\">PER</span>\n",
              "</mark>\n",
              " gara \n",
              "<mark class=\"entity\" style=\"background: #ff9561; padding: 0.45em 0.6em; margin: 0 0.25em; line-height: 1; border-radius: 0.35em;\">\n",
              "    Anambra\n",
              "    <span style=\"font-size: 0.8em; font-weight: bold; line-height: 1; border-radius: 0.35em; vertical-align: middle; margin-left: 0.5rem\">LOC</span>\n",
              "</mark>\n",
              " na Mee afọ \n",
              "<mark class=\"entity\" style=\"background: #bfe1d9; padding: 0.45em 0.6em; margin: 0 0.25em; line-height: 1; border-radius: 0.35em;\">\n",
              "    2021\n",
              "    <span style=\"font-size: 0.8em; font-weight: bold; line-height: 1; border-radius: 0.35em; vertical-align: middle; margin-left: 0.5rem\">DATE</span>\n",
              "</mark>\n",
              ".</div></span>"
            ]
          },
          "metadata": {}
        },
        {
          "output_type": "stream",
          "name": "stdout",
          "text": [
            "Naịjirịa 139 147 LOC\n"
          ]
        },
        {
          "output_type": "display_data",
          "data": {
            "text/plain": [
              "<IPython.core.display.HTML object>"
            ],
            "text/html": [
              "<span class=\"tex2jax_ignore\"><div class=\"entities\" style=\"line-height: 2.5; direction: ltr\">N'aka ọzọ , ụlọomeiwu Sineti akpọpụla gọọmenti etiti ụlọikpe ka ha were ọsọ were ije kpọchite Onnoghen bụ onye bụbụ onyeisi ndị okaikpe na \n",
              "<mark class=\"entity\" style=\"background: #ff9561; padding: 0.45em 0.6em; margin: 0 0.25em; line-height: 1; border-radius: 0.35em;\">\n",
              "    Naịjirịa\n",
              "    <span style=\"font-size: 0.8em; font-weight: bold; line-height: 1; border-radius: 0.35em; vertical-align: middle; margin-left: 0.5rem\">LOC</span>\n",
              "</mark>\n",
              " .</div></span>"
            ]
          },
          "metadata": {}
        }
      ]
    },
    {
      "cell_type": "code",
      "source": [
        "# Function to save unique tokens to a file\n",
        "def save_unique_tokens_to_file(tokens, filename):\n",
        "    unique_tokens = set(tokens)  # Convert to a set to get unique tokens\n",
        "    with open(filename, 'w') as file:\n",
        "        for token in unique_tokens:\n",
        "            file.write(token + '\\n')\n",
        "\n",
        "# Assume you have extracted 'locs', 'dates', 'orgs', and 'pers' lists\n",
        "\n",
        "# Save unique tokens with NER tag ending in 'LOC' to a file\n",
        "save_unique_tokens_to_file(locs, 'unique_tokens_loc.txt')\n",
        "\n",
        "# Save unique tokens with NER tag ending in 'DATE' to a file\n",
        "save_unique_tokens_to_file(dates, 'unique_tokens_date.txt')\n",
        "\n",
        "# Save unique tokens with NER tag ending in 'ORG' to a file\n",
        "save_unique_tokens_to_file(orgs, 'unique_tokens_org.txt')\n",
        "\n",
        "# Save unique tokens with NER tag ending in 'PER' to a file\n",
        "save_unique_tokens_to_file(pers, 'unique_tokens_per.txt')\n"
      ],
      "metadata": {
        "id": "y76F8xwRrlez"
      },
      "execution_count": null,
      "outputs": []
    }
  ]
}