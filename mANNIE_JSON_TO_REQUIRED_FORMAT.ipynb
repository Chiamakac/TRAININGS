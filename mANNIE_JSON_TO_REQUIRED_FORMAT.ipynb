{
  "nbformat": 4,
  "nbformat_minor": 0,
  "metadata": {
    "colab": {
      "name": "ANNIE_JSON_TO_REQUIRED_FORMAT.ipynb",
      "provenance": [],
      "collapsed_sections": [],
      "authorship_tag": "ABX9TyO8Qh0EL8Ob8fj/4ceVtDwU",
      "include_colab_link": true
    },
    "kernelspec": {
      "name": "python3",
      "display_name": "Python 3"
    },
    "language_info": {
      "name": "python"
    }
  },
  "cells": [
    {
      "cell_type": "markdown",
      "metadata": {
        "id": "view-in-github",
        "colab_type": "text"
      },
      "source": [
        "<a href=\"https://colab.research.google.com/github/Chiamakac/TRAININGS/blob/main/mANNIE_JSON_TO_REQUIRED_FORMAT.ipynb\" target=\"_parent\"><img src=\"https://colab.research.google.com/assets/colab-badge.svg\" alt=\"Open In Colab\"/></a>"
      ]
    },
    {
      "cell_type": "code",
      "source": [
        "!wget -c https://raw.githubusercontent.com/Chiamakac/TRAININGS/main/Alignment/Projection_Work/COMPARE.txt"
      ],
      "metadata": {
        "colab": {
          "base_uri": "https://localhost:8080/"
        },
        "id": "6xiHt24SV4Wg",
        "outputId": "dc9eeda7-35e0-44ac-bae8-98fdf9c45fb1"
      },
      "execution_count": 1,
      "outputs": [
        {
          "output_type": "stream",
          "name": "stdout",
          "text": [
            "--2022-07-18 16:39:34--  https://raw.githubusercontent.com/Chiamakac/TRAININGS/main/Alignment/Projection_Work/COMPARE.txt\n",
            "Resolving raw.githubusercontent.com (raw.githubusercontent.com)... 185.199.108.133, 185.199.109.133, 185.199.110.133, ...\n",
            "Connecting to raw.githubusercontent.com (raw.githubusercontent.com)|185.199.108.133|:443... connected.\n",
            "HTTP request sent, awaiting response... 200 OK\n",
            "Length: 37164 (36K) [text/plain]\n",
            "Saving to: ‘COMPARE.txt’\n",
            "\n",
            "\rCOMPARE.txt           0%[                    ]       0  --.-KB/s               \rCOMPARE.txt         100%[===================>]  36.29K  --.-KB/s    in 0.004s  \n",
            "\n",
            "2022-07-18 16:39:34 (9.98 MB/s) - ‘COMPARE.txt’ saved [37164/37164]\n",
            "\n"
          ]
        }
      ]
    },
    {
      "cell_type": "code",
      "execution_count": 2,
      "metadata": {
        "id": "IIlzUBYATNxL"
      },
      "outputs": [],
      "source": [
        "import json\n",
        "import numpy as np\n",
        "def replace_substr(oldstr, indices, newstr):\n",
        "  beg, end = indices\n",
        "  string = oldstr[:beg] + newstr +\" \"+ oldstr[end+1:]\n",
        "  # print(string)\n",
        "  return string, beg+len(newstr)-end\n",
        "data = json.load(open('/content/COMPARE.txt'))\n",
        "text = data['text']\n",
        "indices_tags = []\n",
        "for entity, value in data['entities'].items():\n",
        "  # print(entity)\n",
        "  for el in value:\n",
        "    beg, end = el['indices'][0], el['indices'][1]\n",
        "    tag = f\"[{text[beg:end]}_{entity}]\".replace(' ','_')\n",
        "    indices_tags.append((el['indices'], tag))"
      ]
    },
    {
      "cell_type": "code",
      "source": [
        "shift = 0\n",
        "for ind, tag in sorted(indices_tags):\n",
        "  indices, str_tag = ind, tag\n",
        "  indices = np.array(indices) + shift\n",
        "  text, new_shift = replace_substr(text, indices, str_tag)\n",
        "  shift += new_shift"
      ],
      "metadata": {
        "id": "lEviJt4gVlE9"
      },
      "execution_count": 3,
      "outputs": []
    },
    {
      "cell_type": "code",
      "source": [
        "tags = (\"\\n\".join(text.split()))"
      ],
      "metadata": {
        "id": "EdlSHkWm2eoO"
      },
      "execution_count": 4,
      "outputs": []
    },
    {
      "cell_type": "code",
      "source": [
        "print(tags)"
      ],
      "metadata": {
        "id": "7Sy44PiTVtM7"
      },
      "execution_count": null,
      "outputs": []
    },
    {
      "cell_type": "code",
      "source": [
        "with open ('COMPARED.txt', 'w') as f:\n",
        "  for words in tags:\n",
        "    f.write(f\"{words}\")\n"
      ],
      "metadata": {
        "id": "p2g0tmQJxNQn"
      },
      "execution_count": 8,
      "outputs": []
    },
    {
      "cell_type": "code",
      "source": [
        "data = json.load(open('/content/COMPARE.txt'))\n",
        "# text = data['text']\n",
        "# indices_tags = []\n",
        "# for entity, value in data['entities'].items():\n",
        "#   # print(entity)\n",
        "#   for el in value:\n",
        "#     beg, end = el['indices'][0], el['indices'][1]\n",
        "#     tag = f\"[{text[beg:end]}_{entity}]\".replace(' ','_')\n",
        "#     indices_tags.append((el['indices'], tag))"
      ],
      "metadata": {
        "id": "kZHyc74TM9ja"
      },
      "execution_count": 10,
      "outputs": []
    },
    {
      "cell_type": "code",
      "source": [
        "en_text = \"The family of late Prof Pius Adesanmi has announced the burial of the Nigerian-born Canadian scholar, writer, literary critic and columnist, who died on March 10, 2019 when an Ethiopian Airline aircraft crashed shortly after take-off.\"\n",
        "ig_text = \"Ezinụlọ onye nwụrụ anwụ Prọfesọ Pius Adesanmi ekwuputala olili oka mmụta, onye ode akwụkwọ, onye na-ede akwụkwọ na onye na-ede akwụkwọ akụkọ, onye nwụrụ na Maachị 10, 2019 mgbe ụgbọ elu Ethiopian Airline dara obere oge ka ọ gachara.\""
      ],
      "metadata": {
        "id": "z8BAhxPAQGes"
      },
      "execution_count": 39,
      "outputs": []
    },
    {
      "cell_type": "code",
      "source": [
        "data['text']"
      ],
      "metadata": {
        "colab": {
          "base_uri": "https://localhost:8080/",
          "height": 70
        },
        "id": "N1vXKCNRSb-q",
        "outputId": "98bc1c02-c7b1-4184-adc5-21e02496fe9c"
      },
      "execution_count": 42,
      "outputs": [
        {
          "output_type": "execute_result",
          "data": {
            "text/plain": [
              "'The family of late Prof Pius Adesanmi has announced the burial of the Nigerian-born Canadian scholar, writer, literary critic and columnist, who died on March 10, 2019 when an Ethiopian Airline aircraft crashed shortly after take-off.'"
            ],
            "application/vnd.google.colaboratory.intrinsic+json": {
              "type": "string"
            }
          },
          "metadata": {},
          "execution_count": 42
        }
      ]
    },
    {
      "cell_type": "code",
      "source": [
        "import re"
      ],
      "metadata": {
        "id": "LvIUJ9ucYeC_"
      },
      "execution_count": 48,
      "outputs": []
    },
    {
      "cell_type": "code",
      "source": [
        "tagged_text=data['text']\n",
        "print(tagged_text)\n",
        "for entity, value in data['entities'].items():\n",
        "  for el in value:\n",
        "    beg, end = el['indices'][0], el['indices'][1]\n",
        "    tagged_subtext = data['text'][beg:end]\n",
        "    ## do something to  apply words/phrases that align...\n",
        "    tagged_text = re.sub(tagged_subtext, f\"[{tagged_subtext}-{entity}]\", tagged_text)\n",
        "    # tagged_text = tagged_text.replace(tagged_subtext, f\"[{tagged_subtext}-{entity}]\")\n",
        "print(tagged_text)"
      ],
      "metadata": {
        "colab": {
          "base_uri": "https://localhost:8080/"
        },
        "id": "JgwzpYk3Ncxr",
        "outputId": "968f31c6-c93d-448a-bfed-b1fd58b358d9"
      },
      "execution_count": 53,
      "outputs": [
        {
          "output_type": "stream",
          "name": "stdout",
          "text": [
            "The family of late Prof Pius Adesanmi has announced the burial of the Nigerian-born Canadian scholar, writer, literary critic and columnist, who died on March 10, 2019 when an Ethiopian Airline aircraft crashed shortly after take-off.\n",
            "The family of late Prof [Pius Adesanmi-Person] has announced the burial of the Nigerian-born Canadian scholar, writer, literary critic and columnist, who died on [March 10, 2019-Date] when an Ethiopian Airline aircraft crashed shortly after take-off.\n"
          ]
        }
      ]
    },
    {
      "cell_type": "code",
      "source": [
        "tagged_text=ig_text\n",
        "for entity, value in data['entities'].items():\n",
        "  for el in value:\n",
        "    beg, end = el['indices'][0], el['indices'][1]\n",
        "    tagged_subtext = data['text'][beg:end]\n",
        "    \n",
        "    tagged_text = re.sub(tagged_subtext, f\"[{tagged_subtext}-{entity}]\", tagged_text)\n",
        "    # tagged_text = tagged_text.replace(tagged_subtext, f\"[{tagged_subtext}-{entity}]\")\n",
        "print(tagged_text)"
      ],
      "metadata": {
        "colab": {
          "base_uri": "https://localhost:8080/"
        },
        "id": "QIzdJf8dYBL8",
        "outputId": "eaf2f66f-5130-46c3-e2f0-90b256920459"
      },
      "execution_count": 47,
      "outputs": [
        {
          "output_type": "stream",
          "name": "stdout",
          "text": [
            "Ezinụlọ onye nwụrụ anwụ Prọfesọ [Pius Adesanmi-Person] ekwuputala olili oka mmụta, onye ode akwụkwọ, onye na-ede akwụkwọ na onye na-ede akwụkwọ akụkọ, onye nwụrụ na Maachị 10, 2019 mgbe ụgbọ elu Ethiopian Airline dara obere oge ka ọ gachara.\n"
          ]
        }
      ]
    },
    {
      "cell_type": "code",
      "source": [
        "re.sub(f\"r'{tagged_subtext[0]}.* and 'Maachị 10, 2019'"
      ],
      "metadata": {
        "colab": {
          "base_uri": "https://localhost:8080/"
        },
        "id": "8bc-kvNsdB7C",
        "outputId": "d1c717c3-4b83-4448-ee43-057245370212"
      },
      "execution_count": 56,
      "outputs": [
        {
          "output_type": "execute_result",
          "data": {
            "text/plain": [
              "True"
            ]
          },
          "metadata": {},
          "execution_count": 56
        }
      ]
    }
  ]
}