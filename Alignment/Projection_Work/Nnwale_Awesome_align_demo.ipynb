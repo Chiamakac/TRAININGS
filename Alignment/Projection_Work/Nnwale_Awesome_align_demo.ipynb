{
  "nbformat": 4,
  "nbformat_minor": 0,
  "metadata": {
    "colab": {
      "name": "Pratikalu_Awesome_align_demo.ipynb",
      "provenance": [],
      "collapsed_sections": [],
      "include_colab_link": true
    },
    "kernelspec": {
      "name": "python3",
      "display_name": "Python 3"
    },
    "widgets": {
      "application/vnd.jupyter.widget-state+json": {
        "0602ffefdf7747c5ae9774d86a876aa6": {
          "model_module": "@jupyter-widgets/controls",
          "model_name": "HBoxModel",
          "model_module_version": "1.5.0",
          "state": {
            "_dom_classes": [],
            "_model_module": "@jupyter-widgets/controls",
            "_model_module_version": "1.5.0",
            "_model_name": "HBoxModel",
            "_view_count": null,
            "_view_module": "@jupyter-widgets/controls",
            "_view_module_version": "1.5.0",
            "_view_name": "HBoxView",
            "box_style": "",
            "children": [
              "IPY_MODEL_8a0eb9747b9846fd9348fd7af0aa9da6",
              "IPY_MODEL_e80a449b30644da2afcfa5dfe822efe9",
              "IPY_MODEL_051df86e6bdb4f0797c9dd7cd12a920d"
            ],
            "layout": "IPY_MODEL_8dc14c6f29a14a5b879cdd6590079d57"
          }
        },
        "8a0eb9747b9846fd9348fd7af0aa9da6": {
          "model_module": "@jupyter-widgets/controls",
          "model_name": "HTMLModel",
          "model_module_version": "1.5.0",
          "state": {
            "_dom_classes": [],
            "_model_module": "@jupyter-widgets/controls",
            "_model_module_version": "1.5.0",
            "_model_name": "HTMLModel",
            "_view_count": null,
            "_view_module": "@jupyter-widgets/controls",
            "_view_module_version": "1.5.0",
            "_view_name": "HTMLView",
            "description": "",
            "description_tooltip": null,
            "layout": "IPY_MODEL_da84daa77e3c47a2a4bc02abd2a4bcf5",
            "placeholder": "​",
            "style": "IPY_MODEL_54bad35ee8e9459e987fae38f8100334",
            "value": "Downloading: 100%"
          }
        },
        "e80a449b30644da2afcfa5dfe822efe9": {
          "model_module": "@jupyter-widgets/controls",
          "model_name": "FloatProgressModel",
          "model_module_version": "1.5.0",
          "state": {
            "_dom_classes": [],
            "_model_module": "@jupyter-widgets/controls",
            "_model_module_version": "1.5.0",
            "_model_name": "FloatProgressModel",
            "_view_count": null,
            "_view_module": "@jupyter-widgets/controls",
            "_view_module_version": "1.5.0",
            "_view_name": "ProgressView",
            "bar_style": "success",
            "description": "",
            "description_tooltip": null,
            "layout": "IPY_MODEL_b5dfe78b8e9d409d89bc9d629073a661",
            "max": 625,
            "min": 0,
            "orientation": "horizontal",
            "style": "IPY_MODEL_7d42cbed9699469ebb7b1e0d330632c3",
            "value": 625
          }
        },
        "051df86e6bdb4f0797c9dd7cd12a920d": {
          "model_module": "@jupyter-widgets/controls",
          "model_name": "HTMLModel",
          "model_module_version": "1.5.0",
          "state": {
            "_dom_classes": [],
            "_model_module": "@jupyter-widgets/controls",
            "_model_module_version": "1.5.0",
            "_model_name": "HTMLModel",
            "_view_count": null,
            "_view_module": "@jupyter-widgets/controls",
            "_view_module_version": "1.5.0",
            "_view_name": "HTMLView",
            "description": "",
            "description_tooltip": null,
            "layout": "IPY_MODEL_225f04e33a7948b9b9469412c9c7e885",
            "placeholder": "​",
            "style": "IPY_MODEL_bc3e75f8fb7b47c78fcddb073193b3b6",
            "value": " 625/625 [00:00&lt;00:00, 13.7kB/s]"
          }
        },
        "8dc14c6f29a14a5b879cdd6590079d57": {
          "model_module": "@jupyter-widgets/base",
          "model_name": "LayoutModel",
          "model_module_version": "1.2.0",
          "state": {
            "_model_module": "@jupyter-widgets/base",
            "_model_module_version": "1.2.0",
            "_model_name": "LayoutModel",
            "_view_count": null,
            "_view_module": "@jupyter-widgets/base",
            "_view_module_version": "1.2.0",
            "_view_name": "LayoutView",
            "align_content": null,
            "align_items": null,
            "align_self": null,
            "border": null,
            "bottom": null,
            "display": null,
            "flex": null,
            "flex_flow": null,
            "grid_area": null,
            "grid_auto_columns": null,
            "grid_auto_flow": null,
            "grid_auto_rows": null,
            "grid_column": null,
            "grid_gap": null,
            "grid_row": null,
            "grid_template_areas": null,
            "grid_template_columns": null,
            "grid_template_rows": null,
            "height": null,
            "justify_content": null,
            "justify_items": null,
            "left": null,
            "margin": null,
            "max_height": null,
            "max_width": null,
            "min_height": null,
            "min_width": null,
            "object_fit": null,
            "object_position": null,
            "order": null,
            "overflow": null,
            "overflow_x": null,
            "overflow_y": null,
            "padding": null,
            "right": null,
            "top": null,
            "visibility": null,
            "width": null
          }
        },
        "da84daa77e3c47a2a4bc02abd2a4bcf5": {
          "model_module": "@jupyter-widgets/base",
          "model_name": "LayoutModel",
          "model_module_version": "1.2.0",
          "state": {
            "_model_module": "@jupyter-widgets/base",
            "_model_module_version": "1.2.0",
            "_model_name": "LayoutModel",
            "_view_count": null,
            "_view_module": "@jupyter-widgets/base",
            "_view_module_version": "1.2.0",
            "_view_name": "LayoutView",
            "align_content": null,
            "align_items": null,
            "align_self": null,
            "border": null,
            "bottom": null,
            "display": null,
            "flex": null,
            "flex_flow": null,
            "grid_area": null,
            "grid_auto_columns": null,
            "grid_auto_flow": null,
            "grid_auto_rows": null,
            "grid_column": null,
            "grid_gap": null,
            "grid_row": null,
            "grid_template_areas": null,
            "grid_template_columns": null,
            "grid_template_rows": null,
            "height": null,
            "justify_content": null,
            "justify_items": null,
            "left": null,
            "margin": null,
            "max_height": null,
            "max_width": null,
            "min_height": null,
            "min_width": null,
            "object_fit": null,
            "object_position": null,
            "order": null,
            "overflow": null,
            "overflow_x": null,
            "overflow_y": null,
            "padding": null,
            "right": null,
            "top": null,
            "visibility": null,
            "width": null
          }
        },
        "54bad35ee8e9459e987fae38f8100334": {
          "model_module": "@jupyter-widgets/controls",
          "model_name": "DescriptionStyleModel",
          "model_module_version": "1.5.0",
          "state": {
            "_model_module": "@jupyter-widgets/controls",
            "_model_module_version": "1.5.0",
            "_model_name": "DescriptionStyleModel",
            "_view_count": null,
            "_view_module": "@jupyter-widgets/base",
            "_view_module_version": "1.2.0",
            "_view_name": "StyleView",
            "description_width": ""
          }
        },
        "b5dfe78b8e9d409d89bc9d629073a661": {
          "model_module": "@jupyter-widgets/base",
          "model_name": "LayoutModel",
          "model_module_version": "1.2.0",
          "state": {
            "_model_module": "@jupyter-widgets/base",
            "_model_module_version": "1.2.0",
            "_model_name": "LayoutModel",
            "_view_count": null,
            "_view_module": "@jupyter-widgets/base",
            "_view_module_version": "1.2.0",
            "_view_name": "LayoutView",
            "align_content": null,
            "align_items": null,
            "align_self": null,
            "border": null,
            "bottom": null,
            "display": null,
            "flex": null,
            "flex_flow": null,
            "grid_area": null,
            "grid_auto_columns": null,
            "grid_auto_flow": null,
            "grid_auto_rows": null,
            "grid_column": null,
            "grid_gap": null,
            "grid_row": null,
            "grid_template_areas": null,
            "grid_template_columns": null,
            "grid_template_rows": null,
            "height": null,
            "justify_content": null,
            "justify_items": null,
            "left": null,
            "margin": null,
            "max_height": null,
            "max_width": null,
            "min_height": null,
            "min_width": null,
            "object_fit": null,
            "object_position": null,
            "order": null,
            "overflow": null,
            "overflow_x": null,
            "overflow_y": null,
            "padding": null,
            "right": null,
            "top": null,
            "visibility": null,
            "width": null
          }
        },
        "7d42cbed9699469ebb7b1e0d330632c3": {
          "model_module": "@jupyter-widgets/controls",
          "model_name": "ProgressStyleModel",
          "model_module_version": "1.5.0",
          "state": {
            "_model_module": "@jupyter-widgets/controls",
            "_model_module_version": "1.5.0",
            "_model_name": "ProgressStyleModel",
            "_view_count": null,
            "_view_module": "@jupyter-widgets/base",
            "_view_module_version": "1.2.0",
            "_view_name": "StyleView",
            "bar_color": null,
            "description_width": ""
          }
        },
        "225f04e33a7948b9b9469412c9c7e885": {
          "model_module": "@jupyter-widgets/base",
          "model_name": "LayoutModel",
          "model_module_version": "1.2.0",
          "state": {
            "_model_module": "@jupyter-widgets/base",
            "_model_module_version": "1.2.0",
            "_model_name": "LayoutModel",
            "_view_count": null,
            "_view_module": "@jupyter-widgets/base",
            "_view_module_version": "1.2.0",
            "_view_name": "LayoutView",
            "align_content": null,
            "align_items": null,
            "align_self": null,
            "border": null,
            "bottom": null,
            "display": null,
            "flex": null,
            "flex_flow": null,
            "grid_area": null,
            "grid_auto_columns": null,
            "grid_auto_flow": null,
            "grid_auto_rows": null,
            "grid_column": null,
            "grid_gap": null,
            "grid_row": null,
            "grid_template_areas": null,
            "grid_template_columns": null,
            "grid_template_rows": null,
            "height": null,
            "justify_content": null,
            "justify_items": null,
            "left": null,
            "margin": null,
            "max_height": null,
            "max_width": null,
            "min_height": null,
            "min_width": null,
            "object_fit": null,
            "object_position": null,
            "order": null,
            "overflow": null,
            "overflow_x": null,
            "overflow_y": null,
            "padding": null,
            "right": null,
            "top": null,
            "visibility": null,
            "width": null
          }
        },
        "bc3e75f8fb7b47c78fcddb073193b3b6": {
          "model_module": "@jupyter-widgets/controls",
          "model_name": "DescriptionStyleModel",
          "model_module_version": "1.5.0",
          "state": {
            "_model_module": "@jupyter-widgets/controls",
            "_model_module_version": "1.5.0",
            "_model_name": "DescriptionStyleModel",
            "_view_count": null,
            "_view_module": "@jupyter-widgets/base",
            "_view_module_version": "1.2.0",
            "_view_name": "StyleView",
            "description_width": ""
          }
        },
        "a68a9318e15b4d159186d24787ff9fdc": {
          "model_module": "@jupyter-widgets/controls",
          "model_name": "HBoxModel",
          "model_module_version": "1.5.0",
          "state": {
            "_dom_classes": [],
            "_model_module": "@jupyter-widgets/controls",
            "_model_module_version": "1.5.0",
            "_model_name": "HBoxModel",
            "_view_count": null,
            "_view_module": "@jupyter-widgets/controls",
            "_view_module_version": "1.5.0",
            "_view_name": "HBoxView",
            "box_style": "",
            "children": [
              "IPY_MODEL_2d3e393733154f4aa1c2fe9318e91b8d",
              "IPY_MODEL_3499ca3fc44c4b8fa9dbf0a30fee4971",
              "IPY_MODEL_570e4bc2505b4c659ee61bdaa0b0c2fb"
            ],
            "layout": "IPY_MODEL_a2f6ee67d83c448c9e851573e6af5b27"
          }
        },
        "2d3e393733154f4aa1c2fe9318e91b8d": {
          "model_module": "@jupyter-widgets/controls",
          "model_name": "HTMLModel",
          "model_module_version": "1.5.0",
          "state": {
            "_dom_classes": [],
            "_model_module": "@jupyter-widgets/controls",
            "_model_module_version": "1.5.0",
            "_model_name": "HTMLModel",
            "_view_count": null,
            "_view_module": "@jupyter-widgets/controls",
            "_view_module_version": "1.5.0",
            "_view_name": "HTMLView",
            "description": "",
            "description_tooltip": null,
            "layout": "IPY_MODEL_e8f9304cc906437d93311e6185a66834",
            "placeholder": "​",
            "style": "IPY_MODEL_c52f25049f8742bc8d6f817fbe4ed45a",
            "value": "Downloading: 100%"
          }
        },
        "3499ca3fc44c4b8fa9dbf0a30fee4971": {
          "model_module": "@jupyter-widgets/controls",
          "model_name": "FloatProgressModel",
          "model_module_version": "1.5.0",
          "state": {
            "_dom_classes": [],
            "_model_module": "@jupyter-widgets/controls",
            "_model_module_version": "1.5.0",
            "_model_name": "FloatProgressModel",
            "_view_count": null,
            "_view_module": "@jupyter-widgets/controls",
            "_view_module_version": "1.5.0",
            "_view_name": "ProgressView",
            "bar_style": "success",
            "description": "",
            "description_tooltip": null,
            "layout": "IPY_MODEL_4d551cee40b04ea294ac6d2b870466c5",
            "max": 714314041,
            "min": 0,
            "orientation": "horizontal",
            "style": "IPY_MODEL_8ff7b4a04c054d939853810406169865",
            "value": 714314041
          }
        },
        "570e4bc2505b4c659ee61bdaa0b0c2fb": {
          "model_module": "@jupyter-widgets/controls",
          "model_name": "HTMLModel",
          "model_module_version": "1.5.0",
          "state": {
            "_dom_classes": [],
            "_model_module": "@jupyter-widgets/controls",
            "_model_module_version": "1.5.0",
            "_model_name": "HTMLModel",
            "_view_count": null,
            "_view_module": "@jupyter-widgets/controls",
            "_view_module_version": "1.5.0",
            "_view_name": "HTMLView",
            "description": "",
            "description_tooltip": null,
            "layout": "IPY_MODEL_d4cbf7c035c74fdb967099d96ead8bde",
            "placeholder": "​",
            "style": "IPY_MODEL_b68e4b540edd40a3864871c6f2abaf20",
            "value": " 714M/714M [00:16&lt;00:00, 46.8MB/s]"
          }
        },
        "a2f6ee67d83c448c9e851573e6af5b27": {
          "model_module": "@jupyter-widgets/base",
          "model_name": "LayoutModel",
          "model_module_version": "1.2.0",
          "state": {
            "_model_module": "@jupyter-widgets/base",
            "_model_module_version": "1.2.0",
            "_model_name": "LayoutModel",
            "_view_count": null,
            "_view_module": "@jupyter-widgets/base",
            "_view_module_version": "1.2.0",
            "_view_name": "LayoutView",
            "align_content": null,
            "align_items": null,
            "align_self": null,
            "border": null,
            "bottom": null,
            "display": null,
            "flex": null,
            "flex_flow": null,
            "grid_area": null,
            "grid_auto_columns": null,
            "grid_auto_flow": null,
            "grid_auto_rows": null,
            "grid_column": null,
            "grid_gap": null,
            "grid_row": null,
            "grid_template_areas": null,
            "grid_template_columns": null,
            "grid_template_rows": null,
            "height": null,
            "justify_content": null,
            "justify_items": null,
            "left": null,
            "margin": null,
            "max_height": null,
            "max_width": null,
            "min_height": null,
            "min_width": null,
            "object_fit": null,
            "object_position": null,
            "order": null,
            "overflow": null,
            "overflow_x": null,
            "overflow_y": null,
            "padding": null,
            "right": null,
            "top": null,
            "visibility": null,
            "width": null
          }
        },
        "e8f9304cc906437d93311e6185a66834": {
          "model_module": "@jupyter-widgets/base",
          "model_name": "LayoutModel",
          "model_module_version": "1.2.0",
          "state": {
            "_model_module": "@jupyter-widgets/base",
            "_model_module_version": "1.2.0",
            "_model_name": "LayoutModel",
            "_view_count": null,
            "_view_module": "@jupyter-widgets/base",
            "_view_module_version": "1.2.0",
            "_view_name": "LayoutView",
            "align_content": null,
            "align_items": null,
            "align_self": null,
            "border": null,
            "bottom": null,
            "display": null,
            "flex": null,
            "flex_flow": null,
            "grid_area": null,
            "grid_auto_columns": null,
            "grid_auto_flow": null,
            "grid_auto_rows": null,
            "grid_column": null,
            "grid_gap": null,
            "grid_row": null,
            "grid_template_areas": null,
            "grid_template_columns": null,
            "grid_template_rows": null,
            "height": null,
            "justify_content": null,
            "justify_items": null,
            "left": null,
            "margin": null,
            "max_height": null,
            "max_width": null,
            "min_height": null,
            "min_width": null,
            "object_fit": null,
            "object_position": null,
            "order": null,
            "overflow": null,
            "overflow_x": null,
            "overflow_y": null,
            "padding": null,
            "right": null,
            "top": null,
            "visibility": null,
            "width": null
          }
        },
        "c52f25049f8742bc8d6f817fbe4ed45a": {
          "model_module": "@jupyter-widgets/controls",
          "model_name": "DescriptionStyleModel",
          "model_module_version": "1.5.0",
          "state": {
            "_model_module": "@jupyter-widgets/controls",
            "_model_module_version": "1.5.0",
            "_model_name": "DescriptionStyleModel",
            "_view_count": null,
            "_view_module": "@jupyter-widgets/base",
            "_view_module_version": "1.2.0",
            "_view_name": "StyleView",
            "description_width": ""
          }
        },
        "4d551cee40b04ea294ac6d2b870466c5": {
          "model_module": "@jupyter-widgets/base",
          "model_name": "LayoutModel",
          "model_module_version": "1.2.0",
          "state": {
            "_model_module": "@jupyter-widgets/base",
            "_model_module_version": "1.2.0",
            "_model_name": "LayoutModel",
            "_view_count": null,
            "_view_module": "@jupyter-widgets/base",
            "_view_module_version": "1.2.0",
            "_view_name": "LayoutView",
            "align_content": null,
            "align_items": null,
            "align_self": null,
            "border": null,
            "bottom": null,
            "display": null,
            "flex": null,
            "flex_flow": null,
            "grid_area": null,
            "grid_auto_columns": null,
            "grid_auto_flow": null,
            "grid_auto_rows": null,
            "grid_column": null,
            "grid_gap": null,
            "grid_row": null,
            "grid_template_areas": null,
            "grid_template_columns": null,
            "grid_template_rows": null,
            "height": null,
            "justify_content": null,
            "justify_items": null,
            "left": null,
            "margin": null,
            "max_height": null,
            "max_width": null,
            "min_height": null,
            "min_width": null,
            "object_fit": null,
            "object_position": null,
            "order": null,
            "overflow": null,
            "overflow_x": null,
            "overflow_y": null,
            "padding": null,
            "right": null,
            "top": null,
            "visibility": null,
            "width": null
          }
        },
        "8ff7b4a04c054d939853810406169865": {
          "model_module": "@jupyter-widgets/controls",
          "model_name": "ProgressStyleModel",
          "model_module_version": "1.5.0",
          "state": {
            "_model_module": "@jupyter-widgets/controls",
            "_model_module_version": "1.5.0",
            "_model_name": "ProgressStyleModel",
            "_view_count": null,
            "_view_module": "@jupyter-widgets/base",
            "_view_module_version": "1.2.0",
            "_view_name": "StyleView",
            "bar_color": null,
            "description_width": ""
          }
        },
        "d4cbf7c035c74fdb967099d96ead8bde": {
          "model_module": "@jupyter-widgets/base",
          "model_name": "LayoutModel",
          "model_module_version": "1.2.0",
          "state": {
            "_model_module": "@jupyter-widgets/base",
            "_model_module_version": "1.2.0",
            "_model_name": "LayoutModel",
            "_view_count": null,
            "_view_module": "@jupyter-widgets/base",
            "_view_module_version": "1.2.0",
            "_view_name": "LayoutView",
            "align_content": null,
            "align_items": null,
            "align_self": null,
            "border": null,
            "bottom": null,
            "display": null,
            "flex": null,
            "flex_flow": null,
            "grid_area": null,
            "grid_auto_columns": null,
            "grid_auto_flow": null,
            "grid_auto_rows": null,
            "grid_column": null,
            "grid_gap": null,
            "grid_row": null,
            "grid_template_areas": null,
            "grid_template_columns": null,
            "grid_template_rows": null,
            "height": null,
            "justify_content": null,
            "justify_items": null,
            "left": null,
            "margin": null,
            "max_height": null,
            "max_width": null,
            "min_height": null,
            "min_width": null,
            "object_fit": null,
            "object_position": null,
            "order": null,
            "overflow": null,
            "overflow_x": null,
            "overflow_y": null,
            "padding": null,
            "right": null,
            "top": null,
            "visibility": null,
            "width": null
          }
        },
        "b68e4b540edd40a3864871c6f2abaf20": {
          "model_module": "@jupyter-widgets/controls",
          "model_name": "DescriptionStyleModel",
          "model_module_version": "1.5.0",
          "state": {
            "_model_module": "@jupyter-widgets/controls",
            "_model_module_version": "1.5.0",
            "_model_name": "DescriptionStyleModel",
            "_view_count": null,
            "_view_module": "@jupyter-widgets/base",
            "_view_module_version": "1.2.0",
            "_view_name": "StyleView",
            "description_width": ""
          }
        },
        "c23bf08ce110430081e5d36b79eaca1f": {
          "model_module": "@jupyter-widgets/controls",
          "model_name": "HBoxModel",
          "model_module_version": "1.5.0",
          "state": {
            "_dom_classes": [],
            "_model_module": "@jupyter-widgets/controls",
            "_model_module_version": "1.5.0",
            "_model_name": "HBoxModel",
            "_view_count": null,
            "_view_module": "@jupyter-widgets/controls",
            "_view_module_version": "1.5.0",
            "_view_name": "HBoxView",
            "box_style": "",
            "children": [
              "IPY_MODEL_d00887992a0343cc9240756aec2df2f4",
              "IPY_MODEL_a2dacffa870e44ba865176362f11b82a",
              "IPY_MODEL_79fb5025f2e1414084276e3990bf2463"
            ],
            "layout": "IPY_MODEL_40b5739ad2f046c1aa3415305cecf81f"
          }
        },
        "d00887992a0343cc9240756aec2df2f4": {
          "model_module": "@jupyter-widgets/controls",
          "model_name": "HTMLModel",
          "model_module_version": "1.5.0",
          "state": {
            "_dom_classes": [],
            "_model_module": "@jupyter-widgets/controls",
            "_model_module_version": "1.5.0",
            "_model_name": "HTMLModel",
            "_view_count": null,
            "_view_module": "@jupyter-widgets/controls",
            "_view_module_version": "1.5.0",
            "_view_name": "HTMLView",
            "description": "",
            "description_tooltip": null,
            "layout": "IPY_MODEL_0e43af056f2c49b191ef4776314841ea",
            "placeholder": "​",
            "style": "IPY_MODEL_752578feff1742a8b419ffd1e42f4b1d",
            "value": "Downloading: 100%"
          }
        },
        "a2dacffa870e44ba865176362f11b82a": {
          "model_module": "@jupyter-widgets/controls",
          "model_name": "FloatProgressModel",
          "model_module_version": "1.5.0",
          "state": {
            "_dom_classes": [],
            "_model_module": "@jupyter-widgets/controls",
            "_model_module_version": "1.5.0",
            "_model_name": "FloatProgressModel",
            "_view_count": null,
            "_view_module": "@jupyter-widgets/controls",
            "_view_module_version": "1.5.0",
            "_view_name": "ProgressView",
            "bar_style": "success",
            "description": "",
            "description_tooltip": null,
            "layout": "IPY_MODEL_3317289b98c54be499e7181df1ab9b56",
            "max": 995526,
            "min": 0,
            "orientation": "horizontal",
            "style": "IPY_MODEL_86ccdb10632a4c0a89999957039b83eb",
            "value": 995526
          }
        },
        "79fb5025f2e1414084276e3990bf2463": {
          "model_module": "@jupyter-widgets/controls",
          "model_name": "HTMLModel",
          "model_module_version": "1.5.0",
          "state": {
            "_dom_classes": [],
            "_model_module": "@jupyter-widgets/controls",
            "_model_module_version": "1.5.0",
            "_model_name": "HTMLModel",
            "_view_count": null,
            "_view_module": "@jupyter-widgets/controls",
            "_view_module_version": "1.5.0",
            "_view_name": "HTMLView",
            "description": "",
            "description_tooltip": null,
            "layout": "IPY_MODEL_67df274fea1540fabdfec820dc8b656d",
            "placeholder": "​",
            "style": "IPY_MODEL_36fa7cc9c8744bfc9b97c68979fbcafa",
            "value": " 996k/996k [00:00&lt;00:00, 991kB/s]"
          }
        },
        "40b5739ad2f046c1aa3415305cecf81f": {
          "model_module": "@jupyter-widgets/base",
          "model_name": "LayoutModel",
          "model_module_version": "1.2.0",
          "state": {
            "_model_module": "@jupyter-widgets/base",
            "_model_module_version": "1.2.0",
            "_model_name": "LayoutModel",
            "_view_count": null,
            "_view_module": "@jupyter-widgets/base",
            "_view_module_version": "1.2.0",
            "_view_name": "LayoutView",
            "align_content": null,
            "align_items": null,
            "align_self": null,
            "border": null,
            "bottom": null,
            "display": null,
            "flex": null,
            "flex_flow": null,
            "grid_area": null,
            "grid_auto_columns": null,
            "grid_auto_flow": null,
            "grid_auto_rows": null,
            "grid_column": null,
            "grid_gap": null,
            "grid_row": null,
            "grid_template_areas": null,
            "grid_template_columns": null,
            "grid_template_rows": null,
            "height": null,
            "justify_content": null,
            "justify_items": null,
            "left": null,
            "margin": null,
            "max_height": null,
            "max_width": null,
            "min_height": null,
            "min_width": null,
            "object_fit": null,
            "object_position": null,
            "order": null,
            "overflow": null,
            "overflow_x": null,
            "overflow_y": null,
            "padding": null,
            "right": null,
            "top": null,
            "visibility": null,
            "width": null
          }
        },
        "0e43af056f2c49b191ef4776314841ea": {
          "model_module": "@jupyter-widgets/base",
          "model_name": "LayoutModel",
          "model_module_version": "1.2.0",
          "state": {
            "_model_module": "@jupyter-widgets/base",
            "_model_module_version": "1.2.0",
            "_model_name": "LayoutModel",
            "_view_count": null,
            "_view_module": "@jupyter-widgets/base",
            "_view_module_version": "1.2.0",
            "_view_name": "LayoutView",
            "align_content": null,
            "align_items": null,
            "align_self": null,
            "border": null,
            "bottom": null,
            "display": null,
            "flex": null,
            "flex_flow": null,
            "grid_area": null,
            "grid_auto_columns": null,
            "grid_auto_flow": null,
            "grid_auto_rows": null,
            "grid_column": null,
            "grid_gap": null,
            "grid_row": null,
            "grid_template_areas": null,
            "grid_template_columns": null,
            "grid_template_rows": null,
            "height": null,
            "justify_content": null,
            "justify_items": null,
            "left": null,
            "margin": null,
            "max_height": null,
            "max_width": null,
            "min_height": null,
            "min_width": null,
            "object_fit": null,
            "object_position": null,
            "order": null,
            "overflow": null,
            "overflow_x": null,
            "overflow_y": null,
            "padding": null,
            "right": null,
            "top": null,
            "visibility": null,
            "width": null
          }
        },
        "752578feff1742a8b419ffd1e42f4b1d": {
          "model_module": "@jupyter-widgets/controls",
          "model_name": "DescriptionStyleModel",
          "model_module_version": "1.5.0",
          "state": {
            "_model_module": "@jupyter-widgets/controls",
            "_model_module_version": "1.5.0",
            "_model_name": "DescriptionStyleModel",
            "_view_count": null,
            "_view_module": "@jupyter-widgets/base",
            "_view_module_version": "1.2.0",
            "_view_name": "StyleView",
            "description_width": ""
          }
        },
        "3317289b98c54be499e7181df1ab9b56": {
          "model_module": "@jupyter-widgets/base",
          "model_name": "LayoutModel",
          "model_module_version": "1.2.0",
          "state": {
            "_model_module": "@jupyter-widgets/base",
            "_model_module_version": "1.2.0",
            "_model_name": "LayoutModel",
            "_view_count": null,
            "_view_module": "@jupyter-widgets/base",
            "_view_module_version": "1.2.0",
            "_view_name": "LayoutView",
            "align_content": null,
            "align_items": null,
            "align_self": null,
            "border": null,
            "bottom": null,
            "display": null,
            "flex": null,
            "flex_flow": null,
            "grid_area": null,
            "grid_auto_columns": null,
            "grid_auto_flow": null,
            "grid_auto_rows": null,
            "grid_column": null,
            "grid_gap": null,
            "grid_row": null,
            "grid_template_areas": null,
            "grid_template_columns": null,
            "grid_template_rows": null,
            "height": null,
            "justify_content": null,
            "justify_items": null,
            "left": null,
            "margin": null,
            "max_height": null,
            "max_width": null,
            "min_height": null,
            "min_width": null,
            "object_fit": null,
            "object_position": null,
            "order": null,
            "overflow": null,
            "overflow_x": null,
            "overflow_y": null,
            "padding": null,
            "right": null,
            "top": null,
            "visibility": null,
            "width": null
          }
        },
        "86ccdb10632a4c0a89999957039b83eb": {
          "model_module": "@jupyter-widgets/controls",
          "model_name": "ProgressStyleModel",
          "model_module_version": "1.5.0",
          "state": {
            "_model_module": "@jupyter-widgets/controls",
            "_model_module_version": "1.5.0",
            "_model_name": "ProgressStyleModel",
            "_view_count": null,
            "_view_module": "@jupyter-widgets/base",
            "_view_module_version": "1.2.0",
            "_view_name": "StyleView",
            "bar_color": null,
            "description_width": ""
          }
        },
        "67df274fea1540fabdfec820dc8b656d": {
          "model_module": "@jupyter-widgets/base",
          "model_name": "LayoutModel",
          "model_module_version": "1.2.0",
          "state": {
            "_model_module": "@jupyter-widgets/base",
            "_model_module_version": "1.2.0",
            "_model_name": "LayoutModel",
            "_view_count": null,
            "_view_module": "@jupyter-widgets/base",
            "_view_module_version": "1.2.0",
            "_view_name": "LayoutView",
            "align_content": null,
            "align_items": null,
            "align_self": null,
            "border": null,
            "bottom": null,
            "display": null,
            "flex": null,
            "flex_flow": null,
            "grid_area": null,
            "grid_auto_columns": null,
            "grid_auto_flow": null,
            "grid_auto_rows": null,
            "grid_column": null,
            "grid_gap": null,
            "grid_row": null,
            "grid_template_areas": null,
            "grid_template_columns": null,
            "grid_template_rows": null,
            "height": null,
            "justify_content": null,
            "justify_items": null,
            "left": null,
            "margin": null,
            "max_height": null,
            "max_width": null,
            "min_height": null,
            "min_width": null,
            "object_fit": null,
            "object_position": null,
            "order": null,
            "overflow": null,
            "overflow_x": null,
            "overflow_y": null,
            "padding": null,
            "right": null,
            "top": null,
            "visibility": null,
            "width": null
          }
        },
        "36fa7cc9c8744bfc9b97c68979fbcafa": {
          "model_module": "@jupyter-widgets/controls",
          "model_name": "DescriptionStyleModel",
          "model_module_version": "1.5.0",
          "state": {
            "_model_module": "@jupyter-widgets/controls",
            "_model_module_version": "1.5.0",
            "_model_name": "DescriptionStyleModel",
            "_view_count": null,
            "_view_module": "@jupyter-widgets/base",
            "_view_module_version": "1.2.0",
            "_view_name": "StyleView",
            "description_width": ""
          }
        }
      }
    }
  },
  "cells": [
    {
      "cell_type": "markdown",
      "metadata": {
        "id": "view-in-github",
        "colab_type": "text"
      },
      "source": [
        "<a href=\"https://colab.research.google.com/github/Chiamakac/TRAININGS/blob/main/Alignment/Projection_Work/Nnwale_Awesome_align_demo.ipynb\" target=\"_parent\"><img src=\"https://colab.research.google.com/assets/colab-badge.svg\" alt=\"Open In Colab\"/></a>"
      ]
    },
    {
      "cell_type": "markdown",
      "metadata": {
        "id": "Hjc7LvIQbuMn"
      },
      "source": [
        "# AWESOME: Aligning Word Embedding Spaces of Multilingual Encoders"
      ]
    },
    {
      "cell_type": "markdown",
      "metadata": {
        "id": "7ipxcuO9vDgZ"
      },
      "source": [
        "[``awesome-align``](https://github.com/neulab/awesome-align) is a tool that can extract word alignments from multilingual BERT (mBERT) and allows you to fine-tune mBERT on parallel corpora for better alignment quality (see [our paper](https://arxiv.org/abs/2101.08231) for more details).\n",
        "\n",
        "This is a simple demo of how `awesome-align` extracts word alignments from mBERT."
      ]
    },
    {
      "cell_type": "markdown",
      "metadata": {
        "id": "bJpRK-1_wQsJ"
      },
      "source": [
        "First, install and import the following packages. (Note that the original `awesome-align` tool does not require the `transformers` package.)"
      ]
    },
    {
      "cell_type": "code",
      "metadata": {
        "id": "ODwJ_gQ8bnqR",
        "colab": {
          "base_uri": "https://localhost:8080/"
        },
        "outputId": "ef22e7a3-a9a2-4018-bf6a-188353262e1c"
      },
      "source": [
        "!pip install transformers==3.1.0\n",
        "import torch\n",
        "import transformers\n",
        "import itertools"
      ],
      "execution_count": 1,
      "outputs": [
        {
          "output_type": "stream",
          "name": "stdout",
          "text": [
            "Collecting transformers==3.1.0\n",
            "  Downloading transformers-3.1.0-py3-none-any.whl (884 kB)\n",
            "\u001b[?25l\r\u001b[K     |▍                               | 10 kB 22.7 MB/s eta 0:00:01\r\u001b[K     |▊                               | 20 kB 23.8 MB/s eta 0:00:01\r\u001b[K     |█▏                              | 30 kB 14.7 MB/s eta 0:00:01\r\u001b[K     |█▌                              | 40 kB 10.5 MB/s eta 0:00:01\r\u001b[K     |█▉                              | 51 kB 6.5 MB/s eta 0:00:01\r\u001b[K     |██▎                             | 61 kB 7.6 MB/s eta 0:00:01\r\u001b[K     |██▋                             | 71 kB 7.9 MB/s eta 0:00:01\r\u001b[K     |███                             | 81 kB 7.5 MB/s eta 0:00:01\r\u001b[K     |███▍                            | 92 kB 8.2 MB/s eta 0:00:01\r\u001b[K     |███▊                            | 102 kB 7.6 MB/s eta 0:00:01\r\u001b[K     |████                            | 112 kB 7.6 MB/s eta 0:00:01\r\u001b[K     |████▌                           | 122 kB 7.6 MB/s eta 0:00:01\r\u001b[K     |████▉                           | 133 kB 7.6 MB/s eta 0:00:01\r\u001b[K     |█████▏                          | 143 kB 7.6 MB/s eta 0:00:01\r\u001b[K     |█████▋                          | 153 kB 7.6 MB/s eta 0:00:01\r\u001b[K     |██████                          | 163 kB 7.6 MB/s eta 0:00:01\r\u001b[K     |██████▎                         | 174 kB 7.6 MB/s eta 0:00:01\r\u001b[K     |██████▊                         | 184 kB 7.6 MB/s eta 0:00:01\r\u001b[K     |███████                         | 194 kB 7.6 MB/s eta 0:00:01\r\u001b[K     |███████▍                        | 204 kB 7.6 MB/s eta 0:00:01\r\u001b[K     |███████▉                        | 215 kB 7.6 MB/s eta 0:00:01\r\u001b[K     |████████▏                       | 225 kB 7.6 MB/s eta 0:00:01\r\u001b[K     |████████▌                       | 235 kB 7.6 MB/s eta 0:00:01\r\u001b[K     |█████████                       | 245 kB 7.6 MB/s eta 0:00:01\r\u001b[K     |█████████▎                      | 256 kB 7.6 MB/s eta 0:00:01\r\u001b[K     |█████████▋                      | 266 kB 7.6 MB/s eta 0:00:01\r\u001b[K     |██████████                      | 276 kB 7.6 MB/s eta 0:00:01\r\u001b[K     |██████████▍                     | 286 kB 7.6 MB/s eta 0:00:01\r\u001b[K     |██████████▊                     | 296 kB 7.6 MB/s eta 0:00:01\r\u001b[K     |███████████▏                    | 307 kB 7.6 MB/s eta 0:00:01\r\u001b[K     |███████████▌                    | 317 kB 7.6 MB/s eta 0:00:01\r\u001b[K     |███████████▉                    | 327 kB 7.6 MB/s eta 0:00:01\r\u001b[K     |████████████▎                   | 337 kB 7.6 MB/s eta 0:00:01\r\u001b[K     |████████████▋                   | 348 kB 7.6 MB/s eta 0:00:01\r\u001b[K     |█████████████                   | 358 kB 7.6 MB/s eta 0:00:01\r\u001b[K     |█████████████▍                  | 368 kB 7.6 MB/s eta 0:00:01\r\u001b[K     |█████████████▊                  | 378 kB 7.6 MB/s eta 0:00:01\r\u001b[K     |██████████████                  | 389 kB 7.6 MB/s eta 0:00:01\r\u001b[K     |██████████████▌                 | 399 kB 7.6 MB/s eta 0:00:01\r\u001b[K     |██████████████▉                 | 409 kB 7.6 MB/s eta 0:00:01\r\u001b[K     |███████████████▏                | 419 kB 7.6 MB/s eta 0:00:01\r\u001b[K     |███████████████▋                | 430 kB 7.6 MB/s eta 0:00:01\r\u001b[K     |████████████████                | 440 kB 7.6 MB/s eta 0:00:01\r\u001b[K     |████████████████▎               | 450 kB 7.6 MB/s eta 0:00:01\r\u001b[K     |████████████████▊               | 460 kB 7.6 MB/s eta 0:00:01\r\u001b[K     |█████████████████               | 471 kB 7.6 MB/s eta 0:00:01\r\u001b[K     |█████████████████▍              | 481 kB 7.6 MB/s eta 0:00:01\r\u001b[K     |█████████████████▉              | 491 kB 7.6 MB/s eta 0:00:01\r\u001b[K     |██████████████████▏             | 501 kB 7.6 MB/s eta 0:00:01\r\u001b[K     |██████████████████▌             | 512 kB 7.6 MB/s eta 0:00:01\r\u001b[K     |███████████████████             | 522 kB 7.6 MB/s eta 0:00:01\r\u001b[K     |███████████████████▎            | 532 kB 7.6 MB/s eta 0:00:01\r\u001b[K     |███████████████████▋            | 542 kB 7.6 MB/s eta 0:00:01\r\u001b[K     |████████████████████            | 552 kB 7.6 MB/s eta 0:00:01\r\u001b[K     |████████████████████▍           | 563 kB 7.6 MB/s eta 0:00:01\r\u001b[K     |████████████████████▊           | 573 kB 7.6 MB/s eta 0:00:01\r\u001b[K     |█████████████████████▏          | 583 kB 7.6 MB/s eta 0:00:01\r\u001b[K     |█████████████████████▌          | 593 kB 7.6 MB/s eta 0:00:01\r\u001b[K     |█████████████████████▉          | 604 kB 7.6 MB/s eta 0:00:01\r\u001b[K     |██████████████████████▎         | 614 kB 7.6 MB/s eta 0:00:01\r\u001b[K     |██████████████████████▋         | 624 kB 7.6 MB/s eta 0:00:01\r\u001b[K     |███████████████████████         | 634 kB 7.6 MB/s eta 0:00:01\r\u001b[K     |███████████████████████▍        | 645 kB 7.6 MB/s eta 0:00:01\r\u001b[K     |███████████████████████▊        | 655 kB 7.6 MB/s eta 0:00:01\r\u001b[K     |████████████████████████        | 665 kB 7.6 MB/s eta 0:00:01\r\u001b[K     |████████████████████████▌       | 675 kB 7.6 MB/s eta 0:00:01\r\u001b[K     |████████████████████████▉       | 686 kB 7.6 MB/s eta 0:00:01\r\u001b[K     |█████████████████████████▏      | 696 kB 7.6 MB/s eta 0:00:01\r\u001b[K     |█████████████████████████▋      | 706 kB 7.6 MB/s eta 0:00:01\r\u001b[K     |██████████████████████████      | 716 kB 7.6 MB/s eta 0:00:01\r\u001b[K     |██████████████████████████▎     | 727 kB 7.6 MB/s eta 0:00:01\r\u001b[K     |██████████████████████████▊     | 737 kB 7.6 MB/s eta 0:00:01\r\u001b[K     |███████████████████████████     | 747 kB 7.6 MB/s eta 0:00:01\r\u001b[K     |███████████████████████████▍    | 757 kB 7.6 MB/s eta 0:00:01\r\u001b[K     |███████████████████████████▉    | 768 kB 7.6 MB/s eta 0:00:01\r\u001b[K     |████████████████████████████▏   | 778 kB 7.6 MB/s eta 0:00:01\r\u001b[K     |████████████████████████████▌   | 788 kB 7.6 MB/s eta 0:00:01\r\u001b[K     |█████████████████████████████   | 798 kB 7.6 MB/s eta 0:00:01\r\u001b[K     |█████████████████████████████▎  | 808 kB 7.6 MB/s eta 0:00:01\r\u001b[K     |█████████████████████████████▋  | 819 kB 7.6 MB/s eta 0:00:01\r\u001b[K     |██████████████████████████████  | 829 kB 7.6 MB/s eta 0:00:01\r\u001b[K     |██████████████████████████████▍ | 839 kB 7.6 MB/s eta 0:00:01\r\u001b[K     |██████████████████████████████▊ | 849 kB 7.6 MB/s eta 0:00:01\r\u001b[K     |███████████████████████████████▏| 860 kB 7.6 MB/s eta 0:00:01\r\u001b[K     |███████████████████████████████▌| 870 kB 7.6 MB/s eta 0:00:01\r\u001b[K     |███████████████████████████████▉| 880 kB 7.6 MB/s eta 0:00:01\r\u001b[K     |████████████████████████████████| 884 kB 7.6 MB/s \n",
            "\u001b[?25hRequirement already satisfied: numpy in /usr/local/lib/python3.7/dist-packages (from transformers==3.1.0) (1.21.5)\n",
            "Requirement already satisfied: packaging in /usr/local/lib/python3.7/dist-packages (from transformers==3.1.0) (21.3)\n",
            "Collecting tokenizers==0.8.1.rc2\n",
            "  Downloading tokenizers-0.8.1rc2-cp37-cp37m-manylinux1_x86_64.whl (3.0 MB)\n",
            "\u001b[K     |████████████████████████████████| 3.0 MB 11.4 MB/s \n",
            "\u001b[?25hRequirement already satisfied: filelock in /usr/local/lib/python3.7/dist-packages (from transformers==3.1.0) (3.6.0)\n",
            "Collecting sacremoses\n",
            "  Downloading sacremoses-0.0.47-py2.py3-none-any.whl (895 kB)\n",
            "\u001b[K     |████████████████████████████████| 895 kB 23.9 MB/s \n",
            "\u001b[?25hRequirement already satisfied: regex!=2019.12.17 in /usr/local/lib/python3.7/dist-packages (from transformers==3.1.0) (2019.12.20)\n",
            "Collecting sentencepiece!=0.1.92\n",
            "  Downloading sentencepiece-0.1.96-cp37-cp37m-manylinux_2_17_x86_64.manylinux2014_x86_64.whl (1.2 MB)\n",
            "\u001b[K     |████████████████████████████████| 1.2 MB 39.1 MB/s \n",
            "\u001b[?25hRequirement already satisfied: requests in /usr/local/lib/python3.7/dist-packages (from transformers==3.1.0) (2.23.0)\n",
            "Requirement already satisfied: tqdm>=4.27 in /usr/local/lib/python3.7/dist-packages (from transformers==3.1.0) (4.63.0)\n",
            "Requirement already satisfied: pyparsing!=3.0.5,>=2.0.2 in /usr/local/lib/python3.7/dist-packages (from packaging->transformers==3.1.0) (3.0.7)\n",
            "Requirement already satisfied: certifi>=2017.4.17 in /usr/local/lib/python3.7/dist-packages (from requests->transformers==3.1.0) (2021.10.8)\n",
            "Requirement already satisfied: urllib3!=1.25.0,!=1.25.1,<1.26,>=1.21.1 in /usr/local/lib/python3.7/dist-packages (from requests->transformers==3.1.0) (1.24.3)\n",
            "Requirement already satisfied: chardet<4,>=3.0.2 in /usr/local/lib/python3.7/dist-packages (from requests->transformers==3.1.0) (3.0.4)\n",
            "Requirement already satisfied: idna<3,>=2.5 in /usr/local/lib/python3.7/dist-packages (from requests->transformers==3.1.0) (2.10)\n",
            "Requirement already satisfied: six in /usr/local/lib/python3.7/dist-packages (from sacremoses->transformers==3.1.0) (1.15.0)\n",
            "Requirement already satisfied: click in /usr/local/lib/python3.7/dist-packages (from sacremoses->transformers==3.1.0) (7.1.2)\n",
            "Requirement already satisfied: joblib in /usr/local/lib/python3.7/dist-packages (from sacremoses->transformers==3.1.0) (1.1.0)\n",
            "Installing collected packages: tokenizers, sentencepiece, sacremoses, transformers\n",
            "Successfully installed sacremoses-0.0.47 sentencepiece-0.1.96 tokenizers-0.8.1rc2 transformers-3.1.0\n"
          ]
        }
      ]
    },
    {
      "cell_type": "markdown",
      "metadata": {
        "id": "QRvfawCbw2i7"
      },
      "source": [
        "Load the multilingual BERT model and its tokenizer."
      ]
    },
    {
      "cell_type": "code",
      "metadata": {
        "id": "9aPvLqT7eiry",
        "colab": {
          "base_uri": "https://localhost:8080/",
          "height": 113,
          "referenced_widgets": [
            "0602ffefdf7747c5ae9774d86a876aa6",
            "8a0eb9747b9846fd9348fd7af0aa9da6",
            "e80a449b30644da2afcfa5dfe822efe9",
            "051df86e6bdb4f0797c9dd7cd12a920d",
            "8dc14c6f29a14a5b879cdd6590079d57",
            "da84daa77e3c47a2a4bc02abd2a4bcf5",
            "54bad35ee8e9459e987fae38f8100334",
            "b5dfe78b8e9d409d89bc9d629073a661",
            "7d42cbed9699469ebb7b1e0d330632c3",
            "225f04e33a7948b9b9469412c9c7e885",
            "bc3e75f8fb7b47c78fcddb073193b3b6",
            "a68a9318e15b4d159186d24787ff9fdc",
            "2d3e393733154f4aa1c2fe9318e91b8d",
            "3499ca3fc44c4b8fa9dbf0a30fee4971",
            "570e4bc2505b4c659ee61bdaa0b0c2fb",
            "a2f6ee67d83c448c9e851573e6af5b27",
            "e8f9304cc906437d93311e6185a66834",
            "c52f25049f8742bc8d6f817fbe4ed45a",
            "4d551cee40b04ea294ac6d2b870466c5",
            "8ff7b4a04c054d939853810406169865",
            "d4cbf7c035c74fdb967099d96ead8bde",
            "b68e4b540edd40a3864871c6f2abaf20",
            "c23bf08ce110430081e5d36b79eaca1f",
            "d00887992a0343cc9240756aec2df2f4",
            "a2dacffa870e44ba865176362f11b82a",
            "79fb5025f2e1414084276e3990bf2463",
            "40b5739ad2f046c1aa3415305cecf81f",
            "0e43af056f2c49b191ef4776314841ea",
            "752578feff1742a8b419ffd1e42f4b1d",
            "3317289b98c54be499e7181df1ab9b56",
            "86ccdb10632a4c0a89999957039b83eb",
            "67df274fea1540fabdfec820dc8b656d",
            "36fa7cc9c8744bfc9b97c68979fbcafa"
          ]
        },
        "outputId": "468dee95-cf00-46ea-90a8-c76d7de654c0"
      },
      "source": [
        "model = transformers.BertModel.from_pretrained('bert-base-multilingual-cased')\n",
        "tokenizer = transformers.BertTokenizer.from_pretrained('bert-base-multilingual-cased')"
      ],
      "execution_count": 2,
      "outputs": [
        {
          "output_type": "display_data",
          "data": {
            "text/plain": [
              "Downloading:   0%|          | 0.00/625 [00:00<?, ?B/s]"
            ],
            "application/vnd.jupyter.widget-view+json": {
              "version_major": 2,
              "version_minor": 0,
              "model_id": "0602ffefdf7747c5ae9774d86a876aa6"
            }
          },
          "metadata": {}
        },
        {
          "output_type": "display_data",
          "data": {
            "text/plain": [
              "Downloading:   0%|          | 0.00/714M [00:00<?, ?B/s]"
            ],
            "application/vnd.jupyter.widget-view+json": {
              "version_major": 2,
              "version_minor": 0,
              "model_id": "a68a9318e15b4d159186d24787ff9fdc"
            }
          },
          "metadata": {}
        },
        {
          "output_type": "display_data",
          "data": {
            "text/plain": [
              "Downloading:   0%|          | 0.00/996k [00:00<?, ?B/s]"
            ],
            "application/vnd.jupyter.widget-view+json": {
              "version_major": 2,
              "version_minor": 0,
              "model_id": "c23bf08ce110430081e5d36b79eaca1f"
            }
          },
          "metadata": {}
        }
      ]
    },
    {
      "cell_type": "markdown",
      "source": [
        "### Prepare input sentences\n",
        "\n",
        "\n",
        "1.   Read the English text file and store the sentences in a list `ensents = [en_sent1, en_sent2, ..., en_sentn]`\n",
        "2.   Do the same for the Igbo text file `igsents = [ig_sent1, ig_sent2, ..., ig_sentn]`\n",
        "\n",
        "3.   Store each sentence pair tuple in a list file `en_ig_sents = [(en_sent1, ig_sent1), (en_sent2, ig_sent2), ..., (en_sentn, ig_sentn)]\n",
        "\n"
      ],
      "metadata": {
        "id": "rjWB92jk0p-K"
      }
    },
    {
      "cell_type": "markdown",
      "metadata": {
        "id": "6RPxlavmxNmj"
      },
      "source": [
        "Input *tokenized* source and target sentences."
      ]
    },
    {
      "cell_type": "code",
      "source": [
        "!wget -c https://raw.githubusercontent.com/Chiamakac/TRAININGS/main/Alignment/nnwale.en\n",
        "!wget -c https://raw.githubusercontent.com/Chiamakac/TRAININGS/main/Alignment/nnwale.ig"
      ],
      "metadata": {
        "id": "zjp9phfHG2R3",
        "colab": {
          "base_uri": "https://localhost:8080/"
        },
        "outputId": "fe7269d2-9330-479b-8648-55fa6d349087"
      },
      "execution_count": 3,
      "outputs": [
        {
          "output_type": "stream",
          "name": "stdout",
          "text": [
            "--2022-03-14 13:01:13--  https://raw.githubusercontent.com/Chiamakac/TRAININGS/main/Alignment/nnwale.en\n",
            "Resolving raw.githubusercontent.com (raw.githubusercontent.com)... 185.199.110.133, 185.199.109.133, 185.199.108.133, ...\n",
            "Connecting to raw.githubusercontent.com (raw.githubusercontent.com)|185.199.110.133|:443... connected.\n",
            "HTTP request sent, awaiting response... 200 OK\n",
            "Length: 14382 (14K) [text/plain]\n",
            "Saving to: ‘nnwale.en’\n",
            "\n",
            "nnwale.en           100%[===================>]  14.04K  --.-KB/s    in 0s      \n",
            "\n",
            "2022-03-14 13:01:14 (73.5 MB/s) - ‘nnwale.en’ saved [14382/14382]\n",
            "\n",
            "--2022-03-14 13:01:14--  https://raw.githubusercontent.com/Chiamakac/TRAININGS/main/Alignment/nnwale.ig\n",
            "Resolving raw.githubusercontent.com (raw.githubusercontent.com)... 185.199.108.133, 185.199.109.133, 185.199.110.133, ...\n",
            "Connecting to raw.githubusercontent.com (raw.githubusercontent.com)|185.199.108.133|:443... connected.\n",
            "HTTP request sent, awaiting response... 200 OK\n",
            "Length: 16403 (16K) [text/plain]\n",
            "Saving to: ‘nnwale.ig’\n",
            "\n",
            "nnwale.ig           100%[===================>]  16.02K  --.-KB/s    in 0s      \n",
            "\n",
            "2022-03-14 13:01:14 (71.7 MB/s) - ‘nnwale.ig’ saved [16403/16403]\n",
            "\n"
          ]
        }
      ]
    },
    {
      "cell_type": "code",
      "source": [
        "# opening the file in read mode\n",
        "en_file = open(\"/content/nnwale.en\", \"r\")\n",
        "\n",
        "# reading the file\n",
        "ensents = en_file.read()\n",
        "\n",
        "# replacing end splitting the text when newline ('\\n') is seen.\n",
        "ensents = ensents.split(\"\\n\")\n",
        "# print(ensents)\n",
        "# en_file.close()"
      ],
      "metadata": {
        "id": "VpTO-NPlqYFf"
      },
      "execution_count": 6,
      "outputs": []
    },
    {
      "cell_type": "code",
      "source": [
        "# opening the file in read mode\n",
        "ig_file = open(\"/content/nnwale.ig\", \"r\")\n",
        "\n",
        "# reading the file\n",
        "igsents = ig_file.read()\n",
        "\n",
        "# replacing end splitting the text\n",
        "# when newline ('\\n') is seen.\n",
        "igsents = igsents.split(\"\\n\")\n",
        "# print(igsents)\n",
        "# ig_file.close()"
      ],
      "metadata": {
        "id": "-UxAmVAk1ets"
      },
      "execution_count": 8,
      "outputs": []
    },
    {
      "cell_type": "code",
      "source": [
        "# Python zip() function can be used to map the lists altogether \n",
        "# to create a list of tuples using the command:list(zip(list))\n",
        "lst1 = ensents\n",
        "lst2 = igsents\n",
        "en_ig_sents = list(zip(lst1,lst2))"
      ],
      "metadata": {
        "id": "vbDUuuyRl-9Z"
      },
      "execution_count": null,
      "outputs": []
    },
    {
      "cell_type": "code",
      "source": [
        "en_ig_sents"
      ],
      "metadata": {
        "id": "UPffitinkpWW"
      },
      "execution_count": null,
      "outputs": []
    },
    {
      "cell_type": "markdown",
      "metadata": {
        "id": "HpUa-ZqUxZ8Z"
      },
      "source": [
        "Run the model and print the resulting alignments."
      ]
    },
    {
      "cell_type": "code",
      "source": [
        "for src,tgt in en_ig_sents:\n",
        "  sent_src, sent_tgt = src.strip().split(), tgt.strip().split()\n",
        "  token_src, token_tgt = [tokenizer.tokenize(word) for word in sent_src], [tokenizer.tokenize(word) for word in sent_tgt]\n",
        "  wid_src, wid_tgt = [tokenizer.convert_tokens_to_ids(x) for x in token_src], [tokenizer.convert_tokens_to_ids(x) for x in token_tgt]\n",
        "  ids_src, ids_tgt = tokenizer.prepare_for_model(list(itertools.chain(*wid_src)), return_tensors='pt', model_max_length=tokenizer.model_max_length, truncation=True)['input_ids'], tokenizer.prepare_for_model(list(itertools.chain(*wid_tgt)), return_tensors='pt', truncation=True, model_max_length=tokenizer.model_max_length)['input_ids']\n",
        "  sub2word_map_src = []\n",
        "  for i, word_list in enumerate(token_src):\n",
        "    sub2word_map_src += [i for x in word_list]\n",
        "  sub2word_map_tgt = []\n",
        "  for i, word_list in enumerate(token_tgt):\n",
        "    sub2word_map_tgt += [i for x in word_list]\n",
        "\n",
        "  # alignment\n",
        "  align_layer = 8\n",
        "  threshold = 1e-3\n",
        "  model.eval()\n",
        "  with torch.no_grad():\n",
        "    out_src = model(ids_src.unsqueeze(0), output_hidden_states=True)[2][align_layer][0, 1:-1]\n",
        "    out_tgt = model(ids_tgt.unsqueeze(0), output_hidden_states=True)[2][align_layer][0, 1:-1]\n",
        "\n",
        "    dot_prod = torch.matmul(out_src, out_tgt.transpose(-1, -2))\n",
        "\n",
        "    softmax_srctgt = torch.nn.Softmax(dim=-1)(dot_prod)\n",
        "    softmax_tgtsrc = torch.nn.Softmax(dim=-2)(dot_prod)\n",
        "\n",
        "    softmax_inter = (softmax_srctgt > threshold)*(softmax_tgtsrc > threshold)\n",
        "\n",
        "  align_subwords = torch.nonzero(softmax_inter, as_tuple=False)\n",
        "  align_words = set()\n",
        "  for i, j in align_subwords:\n",
        "    align_words.add( (sub2word_map_src[i], sub2word_map_tgt[j]) )\n",
        "\n",
        "  # printing\n",
        "  class color:\n",
        "    PURPLE = '\\033[95m'\n",
        "    CYAN = '\\033[96m'\n",
        "    DARKCYAN = '\\033[36m'\n",
        "    BLUE = '\\033[94m'\n",
        "    GREEN = '\\033[92m'\n",
        "    YELLOW = '\\033[93m'\n",
        "    RED = '\\033[91m'\n",
        "    BOLD = '\\033[1m'\n",
        "    UNDERLINE = '\\033[4m'\n",
        "    END = '\\033[0m'\n",
        "\n",
        "# for i, j in sorted(align_words):\n",
        "  # print(f'{color.BOLD}{color.BLUE}{sent_src[i]}{color.END}==={color.BOLD}{color.RED}{sent_tgt[j]}{color.END}')\n",
        "\n",
        "for i, j in sorted(align_words):\n",
        "  print(f'{sent_src[i]}:{sent_tgt[j]}')"
      ],
      "metadata": {
        "id": "nsuKA1zZuYuH",
        "colab": {
          "base_uri": "https://localhost:8080/"
        },
        "outputId": "cce7d033-011b-40d9-9d06-36a22243884a"
      },
      "execution_count": 13,
      "outputs": [
        {
          "output_type": "stream",
          "name": "stdout",
          "text": [
            "The:Akwụkwọ\n",
            "Determination:Akwụkwọ\n",
            "Determination:Sepụtemba\n",
            "envisaged:gaa\n",
            "envisaged:enyere\n",
            "the:gaa\n",
            "implementation:gaa\n",
            "the:tinyere\n",
            "USSD:USSD\n",
            "charges:site\n",
            "the:'mobile\n",
            "mobile:'mobile\n",
            "network:network\n",
            "operators:operators'\n",
            "(MNOs):(MNOs)\n",
            "September:n'afọ\n",
            "1,:n'afọ\n",
            "2019,:2019\n",
            "valid:Sepụtemba\n",
            "licensees:ahụ.\n"
          ]
        }
      ]
    }
  ]
}