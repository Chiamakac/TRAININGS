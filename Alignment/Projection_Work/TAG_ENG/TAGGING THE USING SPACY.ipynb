{
  "nbformat": 4,
  "nbformat_minor": 0,
  "metadata": {
    "colab": {
      "provenance": [],
      "authorship_tag": "ABX9TyM1Swy2icNKT7E6S70QruBM",
      "include_colab_link": true
    },
    "kernelspec": {
      "name": "python3",
      "display_name": "Python 3"
    },
    "language_info": {
      "name": "python"
    }
  },
  "cells": [
    {
      "cell_type": "markdown",
      "metadata": {
        "id": "view-in-github",
        "colab_type": "text"
      },
      "source": [
        "<a href=\"https://colab.research.google.com/github/Chiamakac/TRAININGS/blob/main/Alignment/Projection_Work/TAG_ENG/TAGGING%20THE%20USING%20SPACY.ipynb\" target=\"_parent\"><img src=\"https://colab.research.google.com/assets/colab-badge.svg\" alt=\"Open In Colab\"/></a>"
      ]
    },
    {
      "cell_type": "markdown",
      "source": [
        "**TAGGING THE USING SPACY**"
      ],
      "metadata": {
        "id": "1xHuG8tth_kU"
      }
    },
    {
      "cell_type": "code",
      "source": [
        "import spacy"
      ],
      "metadata": {
        "id": "CbLJPXUyvXpz"
      },
      "execution_count": null,
      "outputs": []
    },
    {
      "cell_type": "code",
      "source": [
        "!wget -c https://raw.githubusercontent.com/Chiamakac/TRAININGS/main/Alignment/Projection_Work/test_train_val_en.txt"
      ],
      "metadata": {
        "colab": {
          "base_uri": "https://localhost:8080/"
        },
        "id": "CW9bG5ExibsU",
        "outputId": "cfc15085-0f6a-4712-fd39-18aa6fb9ab5a"
      },
      "execution_count": null,
      "outputs": [
        {
          "output_type": "stream",
          "name": "stdout",
          "text": [
            "--2022-09-05 18:25:18--  https://raw.githubusercontent.com/Chiamakac/TRAININGS/main/Alignment/Projection_Work/test_train_val_en.txt\n",
            "Resolving raw.githubusercontent.com (raw.githubusercontent.com)... 185.199.109.133, 185.199.111.133, 185.199.110.133, ...\n",
            "Connecting to raw.githubusercontent.com (raw.githubusercontent.com)|185.199.109.133|:443... connected.\n",
            "HTTP request sent, awaiting response... 200 OK\n",
            "Length: 1195570 (1.1M) [text/plain]\n",
            "Saving to: ‘test_train_val_en.txt’\n",
            "\n",
            "test_train_val_en.t 100%[===================>]   1.14M  --.-KB/s    in 0.05s   \n",
            "\n",
            "2022-09-05 18:25:18 (21.3 MB/s) - ‘test_train_val_en.txt’ saved [1195570/1195570]\n",
            "\n"
          ]
        }
      ]
    },
    {
      "cell_type": "code",
      "source": [
        "nlp = spacy.load(\"en_core_web_sm\")\n",
        "# opening the file in read mode\n",
        "# en_file = open(\"/content/test_train_val_en.txt, \"r\")"
      ],
      "metadata": {
        "id": "AfNMw4WwiwF9"
      },
      "execution_count": null,
      "outputs": []
    },
    {
      "cell_type": "code",
      "source": [
        "en_file = open(\"/content/test_train_val_en.txt\", \"r\")\n",
        "with open('en_tags.txt', 'w') as outputfile:\n",
        "  for i, line in enumerate(en_file.readlines()):\n",
        "    doc = nlp(line)\n",
        "    tag_list = []\n",
        "    for ent in doc.ents:\n",
        "      tag_list.append(f\"{ent.text}, {ent.label_}\")\n",
        "    if tag_list:\n",
        "      # print(i, '|'.join(tag_list))\n",
        "      outputfile.write(f\"{i}, {'|'.join(tag_list)}\\n\")"
      ],
      "metadata": {
        "id": "k88zfeNbl4xA"
      },
      "execution_count": null,
      "outputs": []
    }
  ]
}