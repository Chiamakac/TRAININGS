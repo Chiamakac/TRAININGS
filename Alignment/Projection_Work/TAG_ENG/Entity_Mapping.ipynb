{
  "nbformat": 4,
  "nbformat_minor": 0,
  "metadata": {
    "colab": {
      "provenance": [],
      "collapsed_sections": [],
      "include_colab_link": true
    },
    "kernelspec": {
      "name": "python3",
      "display_name": "Python 3"
    },
    "language_info": {
      "name": "python"
    }
  },
  "cells": [
    {
      "cell_type": "markdown",
      "metadata": {
        "id": "view-in-github",
        "colab_type": "text"
      },
      "source": [
        "<a href=\"https://colab.research.google.com/github/Chiamakac/TRAININGS/blob/main/Alignment/Projection_Work/TAG_ENG/Entity_Mapping.ipynb\" target=\"_parent\"><img src=\"https://colab.research.google.com/assets/colab-badge.svg\" alt=\"Open In Colab\"/></a>"
      ]
    },
    {
      "cell_type": "code",
      "execution_count": null,
      "metadata": {
        "id": "cUc7uAhazRQd"
      },
      "outputs": [],
      "source": [
        "# 1. Read in the English text\n",
        "# 2. Read in the Igbo text\n",
        "# 3. Read in the English tagged text"
      ]
    },
    {
      "cell_type": "code",
      "source": [
        "from collections import Counter"
      ],
      "metadata": {
        "id": "AntOJFm72y5n"
      },
      "execution_count": 1,
      "outputs": []
    },
    {
      "cell_type": "code",
      "source": [
        "!wget -c https://raw.githubusercontent.com/Chiamakac/TRAININGS/main/Alignment/Projection_Work/TAG_ENG/spaCy%20en_tags%20corrected%20FINAL.txt"
      ],
      "metadata": {
        "id": "4CPvkfOa0wUf",
        "colab": {
          "base_uri": "https://localhost:8080/"
        },
        "outputId": "557f2289-8a67-4bbe-dc34-2273fc1dab19"
      },
      "execution_count": 7,
      "outputs": [
        {
          "output_type": "stream",
          "name": "stdout",
          "text": [
            "--2022-09-13 09:51:34--  https://raw.githubusercontent.com/Chiamakac/TRAININGS/main/Alignment/Projection_Work/TAG_ENG/spaCy%20en_tags%20corrected%20FINAL.txt\n",
            "Resolving raw.githubusercontent.com (raw.githubusercontent.com)... 185.199.108.133, 185.199.109.133, 185.199.110.133, ...\n",
            "Connecting to raw.githubusercontent.com (raw.githubusercontent.com)|185.199.108.133|:443... connected.\n",
            "HTTP request sent, awaiting response... 200 OK\n",
            "Length: 288470 (282K) [text/plain]\n",
            "Saving to: ‘spaCy en_tags corrected FINAL.txt’\n",
            "\n",
            "\r          spaCy en_   0%[                    ]       0  --.-KB/s               \rspaCy en_tags corre 100%[===================>] 281.71K  --.-KB/s    in 0.01s   \n",
            "\n",
            "2022-09-13 09:51:34 (25.2 MB/s) - ‘spaCy en_tags corrected FINAL.txt’ saved [288470/288470]\n",
            "\n"
          ]
        }
      ]
    },
    {
      "cell_type": "code",
      "source": [
        "tagged_sents = open('/content/spaCy en_tags corrected FINAL.txt').readlines()"
      ],
      "metadata": {
        "id": "na6cPJEQ2E4H"
      },
      "execution_count": 8,
      "outputs": []
    },
    {
      "cell_type": "code",
      "source": [
        "tagged_entities = []\n",
        "for line in tagged_sents:\n",
        "  _, line = line.strip().split(', ', 1)\n",
        "  tagged_entities.extend(line.split('|'))"
      ],
      "metadata": {
        "id": "b-XvIlYx3uzZ"
      },
      "execution_count": 9,
      "outputs": []
    },
    {
      "cell_type": "code",
      "source": [
        "from traceback import print_tb\n",
        "entity_map = {}\n",
        "for entity_tag in tagged_entities:\n",
        "  try:\n",
        "    entity, tag = entity_tag.rsplit(', ',1)\n",
        "    entity_map.setdefault(entity, []).append(tag)\n",
        "  except ValueError:\n",
        "    print(entity_tag)"
      ],
      "metadata": {
        "id": "gbX6l70s5P08",
        "colab": {
          "base_uri": "https://localhost:8080/"
        },
        "outputId": "096a2d90-af8e-4fb5-b319-defa21ee5861"
      },
      "execution_count": 10,
      "outputs": [
        {
          "output_type": "stream",
          "name": "stdout",
          "text": [
            "\n",
            "\n"
          ]
        }
      ]
    },
    {
      "cell_type": "code",
      "source": [
        "for entity, tags in entity_map.items():\n",
        "  if len(set(tags))>1:\n",
        "    # print(entity, tags)\n",
        "    print(entity, list(Counter(tags).items()))"
      ],
      "metadata": {
        "colab": {
          "base_uri": "https://localhost:8080/"
        },
        "id": "gUunsNOm8EiR",
        "outputId": "e86fdb66-a850-4fdc-f3b1-c78e3afef631"
      },
      "execution_count": 11,
      "outputs": [
        {
          "output_type": "stream",
          "name": "stdout",
          "text": [
            "Sun [('DATE', 5), ('ORG', 8)]\n",
            "Southampton [('ORG', 3), ('LOC', 1)]\n",
            "French [('NORP', 12), ('LANGUAGE', 1)]\n",
            "English [('LANGUAGE', 12), ('NORP', 2)]\n",
            "Tottenham [('LOC', 6), ('ORG', 5)]\n",
            "FA cup [('WORK_OF_ART', 2), ('LAW', 1)]\n",
            "FA [('WORK_OF_ART', 1), ('NORP', 1)]\n",
            "three thousand naira [('CARDINAL', 1), ('QUANTITY', 1)]\n",
            "500 [('MONEY', 1), ('CARDINAL', 3)]\n",
            "100 [('MONEY', 3), ('CARDINAL', 1)]\n",
            "10,000 [('MONEY', 1), ('CARDINAL', 1)]\n",
            "African Cup of Nations [('WORK_OF_ART', 2), ('EVENT', 2)]\n",
            "Barcelona [('LOC', 5), ('ORG', 5)]\n",
            "Nollywood [('ORG', 7), ('LOC', 2)]\n",
            "1000 [('MONEY', 1), ('CARDINAL', 2)]\n",
            "1,000 [('MONEY', 1), ('CARDINAL', 1)]\n",
            "Liverpool [('ORG', 3), ('LOC', 2)]\n",
            "105 [('CARDINAL', 2), ('MONEY', 1)]\n",
            "Coordinator [('PRO', 1), ('PRODUCT', 1)]\n",
            "50 [('MONEY', 1), ('CARDINAL', 4)]\n",
            "Ecclesiastical Provinces [('NORP', 1), ('NORP3', 1)]\n"
          ]
        }
      ]
    }
  ]
}