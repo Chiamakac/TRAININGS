{
  "nbformat": 4,
  "nbformat_minor": 0,
  "metadata": {
    "colab": {
      "name": "Finetuning_awsome_align.ipynb",
      "provenance": [],
      "authorship_tag": "ABX9TyOJiuXmHlXPA5Sn6iRDusVE",
      "include_colab_link": true
    },
    "kernelspec": {
      "name": "python3",
      "display_name": "Python 3"
    },
    "language_info": {
      "name": "python"
    },
    "widgets": {
      "application/vnd.jupyter.widget-state+json": {
        "14368d1d4815450b946b2bc8c9689f0b": {
          "model_module": "@jupyter-widgets/controls",
          "model_name": "HBoxModel",
          "model_module_version": "1.5.0",
          "state": {
            "_dom_classes": [],
            "_model_module": "@jupyter-widgets/controls",
            "_model_module_version": "1.5.0",
            "_model_name": "HBoxModel",
            "_view_count": null,
            "_view_module": "@jupyter-widgets/controls",
            "_view_module_version": "1.5.0",
            "_view_name": "HBoxView",
            "box_style": "",
            "children": [
              "IPY_MODEL_6b8c646e14a549d286347431a5e58256",
              "IPY_MODEL_27e76f04f60543b8ae96ded1ecdbb31e",
              "IPY_MODEL_df404cf1ce044ef2b45c53ecd3e34915"
            ],
            "layout": "IPY_MODEL_b1133277cf29418fa8400a11b68b4387"
          }
        },
        "6b8c646e14a549d286347431a5e58256": {
          "model_module": "@jupyter-widgets/controls",
          "model_name": "HTMLModel",
          "model_module_version": "1.5.0",
          "state": {
            "_dom_classes": [],
            "_model_module": "@jupyter-widgets/controls",
            "_model_module_version": "1.5.0",
            "_model_name": "HTMLModel",
            "_view_count": null,
            "_view_module": "@jupyter-widgets/controls",
            "_view_module_version": "1.5.0",
            "_view_name": "HTMLView",
            "description": "",
            "description_tooltip": null,
            "layout": "IPY_MODEL_5108529ffe034f7297e59fd84b5edbc6",
            "placeholder": "​",
            "style": "IPY_MODEL_1f25fe97568a486383354dc231742f01",
            "value": "Downloading: 100%"
          }
        },
        "27e76f04f60543b8ae96ded1ecdbb31e": {
          "model_module": "@jupyter-widgets/controls",
          "model_name": "FloatProgressModel",
          "model_module_version": "1.5.0",
          "state": {
            "_dom_classes": [],
            "_model_module": "@jupyter-widgets/controls",
            "_model_module_version": "1.5.0",
            "_model_name": "FloatProgressModel",
            "_view_count": null,
            "_view_module": "@jupyter-widgets/controls",
            "_view_module_version": "1.5.0",
            "_view_name": "ProgressView",
            "bar_style": "success",
            "description": "",
            "description_tooltip": null,
            "layout": "IPY_MODEL_b10d94b981c5433eb568a84ac1bc2c0a",
            "max": 625,
            "min": 0,
            "orientation": "horizontal",
            "style": "IPY_MODEL_7505f9141b5943a79c323537167a8aec",
            "value": 625
          }
        },
        "df404cf1ce044ef2b45c53ecd3e34915": {
          "model_module": "@jupyter-widgets/controls",
          "model_name": "HTMLModel",
          "model_module_version": "1.5.0",
          "state": {
            "_dom_classes": [],
            "_model_module": "@jupyter-widgets/controls",
            "_model_module_version": "1.5.0",
            "_model_name": "HTMLModel",
            "_view_count": null,
            "_view_module": "@jupyter-widgets/controls",
            "_view_module_version": "1.5.0",
            "_view_name": "HTMLView",
            "description": "",
            "description_tooltip": null,
            "layout": "IPY_MODEL_4e0f32e14a014c3caf2f83ff5d00b313",
            "placeholder": "​",
            "style": "IPY_MODEL_dc2d67c370fc4d2fa6e4702ecd5c5c63",
            "value": " 625/625 [00:00&lt;00:00, 5.40kB/s]"
          }
        },
        "b1133277cf29418fa8400a11b68b4387": {
          "model_module": "@jupyter-widgets/base",
          "model_name": "LayoutModel",
          "model_module_version": "1.2.0",
          "state": {
            "_model_module": "@jupyter-widgets/base",
            "_model_module_version": "1.2.0",
            "_model_name": "LayoutModel",
            "_view_count": null,
            "_view_module": "@jupyter-widgets/base",
            "_view_module_version": "1.2.0",
            "_view_name": "LayoutView",
            "align_content": null,
            "align_items": null,
            "align_self": null,
            "border": null,
            "bottom": null,
            "display": null,
            "flex": null,
            "flex_flow": null,
            "grid_area": null,
            "grid_auto_columns": null,
            "grid_auto_flow": null,
            "grid_auto_rows": null,
            "grid_column": null,
            "grid_gap": null,
            "grid_row": null,
            "grid_template_areas": null,
            "grid_template_columns": null,
            "grid_template_rows": null,
            "height": null,
            "justify_content": null,
            "justify_items": null,
            "left": null,
            "margin": null,
            "max_height": null,
            "max_width": null,
            "min_height": null,
            "min_width": null,
            "object_fit": null,
            "object_position": null,
            "order": null,
            "overflow": null,
            "overflow_x": null,
            "overflow_y": null,
            "padding": null,
            "right": null,
            "top": null,
            "visibility": null,
            "width": null
          }
        },
        "5108529ffe034f7297e59fd84b5edbc6": {
          "model_module": "@jupyter-widgets/base",
          "model_name": "LayoutModel",
          "model_module_version": "1.2.0",
          "state": {
            "_model_module": "@jupyter-widgets/base",
            "_model_module_version": "1.2.0",
            "_model_name": "LayoutModel",
            "_view_count": null,
            "_view_module": "@jupyter-widgets/base",
            "_view_module_version": "1.2.0",
            "_view_name": "LayoutView",
            "align_content": null,
            "align_items": null,
            "align_self": null,
            "border": null,
            "bottom": null,
            "display": null,
            "flex": null,
            "flex_flow": null,
            "grid_area": null,
            "grid_auto_columns": null,
            "grid_auto_flow": null,
            "grid_auto_rows": null,
            "grid_column": null,
            "grid_gap": null,
            "grid_row": null,
            "grid_template_areas": null,
            "grid_template_columns": null,
            "grid_template_rows": null,
            "height": null,
            "justify_content": null,
            "justify_items": null,
            "left": null,
            "margin": null,
            "max_height": null,
            "max_width": null,
            "min_height": null,
            "min_width": null,
            "object_fit": null,
            "object_position": null,
            "order": null,
            "overflow": null,
            "overflow_x": null,
            "overflow_y": null,
            "padding": null,
            "right": null,
            "top": null,
            "visibility": null,
            "width": null
          }
        },
        "1f25fe97568a486383354dc231742f01": {
          "model_module": "@jupyter-widgets/controls",
          "model_name": "DescriptionStyleModel",
          "model_module_version": "1.5.0",
          "state": {
            "_model_module": "@jupyter-widgets/controls",
            "_model_module_version": "1.5.0",
            "_model_name": "DescriptionStyleModel",
            "_view_count": null,
            "_view_module": "@jupyter-widgets/base",
            "_view_module_version": "1.2.0",
            "_view_name": "StyleView",
            "description_width": ""
          }
        },
        "b10d94b981c5433eb568a84ac1bc2c0a": {
          "model_module": "@jupyter-widgets/base",
          "model_name": "LayoutModel",
          "model_module_version": "1.2.0",
          "state": {
            "_model_module": "@jupyter-widgets/base",
            "_model_module_version": "1.2.0",
            "_model_name": "LayoutModel",
            "_view_count": null,
            "_view_module": "@jupyter-widgets/base",
            "_view_module_version": "1.2.0",
            "_view_name": "LayoutView",
            "align_content": null,
            "align_items": null,
            "align_self": null,
            "border": null,
            "bottom": null,
            "display": null,
            "flex": null,
            "flex_flow": null,
            "grid_area": null,
            "grid_auto_columns": null,
            "grid_auto_flow": null,
            "grid_auto_rows": null,
            "grid_column": null,
            "grid_gap": null,
            "grid_row": null,
            "grid_template_areas": null,
            "grid_template_columns": null,
            "grid_template_rows": null,
            "height": null,
            "justify_content": null,
            "justify_items": null,
            "left": null,
            "margin": null,
            "max_height": null,
            "max_width": null,
            "min_height": null,
            "min_width": null,
            "object_fit": null,
            "object_position": null,
            "order": null,
            "overflow": null,
            "overflow_x": null,
            "overflow_y": null,
            "padding": null,
            "right": null,
            "top": null,
            "visibility": null,
            "width": null
          }
        },
        "7505f9141b5943a79c323537167a8aec": {
          "model_module": "@jupyter-widgets/controls",
          "model_name": "ProgressStyleModel",
          "model_module_version": "1.5.0",
          "state": {
            "_model_module": "@jupyter-widgets/controls",
            "_model_module_version": "1.5.0",
            "_model_name": "ProgressStyleModel",
            "_view_count": null,
            "_view_module": "@jupyter-widgets/base",
            "_view_module_version": "1.2.0",
            "_view_name": "StyleView",
            "bar_color": null,
            "description_width": ""
          }
        },
        "4e0f32e14a014c3caf2f83ff5d00b313": {
          "model_module": "@jupyter-widgets/base",
          "model_name": "LayoutModel",
          "model_module_version": "1.2.0",
          "state": {
            "_model_module": "@jupyter-widgets/base",
            "_model_module_version": "1.2.0",
            "_model_name": "LayoutModel",
            "_view_count": null,
            "_view_module": "@jupyter-widgets/base",
            "_view_module_version": "1.2.0",
            "_view_name": "LayoutView",
            "align_content": null,
            "align_items": null,
            "align_self": null,
            "border": null,
            "bottom": null,
            "display": null,
            "flex": null,
            "flex_flow": null,
            "grid_area": null,
            "grid_auto_columns": null,
            "grid_auto_flow": null,
            "grid_auto_rows": null,
            "grid_column": null,
            "grid_gap": null,
            "grid_row": null,
            "grid_template_areas": null,
            "grid_template_columns": null,
            "grid_template_rows": null,
            "height": null,
            "justify_content": null,
            "justify_items": null,
            "left": null,
            "margin": null,
            "max_height": null,
            "max_width": null,
            "min_height": null,
            "min_width": null,
            "object_fit": null,
            "object_position": null,
            "order": null,
            "overflow": null,
            "overflow_x": null,
            "overflow_y": null,
            "padding": null,
            "right": null,
            "top": null,
            "visibility": null,
            "width": null
          }
        },
        "dc2d67c370fc4d2fa6e4702ecd5c5c63": {
          "model_module": "@jupyter-widgets/controls",
          "model_name": "DescriptionStyleModel",
          "model_module_version": "1.5.0",
          "state": {
            "_model_module": "@jupyter-widgets/controls",
            "_model_module_version": "1.5.0",
            "_model_name": "DescriptionStyleModel",
            "_view_count": null,
            "_view_module": "@jupyter-widgets/base",
            "_view_module_version": "1.2.0",
            "_view_name": "StyleView",
            "description_width": ""
          }
        },
        "e69894504854463b9d5d6410eb35b518": {
          "model_module": "@jupyter-widgets/controls",
          "model_name": "HBoxModel",
          "model_module_version": "1.5.0",
          "state": {
            "_dom_classes": [],
            "_model_module": "@jupyter-widgets/controls",
            "_model_module_version": "1.5.0",
            "_model_name": "HBoxModel",
            "_view_count": null,
            "_view_module": "@jupyter-widgets/controls",
            "_view_module_version": "1.5.0",
            "_view_name": "HBoxView",
            "box_style": "",
            "children": [
              "IPY_MODEL_52b1da358c25498385c6c96460c744f1",
              "IPY_MODEL_eeb1d6df5f5c465ba0026b637069f414",
              "IPY_MODEL_4b777ee7ad814a5a8356046e74a66142"
            ],
            "layout": "IPY_MODEL_85a3a3a2a1bf4ee5834102103a2c5f28"
          }
        },
        "52b1da358c25498385c6c96460c744f1": {
          "model_module": "@jupyter-widgets/controls",
          "model_name": "HTMLModel",
          "model_module_version": "1.5.0",
          "state": {
            "_dom_classes": [],
            "_model_module": "@jupyter-widgets/controls",
            "_model_module_version": "1.5.0",
            "_model_name": "HTMLModel",
            "_view_count": null,
            "_view_module": "@jupyter-widgets/controls",
            "_view_module_version": "1.5.0",
            "_view_name": "HTMLView",
            "description": "",
            "description_tooltip": null,
            "layout": "IPY_MODEL_1c025e6322a24c34867240b1198f2284",
            "placeholder": "​",
            "style": "IPY_MODEL_d08a0bf895f14e9f955a129dd727da3c",
            "value": "Downloading: 100%"
          }
        },
        "eeb1d6df5f5c465ba0026b637069f414": {
          "model_module": "@jupyter-widgets/controls",
          "model_name": "FloatProgressModel",
          "model_module_version": "1.5.0",
          "state": {
            "_dom_classes": [],
            "_model_module": "@jupyter-widgets/controls",
            "_model_module_version": "1.5.0",
            "_model_name": "FloatProgressModel",
            "_view_count": null,
            "_view_module": "@jupyter-widgets/controls",
            "_view_module_version": "1.5.0",
            "_view_name": "ProgressView",
            "bar_style": "success",
            "description": "",
            "description_tooltip": null,
            "layout": "IPY_MODEL_efc01df09cda4c85958d3a9510371ebf",
            "max": 714314041,
            "min": 0,
            "orientation": "horizontal",
            "style": "IPY_MODEL_8a8bb323c3984fdfbe9e2accc61765f1",
            "value": 714314041
          }
        },
        "4b777ee7ad814a5a8356046e74a66142": {
          "model_module": "@jupyter-widgets/controls",
          "model_name": "HTMLModel",
          "model_module_version": "1.5.0",
          "state": {
            "_dom_classes": [],
            "_model_module": "@jupyter-widgets/controls",
            "_model_module_version": "1.5.0",
            "_model_name": "HTMLModel",
            "_view_count": null,
            "_view_module": "@jupyter-widgets/controls",
            "_view_module_version": "1.5.0",
            "_view_name": "HTMLView",
            "description": "",
            "description_tooltip": null,
            "layout": "IPY_MODEL_eabd52bbb7ff43b4b0e5e7cb38bd61cf",
            "placeholder": "​",
            "style": "IPY_MODEL_c6206a6a47c8430392f46a7216c827e8",
            "value": " 681M/681M [00:21&lt;00:00, 42.9MB/s]"
          }
        },
        "85a3a3a2a1bf4ee5834102103a2c5f28": {
          "model_module": "@jupyter-widgets/base",
          "model_name": "LayoutModel",
          "model_module_version": "1.2.0",
          "state": {
            "_model_module": "@jupyter-widgets/base",
            "_model_module_version": "1.2.0",
            "_model_name": "LayoutModel",
            "_view_count": null,
            "_view_module": "@jupyter-widgets/base",
            "_view_module_version": "1.2.0",
            "_view_name": "LayoutView",
            "align_content": null,
            "align_items": null,
            "align_self": null,
            "border": null,
            "bottom": null,
            "display": null,
            "flex": null,
            "flex_flow": null,
            "grid_area": null,
            "grid_auto_columns": null,
            "grid_auto_flow": null,
            "grid_auto_rows": null,
            "grid_column": null,
            "grid_gap": null,
            "grid_row": null,
            "grid_template_areas": null,
            "grid_template_columns": null,
            "grid_template_rows": null,
            "height": null,
            "justify_content": null,
            "justify_items": null,
            "left": null,
            "margin": null,
            "max_height": null,
            "max_width": null,
            "min_height": null,
            "min_width": null,
            "object_fit": null,
            "object_position": null,
            "order": null,
            "overflow": null,
            "overflow_x": null,
            "overflow_y": null,
            "padding": null,
            "right": null,
            "top": null,
            "visibility": null,
            "width": null
          }
        },
        "1c025e6322a24c34867240b1198f2284": {
          "model_module": "@jupyter-widgets/base",
          "model_name": "LayoutModel",
          "model_module_version": "1.2.0",
          "state": {
            "_model_module": "@jupyter-widgets/base",
            "_model_module_version": "1.2.0",
            "_model_name": "LayoutModel",
            "_view_count": null,
            "_view_module": "@jupyter-widgets/base",
            "_view_module_version": "1.2.0",
            "_view_name": "LayoutView",
            "align_content": null,
            "align_items": null,
            "align_self": null,
            "border": null,
            "bottom": null,
            "display": null,
            "flex": null,
            "flex_flow": null,
            "grid_area": null,
            "grid_auto_columns": null,
            "grid_auto_flow": null,
            "grid_auto_rows": null,
            "grid_column": null,
            "grid_gap": null,
            "grid_row": null,
            "grid_template_areas": null,
            "grid_template_columns": null,
            "grid_template_rows": null,
            "height": null,
            "justify_content": null,
            "justify_items": null,
            "left": null,
            "margin": null,
            "max_height": null,
            "max_width": null,
            "min_height": null,
            "min_width": null,
            "object_fit": null,
            "object_position": null,
            "order": null,
            "overflow": null,
            "overflow_x": null,
            "overflow_y": null,
            "padding": null,
            "right": null,
            "top": null,
            "visibility": null,
            "width": null
          }
        },
        "d08a0bf895f14e9f955a129dd727da3c": {
          "model_module": "@jupyter-widgets/controls",
          "model_name": "DescriptionStyleModel",
          "model_module_version": "1.5.0",
          "state": {
            "_model_module": "@jupyter-widgets/controls",
            "_model_module_version": "1.5.0",
            "_model_name": "DescriptionStyleModel",
            "_view_count": null,
            "_view_module": "@jupyter-widgets/base",
            "_view_module_version": "1.2.0",
            "_view_name": "StyleView",
            "description_width": ""
          }
        },
        "efc01df09cda4c85958d3a9510371ebf": {
          "model_module": "@jupyter-widgets/base",
          "model_name": "LayoutModel",
          "model_module_version": "1.2.0",
          "state": {
            "_model_module": "@jupyter-widgets/base",
            "_model_module_version": "1.2.0",
            "_model_name": "LayoutModel",
            "_view_count": null,
            "_view_module": "@jupyter-widgets/base",
            "_view_module_version": "1.2.0",
            "_view_name": "LayoutView",
            "align_content": null,
            "align_items": null,
            "align_self": null,
            "border": null,
            "bottom": null,
            "display": null,
            "flex": null,
            "flex_flow": null,
            "grid_area": null,
            "grid_auto_columns": null,
            "grid_auto_flow": null,
            "grid_auto_rows": null,
            "grid_column": null,
            "grid_gap": null,
            "grid_row": null,
            "grid_template_areas": null,
            "grid_template_columns": null,
            "grid_template_rows": null,
            "height": null,
            "justify_content": null,
            "justify_items": null,
            "left": null,
            "margin": null,
            "max_height": null,
            "max_width": null,
            "min_height": null,
            "min_width": null,
            "object_fit": null,
            "object_position": null,
            "order": null,
            "overflow": null,
            "overflow_x": null,
            "overflow_y": null,
            "padding": null,
            "right": null,
            "top": null,
            "visibility": null,
            "width": null
          }
        },
        "8a8bb323c3984fdfbe9e2accc61765f1": {
          "model_module": "@jupyter-widgets/controls",
          "model_name": "ProgressStyleModel",
          "model_module_version": "1.5.0",
          "state": {
            "_model_module": "@jupyter-widgets/controls",
            "_model_module_version": "1.5.0",
            "_model_name": "ProgressStyleModel",
            "_view_count": null,
            "_view_module": "@jupyter-widgets/base",
            "_view_module_version": "1.2.0",
            "_view_name": "StyleView",
            "bar_color": null,
            "description_width": ""
          }
        },
        "eabd52bbb7ff43b4b0e5e7cb38bd61cf": {
          "model_module": "@jupyter-widgets/base",
          "model_name": "LayoutModel",
          "model_module_version": "1.2.0",
          "state": {
            "_model_module": "@jupyter-widgets/base",
            "_model_module_version": "1.2.0",
            "_model_name": "LayoutModel",
            "_view_count": null,
            "_view_module": "@jupyter-widgets/base",
            "_view_module_version": "1.2.0",
            "_view_name": "LayoutView",
            "align_content": null,
            "align_items": null,
            "align_self": null,
            "border": null,
            "bottom": null,
            "display": null,
            "flex": null,
            "flex_flow": null,
            "grid_area": null,
            "grid_auto_columns": null,
            "grid_auto_flow": null,
            "grid_auto_rows": null,
            "grid_column": null,
            "grid_gap": null,
            "grid_row": null,
            "grid_template_areas": null,
            "grid_template_columns": null,
            "grid_template_rows": null,
            "height": null,
            "justify_content": null,
            "justify_items": null,
            "left": null,
            "margin": null,
            "max_height": null,
            "max_width": null,
            "min_height": null,
            "min_width": null,
            "object_fit": null,
            "object_position": null,
            "order": null,
            "overflow": null,
            "overflow_x": null,
            "overflow_y": null,
            "padding": null,
            "right": null,
            "top": null,
            "visibility": null,
            "width": null
          }
        },
        "c6206a6a47c8430392f46a7216c827e8": {
          "model_module": "@jupyter-widgets/controls",
          "model_name": "DescriptionStyleModel",
          "model_module_version": "1.5.0",
          "state": {
            "_model_module": "@jupyter-widgets/controls",
            "_model_module_version": "1.5.0",
            "_model_name": "DescriptionStyleModel",
            "_view_count": null,
            "_view_module": "@jupyter-widgets/base",
            "_view_module_version": "1.2.0",
            "_view_name": "StyleView",
            "description_width": ""
          }
        }
      }
    }
  },
  "cells": [
    {
      "cell_type": "markdown",
      "metadata": {
        "id": "view-in-github",
        "colab_type": "text"
      },
      "source": [
        "<a href=\"https://colab.research.google.com/github/Chiamakac/TRAININGS/blob/main/Alignment/Projection_Work/Working_Finetuning_awsome_align.ipynb\" target=\"_parent\"><img src=\"https://colab.research.google.com/assets/colab-badge.svg\" alt=\"Open In Colab\"/></a>"
      ]
    },
    {
      "cell_type": "code",
      "source": [
        "%cd /content/gdrive/MyDrive"
      ],
      "metadata": {
        "id": "RHN4ACTP3jb3",
        "outputId": "5c705101-eaa7-48eb-c249-5da661873100",
        "colab": {
          "base_uri": "https://localhost:8080/"
        }
      },
      "execution_count": 19,
      "outputs": [
        {
          "output_type": "stream",
          "name": "stdout",
          "text": [
            "/content/gdrive/MyDrive\n"
          ]
        }
      ]
    },
    {
      "cell_type": "code",
      "source": [
        "#clone the awesome-align github\n",
        "!git clone https://github.com/neulab/awesome-align.git"
      ],
      "metadata": {
        "colab": {
          "base_uri": "https://localhost:8080/"
        },
        "id": "JXZB81Q_YRtn",
        "outputId": "12b58ba4-c675-4562-879b-9305b3b1b1d3"
      },
      "execution_count": 20,
      "outputs": [
        {
          "output_type": "stream",
          "name": "stdout",
          "text": [
            "Cloning into 'awesome-align'...\n",
            "remote: Enumerating objects: 343, done.\u001b[K\n",
            "remote: Counting objects: 100% (128/128), done.\u001b[K\n",
            "remote: Compressing objects: 100% (89/89), done.\u001b[K\n",
            "remote: Total 343 (delta 69), reused 85 (delta 38), pack-reused 215\u001b[K\n",
            "Receiving objects: 100% (343/343), 677.98 KiB | 2.52 MiB/s, done.\n",
            "Resolving deltas: 100% (188/188), done.\n"
          ]
        }
      ]
    },
    {
      "cell_type": "code",
      "source": [
        "%%sh\n",
        "pip install -r requirements.txt\n",
        "python setup.py install"
      ],
      "metadata": {
        "colab": {
          "base_uri": "https://localhost:8080/"
        },
        "id": "NvnDIn52TaBp",
        "outputId": "72e083c7-22f4-4ab1-8e5b-e4bab5a53f9c"
      },
      "execution_count": 3,
      "outputs": [
        {
          "output_type": "stream",
          "name": "stderr",
          "text": [
            "ERROR: Could not open requirements file: [Errno 2] No such file or directory: 'requirements.txt'\n",
            "python3: can't open file 'setup.py': [Errno 2] No such file or directory\n"
          ]
        }
      ]
    },
    {
      "cell_type": "code",
      "source": [
        "# install the dependencies\n",
        "\n",
        "!pip install -r requirements.txt #use ./folder/filename to bring the file in the working directory\n",
        "!python setup.py install"
      ],
      "metadata": {
        "colab": {
          "base_uri": "https://localhost:8080/"
        },
        "id": "g9X6VDjjzRM3",
        "outputId": "8ed09849-5a9c-40ef-f987-32e7237c7083"
      },
      "execution_count": 14,
      "outputs": [
        {
          "output_type": "stream",
          "name": "stdout",
          "text": [
            "Requirement already satisfied: tokenizers>=0.5.2 in /usr/local/lib/python3.7/dist-packages (from -r requirements.txt (line 1)) (0.11.6)\n",
            "Requirement already satisfied: torch>=1.2.0 in /usr/local/lib/python3.7/dist-packages (from -r requirements.txt (line 2)) (1.10.0+cu111)\n",
            "Requirement already satisfied: tqdm in /usr/local/lib/python3.7/dist-packages (from -r requirements.txt (line 3)) (4.63.0)\n",
            "Requirement already satisfied: numpy in /usr/local/lib/python3.7/dist-packages (from -r requirements.txt (line 4)) (1.21.5)\n",
            "Requirement already satisfied: boto3 in /usr/local/lib/python3.7/dist-packages (from -r requirements.txt (line 5)) (1.21.20)\n",
            "Requirement already satisfied: filelock in /usr/local/lib/python3.7/dist-packages (from -r requirements.txt (line 6)) (3.6.0)\n",
            "Requirement already satisfied: requests in /usr/local/lib/python3.7/dist-packages (from -r requirements.txt (line 7)) (2.23.0)\n",
            "Requirement already satisfied: typing-extensions in /usr/local/lib/python3.7/dist-packages (from torch>=1.2.0->-r requirements.txt (line 2)) (3.10.0.2)\n",
            "Requirement already satisfied: botocore<1.25.0,>=1.24.20 in /usr/local/lib/python3.7/dist-packages (from boto3->-r requirements.txt (line 5)) (1.24.20)\n",
            "Requirement already satisfied: s3transfer<0.6.0,>=0.5.0 in /usr/local/lib/python3.7/dist-packages (from boto3->-r requirements.txt (line 5)) (0.5.2)\n",
            "Requirement already satisfied: jmespath<1.0.0,>=0.7.1 in /usr/local/lib/python3.7/dist-packages (from boto3->-r requirements.txt (line 5)) (0.10.0)\n",
            "Requirement already satisfied: python-dateutil<3.0.0,>=2.1 in /usr/local/lib/python3.7/dist-packages (from botocore<1.25.0,>=1.24.20->boto3->-r requirements.txt (line 5)) (2.8.2)\n",
            "Requirement already satisfied: urllib3<1.27,>=1.25.4 in /usr/local/lib/python3.7/dist-packages (from botocore<1.25.0,>=1.24.20->boto3->-r requirements.txt (line 5)) (1.25.11)\n",
            "Requirement already satisfied: six>=1.5 in /usr/local/lib/python3.7/dist-packages (from python-dateutil<3.0.0,>=2.1->botocore<1.25.0,>=1.24.20->boto3->-r requirements.txt (line 5)) (1.15.0)\n",
            "Requirement already satisfied: chardet<4,>=3.0.2 in /usr/local/lib/python3.7/dist-packages (from requests->-r requirements.txt (line 7)) (3.0.4)\n",
            "Requirement already satisfied: certifi>=2017.4.17 in /usr/local/lib/python3.7/dist-packages (from requests->-r requirements.txt (line 7)) (2021.10.8)\n",
            "Requirement already satisfied: idna<3,>=2.5 in /usr/local/lib/python3.7/dist-packages (from requests->-r requirements.txt (line 7)) (2.10)\n",
            "running install\n",
            "running bdist_egg\n",
            "running egg_info\n",
            "creating awesome_align.egg-info\n",
            "writing awesome_align.egg-info/PKG-INFO\n",
            "writing dependency_links to awesome_align.egg-info/dependency_links.txt\n",
            "writing entry points to awesome_align.egg-info/entry_points.txt\n",
            "writing requirements to awesome_align.egg-info/requires.txt\n",
            "writing top-level names to awesome_align.egg-info/top_level.txt\n",
            "writing manifest file 'awesome_align.egg-info/SOURCES.txt'\n",
            "adding license file 'LICENSE'\n",
            "writing manifest file 'awesome_align.egg-info/SOURCES.txt'\n",
            "installing library code to build/bdist.linux-x86_64/egg\n",
            "running install_lib\n",
            "running build_py\n",
            "creating build\n",
            "creating build/lib\n",
            "creating build/lib/awesome_align\n",
            "copying awesome_align/run_align.py -> build/lib/awesome_align\n",
            "copying awesome_align/train_utils.py -> build/lib/awesome_align\n",
            "copying awesome_align/configuration_bert.py -> build/lib/awesome_align\n",
            "copying awesome_align/run_train.py -> build/lib/awesome_align\n",
            "copying awesome_align/file_utils.py -> build/lib/awesome_align\n",
            "copying awesome_align/activations.py -> build/lib/awesome_align\n",
            "copying awesome_align/__init__.py -> build/lib/awesome_align\n",
            "copying awesome_align/tokenization_utils.py -> build/lib/awesome_align\n",
            "copying awesome_align/modeling.py -> build/lib/awesome_align\n",
            "copying awesome_align/configuration_utils.py -> build/lib/awesome_align\n",
            "copying awesome_align/sparsemax.py -> build/lib/awesome_align\n",
            "copying awesome_align/modeling_utils.py -> build/lib/awesome_align\n",
            "copying awesome_align/tokenization_bert.py -> build/lib/awesome_align\n",
            "creating build/bdist.linux-x86_64\n",
            "creating build/bdist.linux-x86_64/egg\n",
            "creating build/bdist.linux-x86_64/egg/awesome_align\n",
            "copying build/lib/awesome_align/run_align.py -> build/bdist.linux-x86_64/egg/awesome_align\n",
            "copying build/lib/awesome_align/train_utils.py -> build/bdist.linux-x86_64/egg/awesome_align\n",
            "copying build/lib/awesome_align/configuration_bert.py -> build/bdist.linux-x86_64/egg/awesome_align\n",
            "copying build/lib/awesome_align/run_train.py -> build/bdist.linux-x86_64/egg/awesome_align\n",
            "copying build/lib/awesome_align/file_utils.py -> build/bdist.linux-x86_64/egg/awesome_align\n",
            "copying build/lib/awesome_align/activations.py -> build/bdist.linux-x86_64/egg/awesome_align\n",
            "copying build/lib/awesome_align/__init__.py -> build/bdist.linux-x86_64/egg/awesome_align\n",
            "copying build/lib/awesome_align/tokenization_utils.py -> build/bdist.linux-x86_64/egg/awesome_align\n",
            "copying build/lib/awesome_align/modeling.py -> build/bdist.linux-x86_64/egg/awesome_align\n",
            "copying build/lib/awesome_align/configuration_utils.py -> build/bdist.linux-x86_64/egg/awesome_align\n",
            "copying build/lib/awesome_align/sparsemax.py -> build/bdist.linux-x86_64/egg/awesome_align\n",
            "copying build/lib/awesome_align/modeling_utils.py -> build/bdist.linux-x86_64/egg/awesome_align\n",
            "copying build/lib/awesome_align/tokenization_bert.py -> build/bdist.linux-x86_64/egg/awesome_align\n",
            "byte-compiling build/bdist.linux-x86_64/egg/awesome_align/run_align.py to run_align.cpython-37.pyc\n",
            "byte-compiling build/bdist.linux-x86_64/egg/awesome_align/train_utils.py to train_utils.cpython-37.pyc\n",
            "byte-compiling build/bdist.linux-x86_64/egg/awesome_align/configuration_bert.py to configuration_bert.cpython-37.pyc\n",
            "byte-compiling build/bdist.linux-x86_64/egg/awesome_align/run_train.py to run_train.cpython-37.pyc\n",
            "byte-compiling build/bdist.linux-x86_64/egg/awesome_align/file_utils.py to file_utils.cpython-37.pyc\n",
            "byte-compiling build/bdist.linux-x86_64/egg/awesome_align/activations.py to activations.cpython-37.pyc\n",
            "byte-compiling build/bdist.linux-x86_64/egg/awesome_align/__init__.py to __init__.cpython-37.pyc\n",
            "byte-compiling build/bdist.linux-x86_64/egg/awesome_align/tokenization_utils.py to tokenization_utils.cpython-37.pyc\n",
            "byte-compiling build/bdist.linux-x86_64/egg/awesome_align/modeling.py to modeling.cpython-37.pyc\n",
            "byte-compiling build/bdist.linux-x86_64/egg/awesome_align/configuration_utils.py to configuration_utils.cpython-37.pyc\n",
            "byte-compiling build/bdist.linux-x86_64/egg/awesome_align/sparsemax.py to sparsemax.cpython-37.pyc\n",
            "byte-compiling build/bdist.linux-x86_64/egg/awesome_align/modeling_utils.py to modeling_utils.cpython-37.pyc\n",
            "byte-compiling build/bdist.linux-x86_64/egg/awesome_align/tokenization_bert.py to tokenization_bert.cpython-37.pyc\n",
            "creating build/bdist.linux-x86_64/egg/EGG-INFO\n",
            "copying awesome_align.egg-info/PKG-INFO -> build/bdist.linux-x86_64/egg/EGG-INFO\n",
            "copying awesome_align.egg-info/SOURCES.txt -> build/bdist.linux-x86_64/egg/EGG-INFO\n",
            "copying awesome_align.egg-info/dependency_links.txt -> build/bdist.linux-x86_64/egg/EGG-INFO\n",
            "copying awesome_align.egg-info/entry_points.txt -> build/bdist.linux-x86_64/egg/EGG-INFO\n",
            "copying awesome_align.egg-info/requires.txt -> build/bdist.linux-x86_64/egg/EGG-INFO\n",
            "copying awesome_align.egg-info/top_level.txt -> build/bdist.linux-x86_64/egg/EGG-INFO\n",
            "zip_safe flag not set; analyzing archive contents...\n",
            "creating dist\n",
            "creating 'dist/awesome_align-0.1.7-py3.7.egg' and adding 'build/bdist.linux-x86_64/egg' to it\n",
            "removing 'build/bdist.linux-x86_64/egg' (and everything under it)\n",
            "Processing awesome_align-0.1.7-py3.7.egg\n",
            "Copying awesome_align-0.1.7-py3.7.egg to /usr/local/lib/python3.7/dist-packages\n",
            "Adding awesome-align 0.1.7 to easy-install.pth file\n",
            "Installing awesome-align script to /usr/local/bin\n",
            "Installing awesome-train script to /usr/local/bin\n",
            "\n",
            "Installed /usr/local/lib/python3.7/dist-packages/awesome_align-0.1.7-py3.7.egg\n",
            "Processing dependencies for awesome-align==0.1.7\n",
            "Searching for requests==2.23.0\n",
            "Best match: requests 2.23.0\n",
            "Adding requests 2.23.0 to easy-install.pth file\n",
            "\n",
            "Using /usr/local/lib/python3.7/dist-packages\n",
            "Searching for filelock==3.6.0\n",
            "Best match: filelock 3.6.0\n",
            "Adding filelock 3.6.0 to easy-install.pth file\n",
            "\n",
            "Using /usr/local/lib/python3.7/dist-packages\n",
            "Searching for boto3==1.21.20\n",
            "Best match: boto3 1.21.20\n",
            "Adding boto3 1.21.20 to easy-install.pth file\n",
            "\n",
            "Using /usr/local/lib/python3.7/dist-packages\n",
            "Searching for numpy==1.21.5\n",
            "Best match: numpy 1.21.5\n",
            "Adding numpy 1.21.5 to easy-install.pth file\n",
            "Installing f2py script to /usr/local/bin\n",
            "Installing f2py3 script to /usr/local/bin\n",
            "Installing f2py3.7 script to /usr/local/bin\n",
            "\n",
            "Using /usr/local/lib/python3.7/dist-packages\n",
            "Searching for tqdm==4.63.0\n",
            "Best match: tqdm 4.63.0\n",
            "Adding tqdm 4.63.0 to easy-install.pth file\n",
            "Installing tqdm script to /usr/local/bin\n",
            "\n",
            "Using /usr/local/lib/python3.7/dist-packages\n",
            "Searching for torch==1.10.0+cu111\n",
            "Best match: torch 1.10.0+cu111\n",
            "Adding torch 1.10.0+cu111 to easy-install.pth file\n",
            "Installing convert-caffe2-to-onnx script to /usr/local/bin\n",
            "Installing convert-onnx-to-caffe2 script to /usr/local/bin\n",
            "Installing torchrun script to /usr/local/bin\n",
            "\n",
            "Using /usr/local/lib/python3.7/dist-packages\n",
            "Searching for tokenizers==0.11.6\n",
            "Best match: tokenizers 0.11.6\n",
            "Adding tokenizers 0.11.6 to easy-install.pth file\n",
            "\n",
            "Using /usr/local/lib/python3.7/dist-packages\n",
            "Searching for urllib3==1.25.11\n",
            "Best match: urllib3 1.25.11\n",
            "Adding urllib3 1.25.11 to easy-install.pth file\n",
            "\n",
            "Using /usr/local/lib/python3.7/dist-packages\n",
            "Searching for chardet==3.0.4\n",
            "Best match: chardet 3.0.4\n",
            "Adding chardet 3.0.4 to easy-install.pth file\n",
            "Installing chardetect script to /usr/local/bin\n",
            "\n",
            "Using /usr/local/lib/python3.7/dist-packages\n",
            "Searching for certifi==2021.10.8\n",
            "Best match: certifi 2021.10.8\n",
            "Adding certifi 2021.10.8 to easy-install.pth file\n",
            "\n",
            "Using /usr/local/lib/python3.7/dist-packages\n",
            "Searching for idna==2.10\n",
            "Best match: idna 2.10\n",
            "Adding idna 2.10 to easy-install.pth file\n",
            "\n",
            "Using /usr/local/lib/python3.7/dist-packages\n",
            "Searching for botocore==1.24.20\n",
            "Best match: botocore 1.24.20\n",
            "Adding botocore 1.24.20 to easy-install.pth file\n",
            "\n",
            "Using /usr/local/lib/python3.7/dist-packages\n",
            "Searching for s3transfer==0.5.2\n",
            "Best match: s3transfer 0.5.2\n",
            "Adding s3transfer 0.5.2 to easy-install.pth file\n",
            "\n",
            "Using /usr/local/lib/python3.7/dist-packages\n",
            "Searching for jmespath==0.10.0\n",
            "Best match: jmespath 0.10.0\n",
            "Adding jmespath 0.10.0 to easy-install.pth file\n",
            "\n",
            "Using /usr/local/lib/python3.7/dist-packages\n",
            "Searching for typing-extensions==3.10.0.2\n",
            "Best match: typing-extensions 3.10.0.2\n",
            "Adding typing-extensions 3.10.0.2 to easy-install.pth file\n",
            "\n",
            "Using /usr/local/lib/python3.7/dist-packages\n",
            "Searching for python-dateutil==2.8.2\n",
            "Best match: python-dateutil 2.8.2\n",
            "Adding python-dateutil 2.8.2 to easy-install.pth file\n",
            "\n",
            "Using /usr/local/lib/python3.7/dist-packages\n",
            "Searching for six==1.15.0\n",
            "Best match: six 1.15.0\n",
            "Adding six 1.15.0 to easy-install.pth file\n",
            "\n",
            "Using /usr/local/lib/python3.7/dist-packages\n",
            "Finished processing dependencies for awesome-align==0.1.7\n"
          ]
        }
      ]
    },
    {
      "cell_type": "code",
      "source": [
        "%cd ./awesome-align"
      ],
      "metadata": {
        "id": "dAq4g6EvzMc5",
        "outputId": "0c0677ad-922a-439b-f97f-6c7d84e2e623",
        "colab": {
          "base_uri": "https://localhost:8080/"
        }
      },
      "execution_count": 6,
      "outputs": [
        {
          "output_type": "stream",
          "name": "stdout",
          "text": [
            "/content/awesome-align\n"
          ]
        }
      ]
    },
    {
      "cell_type": "code",
      "source": [
        "!pip install transformers\n",
        "import transformers"
      ],
      "metadata": {
        "colab": {
          "base_uri": "https://localhost:8080/"
        },
        "id": "5p6lK8j8-kPL",
        "outputId": "ada26b8a-fb7d-48b9-d41b-6dfa5abcab45"
      },
      "execution_count": 15,
      "outputs": [
        {
          "output_type": "stream",
          "name": "stdout",
          "text": [
            "Requirement already satisfied: transformers in /usr/local/lib/python3.7/dist-packages (4.17.0)\n",
            "Requirement already satisfied: huggingface-hub<1.0,>=0.1.0 in /usr/local/lib/python3.7/dist-packages (from transformers) (0.4.0)\n",
            "Requirement already satisfied: numpy>=1.17 in /usr/local/lib/python3.7/dist-packages (from transformers) (1.21.5)\n",
            "Requirement already satisfied: pyyaml>=5.1 in /usr/local/lib/python3.7/dist-packages (from transformers) (6.0)\n",
            "Requirement already satisfied: sacremoses in /usr/local/lib/python3.7/dist-packages (from transformers) (0.0.49)\n",
            "Requirement already satisfied: packaging>=20.0 in /usr/local/lib/python3.7/dist-packages (from transformers) (21.3)\n",
            "Requirement already satisfied: regex!=2019.12.17 in /usr/local/lib/python3.7/dist-packages (from transformers) (2019.12.20)\n",
            "Requirement already satisfied: requests in /usr/local/lib/python3.7/dist-packages (from transformers) (2.23.0)\n",
            "Requirement already satisfied: tqdm>=4.27 in /usr/local/lib/python3.7/dist-packages (from transformers) (4.63.0)\n",
            "Requirement already satisfied: filelock in /usr/local/lib/python3.7/dist-packages (from transformers) (3.6.0)\n",
            "Requirement already satisfied: tokenizers!=0.11.3,>=0.11.1 in /usr/local/lib/python3.7/dist-packages (from transformers) (0.11.6)\n",
            "Requirement already satisfied: importlib-metadata in /usr/local/lib/python3.7/dist-packages (from transformers) (4.11.2)\n",
            "Requirement already satisfied: typing-extensions>=3.7.4.3 in /usr/local/lib/python3.7/dist-packages (from huggingface-hub<1.0,>=0.1.0->transformers) (3.10.0.2)\n",
            "Requirement already satisfied: pyparsing!=3.0.5,>=2.0.2 in /usr/local/lib/python3.7/dist-packages (from packaging>=20.0->transformers) (3.0.7)\n",
            "Requirement already satisfied: zipp>=0.5 in /usr/local/lib/python3.7/dist-packages (from importlib-metadata->transformers) (3.7.0)\n",
            "Requirement already satisfied: certifi>=2017.4.17 in /usr/local/lib/python3.7/dist-packages (from requests->transformers) (2021.10.8)\n",
            "Requirement already satisfied: urllib3!=1.25.0,!=1.25.1,<1.26,>=1.21.1 in /usr/local/lib/python3.7/dist-packages (from requests->transformers) (1.25.11)\n",
            "Requirement already satisfied: chardet<4,>=3.0.2 in /usr/local/lib/python3.7/dist-packages (from requests->transformers) (3.0.4)\n",
            "Requirement already satisfied: idna<3,>=2.5 in /usr/local/lib/python3.7/dist-packages (from requests->transformers) (2.10)\n",
            "Requirement already satisfied: click in /usr/local/lib/python3.7/dist-packages (from sacremoses->transformers) (7.1.2)\n",
            "Requirement already satisfied: joblib in /usr/local/lib/python3.7/dist-packages (from sacremoses->transformers) (1.1.0)\n",
            "Requirement already satisfied: six in /usr/local/lib/python3.7/dist-packages (from sacremoses->transformers) (1.15.0)\n"
          ]
        }
      ]
    },
    {
      "cell_type": "code",
      "source": [
        "model_name = transformers.BertModel.from_pretrained('bert-base-multilingual-cased')"
      ],
      "metadata": {
        "colab": {
          "base_uri": "https://localhost:8080/",
          "height": 153,
          "referenced_widgets": [
            "14368d1d4815450b946b2bc8c9689f0b",
            "6b8c646e14a549d286347431a5e58256",
            "27e76f04f60543b8ae96ded1ecdbb31e",
            "df404cf1ce044ef2b45c53ecd3e34915",
            "b1133277cf29418fa8400a11b68b4387",
            "5108529ffe034f7297e59fd84b5edbc6",
            "1f25fe97568a486383354dc231742f01",
            "b10d94b981c5433eb568a84ac1bc2c0a",
            "7505f9141b5943a79c323537167a8aec",
            "4e0f32e14a014c3caf2f83ff5d00b313",
            "dc2d67c370fc4d2fa6e4702ecd5c5c63",
            "e69894504854463b9d5d6410eb35b518",
            "52b1da358c25498385c6c96460c744f1",
            "eeb1d6df5f5c465ba0026b637069f414",
            "4b777ee7ad814a5a8356046e74a66142",
            "85a3a3a2a1bf4ee5834102103a2c5f28",
            "1c025e6322a24c34867240b1198f2284",
            "d08a0bf895f14e9f955a129dd727da3c",
            "efc01df09cda4c85958d3a9510371ebf",
            "8a8bb323c3984fdfbe9e2accc61765f1",
            "eabd52bbb7ff43b4b0e5e7cb38bd61cf",
            "c6206a6a47c8430392f46a7216c827e8"
          ]
        },
        "id": "yfmTIVRY-ehb",
        "outputId": "98c079a1-2d6f-4575-c89c-6c6efdb75115"
      },
      "execution_count": 8,
      "outputs": [
        {
          "output_type": "display_data",
          "data": {
            "text/plain": [
              "Downloading:   0%|          | 0.00/625 [00:00<?, ?B/s]"
            ],
            "application/vnd.jupyter.widget-view+json": {
              "version_major": 2,
              "version_minor": 0,
              "model_id": "14368d1d4815450b946b2bc8c9689f0b"
            }
          },
          "metadata": {}
        },
        {
          "output_type": "display_data",
          "data": {
            "text/plain": [
              "Downloading:   0%|          | 0.00/681M [00:00<?, ?B/s]"
            ],
            "application/vnd.jupyter.widget-view+json": {
              "version_major": 2,
              "version_minor": 0,
              "model_id": "e69894504854463b9d5d6410eb35b518"
            }
          },
          "metadata": {}
        },
        {
          "output_type": "stream",
          "name": "stderr",
          "text": [
            "Some weights of the model checkpoint at bert-base-multilingual-cased were not used when initializing BertModel: ['cls.predictions.transform.dense.weight', 'cls.predictions.decoder.weight', 'cls.seq_relationship.bias', 'cls.predictions.bias', 'cls.predictions.transform.dense.bias', 'cls.predictions.transform.LayerNorm.bias', 'cls.predictions.transform.LayerNorm.weight', 'cls.seq_relationship.weight']\n",
            "- This IS expected if you are initializing BertModel from the checkpoint of a model trained on another task or with another architecture (e.g. initializing a BertForSequenceClassification model from a BertForPreTraining model).\n",
            "- This IS NOT expected if you are initializing BertModel from the checkpoint of a model that you expect to be exactly identical (initializing a BertForSequenceClassification model from a BertForSequenceClassification model).\n"
          ]
        }
      ]
    },
    {
      "cell_type": "code",
      "source": [
        "from google.colab import drive\n",
        "drive.mount('/content/gdrive')"
      ],
      "metadata": {
        "colab": {
          "base_uri": "https://localhost:8080/"
        },
        "id": "pMSmUTlT6YDM",
        "outputId": "ead61ceb-ac4f-4109-83f9-fe97eb99ee41"
      },
      "execution_count": 9,
      "outputs": [
        {
          "output_type": "stream",
          "name": "stdout",
          "text": [
            "Mounted at /content/gdrive\n"
          ]
        }
      ]
    },
    {
      "cell_type": "code",
      "source": [
        "TRAIN_FILE=\"/content/gdrive/MyDrive/IBO_BETA/Projection/eng_ig_train.txt\"\n",
        "EVAL_FILE=\"/content/gdrive/MyDrive/IBO_BETA/Projection/eng_ig_eval.txt\"\n",
        "OUTPUT_DIR=\"/content/gdrive/MyDrive/en_ig_alignout/\"\n",
        "\n",
        "# CUDA_VISIBLE_DEVICES=0"
      ],
      "metadata": {
        "id": "JZeUQdMKO3J-"
      },
      "execution_count": 24,
      "outputs": []
    },
    {
      "cell_type": "code",
      "source": [
        "!CUDA_VISIBLE_DEVICES=0 awesome-train \\\n",
        "    --output_dir={OUTPUT_DIR} \\\n",
        "    --model_name=bert-base-multilingual-cased \\\n",
        "    --extraction 'softmax' \\\n",
        "    --do_train \\\n",
        "    --train_tlm \\\n",
        "    --train_so \\\n",
        "    --train_data_file={TRAIN_FILE} \\\n",
        "    --per_gpu_train_batch_size 2 \\\n",
        "    --gradient_accumulation_steps 4 \\\n",
        "    --num_train_epochs 1 \\\n",
        "    --learning_rate 2e-5 \\\n",
        "    --save_steps 4000 \\\n",
        "    --max_steps 20000 \\\n",
        "    --do_eval \\\n",
        "    --eval_data_file={EVAL_FILE}"
      ],
      "metadata": {
        "colab": {
          "base_uri": "https://localhost:8080/"
        },
        "id": "TRtNjoRDfCZX",
        "outputId": "ab2ef960-f850-467b-fb19-9b54e02e7be5"
      },
      "execution_count": 25,
      "outputs": [
        {
          "output_type": "stream",
          "name": "stdout",
          "text": [
            "03/16/2022 08:52:18 - WARNING - awesome_align.run_train -   Process rank: -1, device: cpu, n_gpu: 0, distributed training: False, 16-bits training: False\n",
            "03/16/2022 08:52:18 - INFO - awesome_align.file_utils -   https://s3.amazonaws.com/models.huggingface.co/bert/bert-base-multilingual-cased-config.json not found in cache or force_download set to True, downloading to /root/.cache/torch/awesome-align/tmpq694_nps\n",
            "Downloading: 100% 625/625 [00:00<00:00, 589kB/s]\n",
            "03/16/2022 08:52:19 - INFO - awesome_align.file_utils -   storing https://s3.amazonaws.com/models.huggingface.co/bert/bert-base-multilingual-cased-config.json in cache at /root/.cache/torch/awesome-align/45629519f3117b89d89fd9c740073d8e4c1f0a70f9842476185100a8afe715d1.65df3cef028a0c91a7b059e4c404a975ebe6843c71267b67019c0e9cfa8a88f0\n",
            "03/16/2022 08:52:19 - INFO - awesome_align.file_utils -   creating metadata file for /root/.cache/torch/awesome-align/45629519f3117b89d89fd9c740073d8e4c1f0a70f9842476185100a8afe715d1.65df3cef028a0c91a7b059e4c404a975ebe6843c71267b67019c0e9cfa8a88f0\n",
            "03/16/2022 08:52:19 - INFO - awesome_align.configuration_utils -   loading configuration file https://s3.amazonaws.com/models.huggingface.co/bert/bert-base-multilingual-cased-config.json from cache at /root/.cache/torch/awesome-align/45629519f3117b89d89fd9c740073d8e4c1f0a70f9842476185100a8afe715d1.65df3cef028a0c91a7b059e4c404a975ebe6843c71267b67019c0e9cfa8a88f0\n",
            "03/16/2022 08:52:19 - INFO - awesome_align.configuration_utils -   Model config BertConfig {\n",
            "  \"architectures\": [\n",
            "    \"BertForMaskedLM\"\n",
            "  ],\n",
            "  \"attention_probs_dropout_prob\": 0.1,\n",
            "  \"bos_token_id\": null,\n",
            "  \"directionality\": \"bidi\",\n",
            "  \"do_sample\": false,\n",
            "  \"eos_token_ids\": null,\n",
            "  \"finetuning_task\": null,\n",
            "  \"hidden_act\": \"gelu\",\n",
            "  \"hidden_dropout_prob\": 0.1,\n",
            "  \"hidden_size\": 768,\n",
            "  \"id2label\": {\n",
            "    \"0\": \"LABEL_0\",\n",
            "    \"1\": \"LABEL_1\"\n",
            "  },\n",
            "  \"initializer_range\": 0.02,\n",
            "  \"intermediate_size\": 3072,\n",
            "  \"is_decoder\": false,\n",
            "  \"label2id\": {\n",
            "    \"LABEL_0\": 0,\n",
            "    \"LABEL_1\": 1\n",
            "  },\n",
            "  \"layer_norm_eps\": 1e-12,\n",
            "  \"length_penalty\": 1.0,\n",
            "  \"max_length\": 20,\n",
            "  \"max_position_embeddings\": 512,\n",
            "  \"model_type\": \"bert\",\n",
            "  \"num_attention_heads\": 12,\n",
            "  \"num_beams\": 1,\n",
            "  \"num_hidden_layers\": 12,\n",
            "  \"num_labels\": 2,\n",
            "  \"num_return_sequences\": 1,\n",
            "  \"output_attentions\": false,\n",
            "  \"output_hidden_states\": false,\n",
            "  \"output_past\": true,\n",
            "  \"pad_token_id\": 0,\n",
            "  \"pooler_fc_size\": 768,\n",
            "  \"pooler_num_attention_heads\": 12,\n",
            "  \"pooler_num_fc_layers\": 3,\n",
            "  \"pooler_size_per_head\": 128,\n",
            "  \"pooler_type\": \"first_token_transform\",\n",
            "  \"repetition_penalty\": 1.0,\n",
            "  \"temperature\": 1.0,\n",
            "  \"top_k\": 50,\n",
            "  \"top_p\": 1.0,\n",
            "  \"torchscript\": false,\n",
            "  \"type_vocab_size\": 2,\n",
            "  \"use_bfloat16\": false,\n",
            "  \"vocab_size\": 119547\n",
            "}\n",
            "\n",
            "03/16/2022 08:52:19 - INFO - awesome_align.file_utils -   https://s3.amazonaws.com/models.huggingface.co/bert/bert-base-multilingual-cased-vocab.txt not found in cache or force_download set to True, downloading to /root/.cache/torch/awesome-align/tmpkbaea232\n",
            "Downloading: 100% 996k/996k [00:00<00:00, 2.69MB/s]\n",
            "03/16/2022 08:52:20 - INFO - awesome_align.file_utils -   storing https://s3.amazonaws.com/models.huggingface.co/bert/bert-base-multilingual-cased-vocab.txt in cache at /root/.cache/torch/awesome-align/96435fa287fbf7e469185f1062386e05a075cadbf6838b74da22bf64b080bc32.99bcd55fc66f4f3360bc49ba472b940b8dcf223ea6a345deb969d607ca900729\n",
            "03/16/2022 08:52:20 - INFO - awesome_align.file_utils -   creating metadata file for /root/.cache/torch/awesome-align/96435fa287fbf7e469185f1062386e05a075cadbf6838b74da22bf64b080bc32.99bcd55fc66f4f3360bc49ba472b940b8dcf223ea6a345deb969d607ca900729\n",
            "03/16/2022 08:52:20 - INFO - awesome_align.tokenization_utils -   loading file https://s3.amazonaws.com/models.huggingface.co/bert/bert-base-multilingual-cased-vocab.txt from cache at /root/.cache/torch/awesome-align/96435fa287fbf7e469185f1062386e05a075cadbf6838b74da22bf64b080bc32.99bcd55fc66f4f3360bc49ba472b940b8dcf223ea6a345deb969d607ca900729\n",
            "03/16/2022 08:52:20 - INFO - awesome_align.file_utils -   https://s3.amazonaws.com/models.huggingface.co/bert/bert-base-multilingual-cased-pytorch_model.bin not found in cache or force_download set to True, downloading to /root/.cache/torch/awesome-align/tmpafc5zla8\n",
            "Downloading: 100% 714M/714M [00:17<00:00, 39.7MB/s]\n",
            "03/16/2022 08:52:38 - INFO - awesome_align.file_utils -   storing https://s3.amazonaws.com/models.huggingface.co/bert/bert-base-multilingual-cased-pytorch_model.bin in cache at /root/.cache/torch/awesome-align/5b5b80054cd2c95a946a8e0ce0b93f56326dff9fbda6a6c3e02de3c91c918342.7131dcb754361639a7d5526985f880879c9bfd144b65a0bf50590bddb7de9059\n",
            "03/16/2022 08:52:38 - INFO - awesome_align.file_utils -   creating metadata file for /root/.cache/torch/awesome-align/5b5b80054cd2c95a946a8e0ce0b93f56326dff9fbda6a6c3e02de3c91c918342.7131dcb754361639a7d5526985f880879c9bfd144b65a0bf50590bddb7de9059\n",
            "03/16/2022 08:52:38 - INFO - awesome_align.modeling_utils -   loading weights file https://s3.amazonaws.com/models.huggingface.co/bert/bert-base-multilingual-cased-pytorch_model.bin from cache at /root/.cache/torch/awesome-align/5b5b80054cd2c95a946a8e0ce0b93f56326dff9fbda6a6c3e02de3c91c918342.7131dcb754361639a7d5526985f880879c9bfd144b65a0bf50590bddb7de9059\n",
            "03/16/2022 08:52:45 - INFO - awesome_align.modeling_utils -   Weights of BertForMaskedLM not initialized from pretrained model: ['cls.predictions.decoder.bias', 'psi_cls.bias', 'psi_cls.transform.weight', 'psi_cls.transform.bias', 'psi_cls.decoder.weight', 'psi_cls.decoder.bias']\n",
            "03/16/2022 08:52:45 - INFO - awesome_align.modeling_utils -   Weights from pretrained model not used in BertForMaskedLM: ['bert.pooler.dense.weight', 'bert.pooler.dense.bias', 'cls.seq_relationship.weight', 'cls.seq_relationship.bias']\n",
            "03/16/2022 08:52:45 - INFO - awesome_align.run_train -   Training/evaluation parameters Namespace(adam_epsilon=1e-08, align_layer=8, block_size=512, cache_data=False, cache_dir=None, config_name=None, device=device(type='cpu'), do_eval=True, do_train=True, eval_data_file='/content/gdrive/MyDrive/IBO_BETA/Projection/eng_ig_eval.txt', eval_gold_file=None, extraction='softmax', fp16=False, fp16_opt_level='O1', gold_one_index=False, gradient_accumulation_steps=4, ignore_possible_alignments=False, learning_rate=2e-05, local_rank=-1, logging_steps=500, max_grad_norm=1.0, max_steps=20000, mlm_probability=0.15, model_name_or_path='bert-base-multilingual-cased', n_gpu=0, no_cuda=False, num_train_epochs=1.0, output_dir='/content/gdrive/MyDrive/en_ig_alignout/', overwrite_cache=False, overwrite_output_dir=False, per_gpu_eval_batch_size=2, per_gpu_train_batch_size=2, save_steps=4000, save_total_limit=None, seed=42, should_continue=False, softmax_threshold=0.001, tokenizer_name=None, train_co=False, train_data_file='/content/gdrive/MyDrive/IBO_BETA/Projection/eng_ig_train.txt', train_gold_file=None, train_mlm=False, train_psi=False, train_so=True, train_tlm=True, train_tlm_full=False, warmup_steps=0, weight_decay=0.0)\n",
            "03/16/2022 08:52:45 - INFO - awesome_align.run_train -   Creating features from dataset file at /content/gdrive/MyDrive/IBO_BETA/Projection/eng_ig_train.txt\n",
            "Loading data: 100% 100/100 [00:00<00:00, 420692.48it/s]\n",
            "Traceback (most recent call last):\n",
            "  File \"/usr/local/bin/awesome-train\", line 33, in <module>\n",
            "    sys.exit(load_entry_point('awesome-align==0.1.7', 'console_scripts', 'awesome-train')())\n",
            "  File \"/usr/local/lib/python3.7/dist-packages/awesome_align-0.1.7-py3.7.egg/awesome_align/run_train.py\", line 848, in main\n",
            "  File \"/usr/local/lib/python3.7/dist-packages/awesome_align-0.1.7-py3.7.egg/awesome_align/run_train.py\", line 272, in train\n",
            "  File \"/usr/local/lib/python3.7/dist-packages/torch/utils/data/sampler.py\", line 103, in __init__\n",
            "    \"value, but got num_samples={}\".format(self.num_samples))\n",
            "ValueError: num_samples should be a positive integer value, but got num_samples=0\n"
          ]
        }
      ]
    },
    {
      "cell_type": "code",
      "source": [
        "ls ./awesome-align/"
      ],
      "metadata": {
        "id": "ue32FPL19nYG"
      },
      "execution_count": null,
      "outputs": []
    },
    {
      "cell_type": "code",
      "source": [
        "# !pip install transformers==3.1.0\n",
        "# !pip install tokenizers>=0.5.2\n",
        "# !pip install torch>=1.2.0\n",
        "# !pip install tqdm\n",
        "# !pip install numpy\n",
        "# !pip install boto3\n",
        "# !pip install filelock\n",
        "# !pip install requests"
      ],
      "metadata": {
        "id": "Ss0UsMACbJc2"
      },
      "execution_count": null,
      "outputs": []
    }
  ]
}