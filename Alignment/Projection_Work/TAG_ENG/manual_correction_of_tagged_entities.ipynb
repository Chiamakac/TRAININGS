{
  "nbformat": 4,
  "nbformat_minor": 0,
  "metadata": {
    "colab": {
      "provenance": [],
      "authorship_tag": "ABX9TyMgnL7MqxCiytNZqALeCAWT",
      "include_colab_link": true
    },
    "kernelspec": {
      "name": "python3",
      "display_name": "Python 3"
    },
    "language_info": {
      "name": "python"
    }
  },
  "cells": [
    {
      "cell_type": "markdown",
      "metadata": {
        "id": "view-in-github",
        "colab_type": "text"
      },
      "source": [
        "<a href=\"https://colab.research.google.com/github/Chiamakac/TRAININGS/blob/main/Alignment/Projection_Work/TAG_ENG/manual_correction_of_tagged_entities.ipynb\" target=\"_parent\"><img src=\"https://colab.research.google.com/assets/colab-badge.svg\" alt=\"Open In Colab\"/></a>"
      ]
    },
    {
      "cell_type": "markdown",
      "source": [
        "Code used for manual correction of the tagged entities by using search and replace"
      ],
      "metadata": {
        "id": "4KJ9L_xuf1g9"
      }
    },
    {
      "cell_type": "code",
      "source": [
        "!wget -c https://raw.githubusercontent.com/Chiamakac/TRAININGS/main/Alignment/Projection_Work/TAG_ENG/spaCy%20en_tags%20corrected%20VV2.txt"
      ],
      "metadata": {
        "colab": {
          "base_uri": "https://localhost:8080/"
        },
        "id": "CW9bG5ExibsU",
        "outputId": "36872501-d339-4612-83f1-88b8e805f0a7"
      },
      "execution_count": 1,
      "outputs": [
        {
          "output_type": "stream",
          "name": "stdout",
          "text": [
            "--2022-09-13 08:21:04--  https://raw.githubusercontent.com/Chiamakac/TRAININGS/main/Alignment/Projection_Work/TAG_ENG/spaCy%20en_tags%20corrected%20VV2.txt\n",
            "Resolving raw.githubusercontent.com (raw.githubusercontent.com)... 185.199.110.133, 185.199.108.133, 185.199.111.133, ...\n",
            "Connecting to raw.githubusercontent.com (raw.githubusercontent.com)|185.199.110.133|:443... connected.\n",
            "HTTP request sent, awaiting response... 200 OK\n",
            "Length: 298235 (291K) [text/plain]\n",
            "Saving to: ‘spaCy en_tags corrected VV2.txt’\n",
            "\n",
            "\r          spaCy en_   0%[                    ]       0  --.-KB/s               \rspaCy en_tags corre 100%[===================>] 291.25K  --.-KB/s    in 0.01s   \n",
            "\n",
            "2022-09-13 08:21:05 (22.2 MB/s) - ‘spaCy en_tags corrected VV2.txt’ saved [298235/298235]\n",
            "\n"
          ]
        }
      ]
    },
    {
      "cell_type": "code",
      "source": [
        "# Importing re module\n",
        "# import re"
      ],
      "metadata": {
        "id": "O_f2nV4PY6oB"
      },
      "execution_count": null,
      "outputs": []
    },
    {
      "cell_type": "code",
      "source": [
        "ig_file = open(\"/content/spaCy en_tags corrected VV2.txt\", \"r\")\n",
        "\n",
        "new_file_content = \"\"\n",
        "for line in ig_file:\n",
        "    stripped_line = line.strip()\n",
        "    new_line = stripped_line.replace(\"Sowore, ORG\", \"Sowore, PER\")\n",
        "    new_file_content += new_line +\"\\n\"\n",
        "ig_file.close()\n",
        "\n",
        "writing_file = open(\"/content/spaCy en_tags corrected VV4.txt\", \"w\")\n",
        "writing_file.write(new_file_content)\n",
        "writing_file.close()"
      ],
      "metadata": {
        "id": "c-Yiar4UdL-Y"
      },
      "execution_count": 46,
      "outputs": []
    }
  ]
}