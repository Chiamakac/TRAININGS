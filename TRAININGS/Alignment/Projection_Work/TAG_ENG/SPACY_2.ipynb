{
  "nbformat": 4,
  "nbformat_minor": 0,
  "metadata": {
    "colab": {
      "provenance": [],
      "authorship_tag": "ABX9TyOOZbSLTyjbVcbJpzt2OTVZ",
      "include_colab_link": true
    },
    "kernelspec": {
      "name": "python3",
      "display_name": "Python 3"
    },
    "language_info": {
      "name": "python"
    }
  },
  "cells": [
    {
      "cell_type": "markdown",
      "metadata": {
        "id": "view-in-github",
        "colab_type": "text"
      },
      "source": [
        "<a href=\"https://colab.research.google.com/github/Chiamakac/TRAININGS/blob/main/TRAININGS/Alignment/Projection_Work/TAG_ENG/SPACY_2.ipynb\" target=\"_parent\"><img src=\"https://colab.research.google.com/assets/colab-badge.svg\" alt=\"Open In Colab\"/></a>"
      ]
    },
    {
      "cell_type": "markdown",
      "source": [
        "**TAGGING THE PARALLEL DATA FOR PROJECTION**"
      ],
      "metadata": {
        "id": "1xHuG8tth_kU"
      }
    },
    {
      "cell_type": "code",
      "source": [
        "import spacy"
      ],
      "metadata": {
        "id": "CbLJPXUyvXpz"
      },
      "execution_count": 1,
      "outputs": []
    },
    {
      "cell_type": "code",
      "source": [
        "!wget -c https://raw.githubusercontent.com/Chiamakac/TRAININGS/main/Alignment/Projection_Work/test_train_val_en.txt"
      ],
      "metadata": {
        "colab": {
          "base_uri": "https://localhost:8080/"
        },
        "id": "CW9bG5ExibsU",
        "outputId": "cfc15085-0f6a-4712-fd39-18aa6fb9ab5a"
      },
      "execution_count": 2,
      "outputs": [
        {
          "output_type": "stream",
          "name": "stdout",
          "text": [
            "--2022-09-05 18:25:18--  https://raw.githubusercontent.com/Chiamakac/TRAININGS/main/Alignment/Projection_Work/test_train_val_en.txt\n",
            "Resolving raw.githubusercontent.com (raw.githubusercontent.com)... 185.199.109.133, 185.199.111.133, 185.199.110.133, ...\n",
            "Connecting to raw.githubusercontent.com (raw.githubusercontent.com)|185.199.109.133|:443... connected.\n",
            "HTTP request sent, awaiting response... 200 OK\n",
            "Length: 1195570 (1.1M) [text/plain]\n",
            "Saving to: ‘test_train_val_en.txt’\n",
            "\n",
            "test_train_val_en.t 100%[===================>]   1.14M  --.-KB/s    in 0.05s   \n",
            "\n",
            "2022-09-05 18:25:18 (21.3 MB/s) - ‘test_train_val_en.txt’ saved [1195570/1195570]\n",
            "\n"
          ]
        }
      ]
    },
    {
      "cell_type": "code",
      "source": [
        "nlp = spacy.load(\"en_core_web_sm\")\n",
        "# opening the file in read mode\n",
        "# en_file = open(\"/content/test_train_val_en.txt, \"r\")"
      ],
      "metadata": {
        "id": "AfNMw4WwiwF9"
      },
      "execution_count": 3,
      "outputs": []
    },
    {
      "cell_type": "code",
      "source": [
        "en_file = open(\"/content/test_train_val_en.txt\", \"r\")\n",
        "with open('en_tags.txt', 'w') as outputfile:\n",
        "  for i, line in enumerate(en_file.readlines()):\n",
        "    doc = nlp(line)\n",
        "    tag_list = []\n",
        "    for ent in doc.ents:\n",
        "      tag_list.append(f\"{ent.text}, {ent.label_}\")\n",
        "    if tag_list:\n",
        "      # print(i, '|'.join(tag_list))\n",
        "      outputfile.write(f\"{i}, {'|'.join(tag_list)}\\n\")"
      ],
      "metadata": {
        "id": "k88zfeNbl4xA"
      },
      "execution_count": 4,
      "outputs": []
    },
    {
      "cell_type": "markdown",
      "source": [],
      "metadata": {
        "id": "hyUd7kq5O6jK"
      }
    },
    {
      "cell_type": "markdown",
      "source": [],
      "metadata": {
        "id": "0O72MugZO9a9"
      }
    },
    {
      "cell_type": "markdown",
      "source": [],
      "metadata": {
        "id": "Uz4uX9FYO9Vm"
      }
    },
    {
      "cell_type": "markdown",
      "source": [],
      "metadata": {
        "id": "MT6TmZZwO9IY"
      }
    },
    {
      "cell_type": "markdown",
      "source": [],
      "metadata": {
        "id": "J1jNA5x8O9B6"
      }
    },
    {
      "cell_type": "markdown",
      "source": [],
      "metadata": {
        "id": "VWCs1iYjO81G"
      }
    },
    {
      "cell_type": "markdown",
      "source": [],
      "metadata": {
        "id": "FvGhlQcGO8i0"
      }
    },
    {
      "cell_type": "markdown",
      "source": [],
      "metadata": {
        "id": "W_F4cM_JO8F8"
      }
    },
    {
      "cell_type": "code",
      "source": [
        "# with open('spacy_output.txt', 'w') as f:\n",
        "#   for ent in doc.ents:\n",
        "#     f.write(f\"{task}\")"
      ],
      "metadata": {
        "id": "EmIBm25ylF5m"
      },
      "execution_count": null,
      "outputs": []
    },
    {
      "cell_type": "code",
      "source": [
        "for ent in doc.ents:\n",
        "  pron\n",
        "  print(ent.text, ent.label_)"
      ],
      "metadata": {
        "colab": {
          "base_uri": "https://localhost:8080/"
        },
        "id": "CR3ot5plvhyG",
        "outputId": "60ca13ad-5b88-476d-b87c-5baeba5d6a20"
      },
      "execution_count": null,
      "outputs": [
        {
          "output_type": "stream",
          "name": "stdout",
          "text": [
            "three CARDINAL\n",
            "Nigeria GPE\n",
            "Omoyele Sowore PERSON\n",
            "Omoyele Sowore PERSON\n",
            "more than 120 days\n",
            "So DATE\n",
            "Sowore ORG\n",
            "the middle of the day DATE\n",
            "every year DATE\n",
            "the end of every year DATE\n",
            "the Public Relations Practioner LAW\n",
            "today DATE\n",
            "1984 DATE\n",
            "Nigeria GPE\n",
            "Omoyele Sowore PERSON\n",
            "Monaco GPE\n",
            "Nigeria GPE\n",
            "One CARDINAL\n",
            "1 CARDINAL\n",
            "2 CARDINAL\n",
            "3 CARDINAL\n",
            "4 CARDINAL\n",
            "5 CARDINAL\n",
            "second ORDINAL\n",
            "first ORDINAL\n",
            "first ORDINAL\n",
            "Omoyele Sowore PERSON\n",
            "30 million CARDINAL\n",
            "Nigerian NORP\n",
            "EFCC ORG\n",
            "more than $ 7 billion MONEY\n",
            "Wilson Uwujaren PERSON\n",
            "Mohammed Idris PERSON\n",
            "5th ORDINAL\n",
            "December 2019 DATE\n",
            "the Ikoyi High Court ORG\n",
            "Lagos GPE\n",
            "Abia NORP\n",
            "Wilson Uwujaren PERSON\n",
            "Mohammed Idris PERSON\n",
            "5th ORDINAL\n",
            "December 2019 DATE\n",
            "the Ikoyi High Court ORG\n",
            "Lagos GPE\n",
            "Sun ORG\n",
            "Slok Nigeria Ltd ORG\n",
            "EFCC ORG\n",
            "Abia GPE\n",
            "12 years DATE\n",
            "more than 7.5 billion MONEY\n"
          ]
        }
      ]
    },
    {
      "cell_type": "code",
      "execution_count": null,
      "metadata": {
        "colab": {
          "base_uri": "https://localhost:8080/"
        },
        "id": "so_EL1_2ZelV",
        "outputId": "9af0d319-d446-451a-ae5b-2a9b78de6360"
      },
      "outputs": [
        {
          "output_type": "stream",
          "name": "stdout",
          "text": [
            "Nigeria 25 32 GPE\n",
            "Omoyele Sowore 65 79 PERSON\n"
          ]
        }
      ],
      "source": [
        "import spacy\n",
        "\n",
        "nlp = spacy.load(\"en_core_web_sm\")\n",
        "doc = nlp(\"I too have a passion for Nigeria and include other citizens like Omoyele Sowore, who have experienced despair and abandonment\")\n",
        "\n",
        "for ent in doc.ents:\n",
        "    print(ent.text, ent.start_char, ent.end_char, ent.label_)"
      ]
    },
    {
      "cell_type": "markdown",
      "source": [
        "import spacy\n",
        "\n",
        "nlp = spacy.load(\"en_core_web_sm\")\n",
        "doc = nlp(\"I too have a passion for Nigeria and include other citizens like Omoyele Sowore, who have experienced despair and abandonment\")\n",
        "\n",
        "for ent in doc.ents:\n",
        "    print(ent.text, ent.start_char, ent.end_char, ent.label_)"
      ],
      "metadata": {
        "id": "TJa7nHm1jHa9"
      }
    }
  ]
}