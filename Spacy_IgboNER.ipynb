{
  "nbformat": 4,
  "nbformat_minor": 0,
  "metadata": {
    "colab": {
      "provenance": [],
      "include_colab_link": true
    },
    "kernelspec": {
      "name": "python3",
      "display_name": "Python 3"
    },
    "language_info": {
      "name": "python"
    }
  },
  "cells": [
    {
      "cell_type": "markdown",
      "metadata": {
        "id": "view-in-github",
        "colab_type": "text"
      },
      "source": [
        "<a href=\"https://colab.research.google.com/github/Chiamakac/TRAININGS/blob/main/Spacy_IgboNER.ipynb\" target=\"_parent\"><img src=\"https://colab.research.google.com/assets/colab-badge.svg\" alt=\"Open In Colab\"/></a>"
      ]
    },
    {
      "cell_type": "markdown",
      "source": [
        "# Developing IgboNER tagger with Spacy"
      ],
      "metadata": {
        "id": "2vqH5tV2-UZq"
      }
    },
    {
      "cell_type": "code",
      "source": [
        "!wget https://raw.githubusercontent.com/masakhane-io/masakhane-ner/main/data/ibo/dev.txt"
      ],
      "metadata": {
        "id": "0lYvN607-gq-",
        "colab": {
          "base_uri": "https://localhost:8080/"
        },
        "outputId": "a53aa4fb-2cc3-4120-93cb-b6dcea517ce4"
      },
      "execution_count": null,
      "outputs": [
        {
          "output_type": "stream",
          "name": "stdout",
          "text": [
            "--2023-09-26 17:35:26--  https://raw.githubusercontent.com/masakhane-io/masakhane-ner/main/data/ibo/dev.txt\n",
            "Resolving raw.githubusercontent.com (raw.githubusercontent.com)... 185.199.108.133, 185.199.109.133, 185.199.110.133, ...\n",
            "Connecting to raw.githubusercontent.com (raw.githubusercontent.com)|185.199.108.133|:443... connected.\n",
            "HTTP request sent, awaiting response... 200 OK\n",
            "Length: 53684 (52K) [text/plain]\n",
            "Saving to: ‘dev.txt’\n",
            "\n",
            "\rdev.txt               0%[                    ]       0  --.-KB/s               \rdev.txt             100%[===================>]  52.43K  --.-KB/s    in 0.01s   \n",
            "\n",
            "2023-09-26 17:35:26 (3.76 MB/s) - ‘dev.txt’ saved [53684/53684]\n",
            "\n"
          ]
        }
      ]
    },
    {
      "cell_type": "code",
      "source": [
        "# Read the lines from the 'dev.txt' file, strip leading/trailing spaces and split by spaces\n",
        "# This creates a list of lists where each sublist contains words from a line\n",
        "lines = [line.strip().split() for line in open('dev.txt').readlines()]\n",
        "\n",
        "# Extract the first word from each sublist and join them into a single string with spaces in between\n",
        "# This creates a string containing the first word of each non-empty line\n",
        "text = \" \".join([l[0] for l in lines if l])\n"
      ],
      "metadata": {
        "id": "8letN9eb_OMX"
      },
      "execution_count": null,
      "outputs": []
    },
    {
      "cell_type": "code",
      "source": [
        "def join_spans(tag_list):\n",
        "  i=0\n",
        "  tag_spans = []\n",
        "  while i < len(tag_list):\n",
        "    token, tag = tag_list[i]\n",
        "    while i+1< len(tag_list) and tag_list[i+1][1].startswith('I'):\n",
        "      token = token + ' ' + tag_list[i+1][0]\n",
        "      i += 1\n",
        "    tag_spans.append((token,tag))\n",
        "    i += 1\n",
        "  return [(t, s[2:]) for t, s in tag_spans]\n",
        "ner_taglist = join_spans([l for l in lines if l and l[1]!='O'])"
      ],
      "metadata": {
        "id": "siCZJplMMuHB"
      },
      "execution_count": null,
      "outputs": []
    },
    {
      "cell_type": "code",
      "source": [
        "locs =  [l[0] for l in ner_taglist if l[1].endswith('LOC')]\n",
        "dates =  [l[0] for l in ner_taglist if l[1].endswith('DATE')]\n",
        "orgs =  [l[0] for l in ner_taglist if l[1].endswith('ORG')]\n",
        "pers =  [l[0] for l in ner_taglist if l[1].endswith('PER') if l[0]!='-']"
      ],
      "metadata": {
        "id": "lAZzZNFpF5j9"
      },
      "execution_count": null,
      "outputs": []
    },
    {
      "cell_type": "code",
      "source": [
        "import spacy\n",
        "from spacy import displacy\n",
        "nlp = spacy.load(\"en_core_web_sm\", disable=[\"ner\", \"parser\"]) # we will change the English model later...\n",
        "\n",
        "# add spacy's EntityRuler\n",
        "ruler = nlp.add_pipe('entity_ruler')#, before='ner')\n",
        "\n",
        "# add entity patterns\n",
        "patterns  = [{'label':'LOC', 'pattern':loc} for loc in set(locs)]\n",
        "patterns += [{'label':'DATE', 'pattern':date} for date in set(dates)]\n",
        "patterns += [{'label':'ORG', 'pattern':orgs} for orgs in set(orgs)]\n",
        "patterns += [{'label':'PER', 'pattern':pers} for pers in set(pers)]\n",
        "ruler.add_patterns(patterns)"
      ],
      "metadata": {
        "id": "bqNV0vqEHlkO"
      },
      "execution_count": null,
      "outputs": []
    },
    {
      "cell_type": "code",
      "source": [
        "sentences = \"\"\"Buhari nọ n'isi gọọmentị mpụ na nrụrụaka - Saraki Ọ pụtara na enweghi ihe e mere mekaa ndị Igbo ?\n",
        "ASUU strike : Kedụ mgbe ọ ga - ebi ?\n",
        "Sineti sị gọọmenti kpọchita Onnoghen Ndị Sịnetị a bụ nke onyeisi ha bụ Bukola Saraki bụ nke agba asatọ n'ime ọchịchị onye kwuo uche ya.\n",
        "Ndị Sịnetị a bụ nke onyeisi ha bụ Bukola Saraki bụ nke agba asatọ n'ime ọchịchị onye - kwuo - uche - ya\n",
        "N'aka ọzọ , ụlọomeiwu Sineti akpọpụla gọọmenti etiti ụlọikpe ka ha were ọsọ were ije kpọchite Onnoghen bụ onye bụbụ onyeisi ndị okaikpe na Naịjirịa .\"\"\".splitlines()"
      ],
      "metadata": {
        "id": "nDODh_EqB84W"
      },
      "execution_count": null,
      "outputs": []
    },
    {
      "cell_type": "code",
      "source": [
        "doc = nlp(sentences[4])\n",
        "for ent in doc.ents:\n",
        "    print(ent.text, ent.start_char, ent.end_char, ent.label_)\n",
        "displacy.render(doc, style=\"ent\",  jupyter=True)"
      ],
      "metadata": {
        "colab": {
          "base_uri": "https://localhost:8080/",
          "height": 87
        },
        "id": "L3H8HMhHlrDc",
        "outputId": "16589816-f07a-4348-eec9-5f6784e2ac15"
      },
      "execution_count": null,
      "outputs": [
        {
          "output_type": "stream",
          "name": "stdout",
          "text": [
            "Onnoghen 94 102 PER\n",
            "Naịjirịa 139 147 LOC\n"
          ]
        },
        {
          "output_type": "display_data",
          "data": {
            "text/plain": [
              "<IPython.core.display.HTML object>"
            ],
            "text/html": [
              "<span class=\"tex2jax_ignore\"><div class=\"entities\" style=\"line-height: 2.5; direction: ltr\">N'aka ọzọ , ụlọomeiwu Sineti akpọpụla gọọmenti etiti ụlọikpe ka ha were ọsọ were ije kpọchite \n",
              "<mark class=\"entity\" style=\"background: #ddd; padding: 0.45em 0.6em; margin: 0 0.25em; line-height: 1; border-radius: 0.35em;\">\n",
              "    Onnoghen\n",
              "    <span style=\"font-size: 0.8em; font-weight: bold; line-height: 1; border-radius: 0.35em; vertical-align: middle; margin-left: 0.5rem\">PER</span>\n",
              "</mark>\n",
              " bụ onye bụbụ onyeisi ndị okaikpe na \n",
              "<mark class=\"entity\" style=\"background: #ff9561; padding: 0.45em 0.6em; margin: 0 0.25em; line-height: 1; border-radius: 0.35em;\">\n",
              "    Naịjirịa\n",
              "    <span style=\"font-size: 0.8em; font-weight: bold; line-height: 1; border-radius: 0.35em; vertical-align: middle; margin-left: 0.5rem\">LOC</span>\n",
              "</mark>\n",
              " .</div></span>"
            ]
          },
          "metadata": {}
        }
      ]
    },
    {
      "cell_type": "code",
      "source": [],
      "metadata": {
        "id": "V_8XxHFKLyKO",
        "outputId": "13c12afa-6ff1-4066-e208-45f9273a04dc",
        "colab": {
          "base_uri": "https://localhost:8080/",
          "height": 72
        }
      },
      "execution_count": null,
      "outputs": [
        {
          "output_type": "stream",
          "name": "stderr",
          "text": [
            "/usr/local/lib/python3.10/dist-packages/spacy/displacy/__init__.py:213: UserWarning: [W006] No entities to visualize found in Doc object. If this is surprising to you, make sure the Doc was processed using a model that supports named entity recognition, and check the `doc.ents` property manually if necessary.\n",
            "  warnings.warn(Warnings.W006)\n"
          ]
        },
        {
          "output_type": "display_data",
          "data": {
            "text/plain": [
              "<IPython.core.display.HTML object>"
            ],
            "text/html": [
              "<span class=\"tex2jax_ignore\"><div class=\"entities\" style=\"line-height: 2.5; direction: ltr\"></div></span>"
            ]
          },
          "metadata": {}
        }
      ]
    },
    {
      "cell_type": "code",
      "source": [
        "print(text)"
      ],
      "metadata": {
        "colab": {
          "base_uri": "https://localhost:8080/"
        },
        "id": "xm7AwRaqkqgD",
        "outputId": "e2880216-6038-4c44-94ec-c5d5aec82edf"
      },
      "execution_count": null,
      "outputs": [
        {
          "output_type": "stream",
          "name": "stdout",
          "text": [
            "N'oge mbụ , ụmụnwaanyị na - eke isi dị iche iche , kama na ọ na - abụkarị isi ojii Mana ugbua , ha na - anwale ụdị agwa sọrọ ha , site na isi na - acha ọbara ọbara ruo na nke na - acha edo edo , ha achọghị ịma . Ha na - eme oriri na nkwari ka o si dị ha mma Oge agaala mgbe nwaanyị ga - anọ n'ụlọ , nwoke apụo inwete onwe ya naanị ya . Ugbua , ụmụnwanyị na - akpọrọ ndị enyi ha puo ebe ọ na - akpọtụ , na - enwe anụrị . Ọ naghị ama akwa , ọ na - eyi chebiriọdụ anọ n'ulọ Anyi ahapụla ima akwa na '19 kporogodom' Oge ima akwa n'obi nọrọ n'ụlọ agafeela . Ugbua ụmụnwaanyị na - eyi chebiriọdụ dị iche iche . I yitekwaraala ihe ndị Bekee kpọrọ 'bum short' , anyi amara n'iso na ihe a na - eme . Ọ na - ewepụta oge eji eme soshal media Teknụzụ emeela na onye ọbụla nọ n'ụwa nwere ike ijikọ Nwaanyị agba ọhụrụ ga - akwado , n'eti ka ọnwa , see onwe ya foto , tinye ya n'akara soshal midia ya . Ọ na - ete ntecha etu o siri masị ya Ụmụnwaanyị dịbu na mbu ete ntecha , kama ugbua , e nwezịrị agwa dị iche iche Ndị bekee agbanweela ntecha , ya bụ na ọ bụzị ihe a na - amụ amụ tupu emebe . Ụmụnwaanyị agba ọhụrụ ejighị ihe Bekee kpọrọ 'makeup' egwu egwu . Ha chọrọ ịdị ka a chọrọ oge niile . Ụmụnwaanyị na - arụbụ ọrụ na mbụ , mana o nwere ụfọdụ ọrụ ha anaghị arụ . Nwaanyị agba ọhụrụ kwetara na ihe nwoke ga - emeli , nwaanyị ga - emelikwa ya karịa . Ya bụ na ọ na - arụ ọrụ ọbụla masịrị ya , nwee ego nke ya o ji eledo onwe ya na ezinụlọ ya anya . Buhari nọ n'isi gọọmentị mpụ na nrụrụaka - Saraki Ọ pụtara na enweghi ihe e mere mekaa ndị Igbo ? ASUU strike : Kedụ mgbe ọ ga - ebi ? Sineti sị gọọmenti kpọchita Onnoghen Ndị Sịnetị a bụ nke onyeisi ha bụ Bukola Saraki bụ nke agba asatọ n'ime ọchịchị onye kwuo uche ya Ndị Sịnetị a bụ nke onyeisi ha bụ Bukola Saraki bụ nke agba asatọ n'ime ọchịchị onye - kwuo - uche - ya N'aka ọzọ , ụlọomeiwu Sineti akpọpụla gọọmenti etiti ụlọikpe ka ha were ọsọ were ije kpọchite Onnoghen bụ onye bụbụ onyeisi ndị okaikpe na Naịjirịa . Nke a mere ka ndị ụlọomeiwu mechichara ọgbakọ ha ụbọchị Tuesday . Ode akwụkwọ mgbasa ọzị Ipob , Peace Chukwudi sịrị na Biafra ga abịa ọsịsọ ma Buhari bata ọzọ Onye ndu ndị otu Ipob bụ Nnamdi Kanu etinyela ụbọchị iri na isii onwa Februwarị dịka ụbọchị ha ga eme referendum ịmata ka ndị mmadụ a ka chọrọ ị nọ na Naịjịrịa . Cheta na otu ụbọchị ahụ ka gọọmenti Naịjirịa nwere ntụliaka onyeisiala na nke ndị omeiwu . US na UK akọwala ihe ha ji tinye ọnụ na okwu Onnoghen Onyeisi ụlọọrụ British kọmishọna dị na Naịjirịa bụ Catriona Liang ekwuola na ihe mere ha jị arịọ ka Naịjiịrịa kpe udo n'ihe gbasara nwepụ onye ọkaikpe ukwu Onnoghen , bụ maka na ha chọrọ ka udo chịa na N'otu aka ahụ Stuart Symington bụ onye nọchite anya mba Amerika na Naịjirịa sị na ihe mba ahụ ji tinye ọnụ na ya bụ okwu bụ maka etu ọ ga - esi metụta nwulite ọchịchị ọhakarasị na Naịjirịa . US akpụpụla ụlọọrụ Huawei ụlọikpe N'ofesi , mba US agbaala ụlọọrụ Huawei na onyeisi ha okwu ego dị n'aka bụ Meng Wanzhou akwụkwọ maka ebubo ohi ego , ịgbọchị ikpe nkwumọtọ naohi ọrụaka ndị mba US . Ejidere Meng na Canada n'ọnwa gara aga ebe atụrụ anya na okwu a nwere ike ịkpali esem okwu dị na etiti China na mba US . Gee nkeji anyi ebe a Lee ihe nkiri ebe a Onyeisi ndị uweojii enyela iwu ka e kpochapụ F - SARS Gịnị mere ndị ndọrọndọrọ ji agbahapụ nrụrịtaụka ? Etu ị ga - esi chekwa akwụkwọ ntụlịaka gị Wole Soyinka ajụla Buhari , jụ Atiku Onye na - ede akwụkwọ a mara amara bụ Wole Soyinka ajụla Buhari na Atiku maka ọkwa onyeisiala na na ntuliaka 2019 . Soyinka , onye kwuru nke a n'ọgbakọ e 'Citizen forum' emere na Legọs ụbọchị Tọọzde sị na Naijiria chọrọ ọbara ọhụrụ . 'Ọ ka mma inye amnesty' karịa ị na - egbu oge n'ụlọikpe' - Ndị ọkaiwu \"\"\"\" Oge ụzọ ọhụrụ were anya eruola . Oge onye ahụ pụtara anyị ga - enye ya nkwado . \"\"\"\" \"\"\"\" Adịghị ama ama , ka m gwa ụnụ ebe m kwụ ka odo onye ọbụla anya : Mụ bụ Wole Soyinka agaghị atụnyere pati abụọ ahụ na - azọ . Ha abụọ kwesịrị ka a jụ ha kpamkpam . \"\"\"\" Transparency International : A ga - ekpoju ndịagha na ntuliaka na - abịa Ndị agha Naịjirịa juru oge e mere ntuliaka gọvanọ n'Osun steeti Ndị ọkachamara n'okwu ikike diri onye ekwuola na ntuliaka e mere n'Ekiti na Osun steeti n'afọ 2018 nakwa okwu Onnoghen na - arụ aka na a ga - eji Ndiagha mee ntuliaka 2019 . Otu Transparency International kwuru ụbọchị Tọọzde na obi na - eti ha na a ga - ekpoju ndịagha na ntuliaka na - abịa . Ha kwuru na ntuliaka emerela n'afọ 2018 nakwa ike ndị ndọrọndọrọ ọchịchi ji achụ ka atụnyere ha butere obi otiti ahụ . Na nkọwa ya otu onye na - alụ ọgụ maka ikike dịrị onye bụ Ọkaiwu Ifeanyịi Ulumma gwara BBC na ihe ụfọdụ na - eme na Naijiria ugbua ezuorola ndị mmadụ ịtụ uche na a ga - eji ndị agha mee ntuliaka na - abịa . \"\"\"\" Ọ bụ ihe mere na Osun na Ekiti mere egwu ba ndị mmadụ ahụ na - aga egbojupụta ndịagha . \"\"\"\" Ulumma gara n'ihu kwuo na okwu Onnoghen nakwa na onyeisiala Muhammadu Buhari bụ ọchịagha sokwa azọ ọkwa ọchịchị soro bute egwu ahụ . O kọwara na ọghọm dị n'ikpoju ndị agha na oge ntuliaka bụ na ọ ga - eme ka egwu tụọ ụfọdụ ndị mmadụ mee ka ha ghara ịpụta mee ntuliaka . Ulumma kwuru na dịka e si eme ya n'ofesi , ihe kwesiri bụ naanị ka ndị uweojii soro hụ na udo dị , na enweghị ọgbaghara . A hụla ụgbọala onyeisioche otu pati APC Abia steeti ahụ a tọọrọ Ndị uweojii na steeti Abịa ekwuola na ha enwetala ụgbọala Donatus Nwamkpa bụ onyeisioche otu pati APC na steeti ahụ a tọọrọ atọrọ . Ọnu na - ekwuru ndị uweojii na steeti ahụ bụ Geoffery Ogbonna kọwara na ha hụrụ ụgbọala a n'okporo ụzọ si Osisioma gaa Ibeku . Oshoala abanyela otu egwu bọọlụ Barcelona Ọkaibe na bọọlụ ụmụnwaanyị bụ Asisat Oshola eferela otu egwu bọọlụ Barcelona . Ọ hapụru otu egwu bọọlụ ndị mba Spen . Aboubakar Kamara agaala Yeni Malatyaspor N'aka nke ọzọ , otu Fulham ebinyela otu egwu bọọlụ Yeni Malatyaspor onye egwu ha bụ Aboubakar Kamara rue ọgwụgwụ oge a . Atiku Abubakar ga - agbaghara ndị zuru ego Naịjirịa Abubakar na - azọ ọkwa onyeisiala Naịjirịa n'okpuru PDP kwuru nke a ụnyaaahụ na ogige mkaparịtaụka akpọrọ \"\"\"\" The Candidates \"\"\"\" . Ọ sị na ọ bụ ụzọ ọ ga - esi nata ijeri naira ọkankụ ndị aka ntụtụ mịpụrụ n'akpa Naịjirịa . Otu onye omee iwu a chụrụ n'afọ gara aga bụ Abdulmumin Jibrin bụ onye degara EFCC akwụkwọ gbasara mpụ ahụ Ikpe banyere nde dọla iri anọ na ọma ahụrụ n'ime ụlọ Orsbone Towers na Legọs ga amalite eche bụ ụbọchị Tọsde , abali mbụ nke ọnwa Febụwarị 2019 . Ndị gọọmentị kpụpụrụ n'ihu ọkpaikpe bụ onye bụbụ onyeisi ngalaba National Intelegence Agency bụ Ayodele Oke na ọrịaku ya . Onye ọzọ akpụpụkwara ụlọikpe maka ebubo mpụ bụ onyebụbụ ode akwụkwọ gọọmentị bụ David Babachir Lawal . Juan Guaido chọrọ ka ndị agha chụpụ Maduro Onyeisi pati na - anọghị n'ọchịchi na Venezuela ekwuola na ndi otu ya na ndị agha Venezuela na - enwe nzukọ maka etu ha ga - eji nye aka napụ Onyeisiala mba ahu bụ Nicholas Maduru ọkwa . Juan Guaido echiele onye ya onyeisiala ma nweta nkwado n'aka mba Amerịka na ụfọdụ mba ndi ọzọ ka ọ nọ na njem ịbụrụ onyeisiala ejighi itu vootu tinye n'ọkwa . Chelsea ji nkata buru goolu Chelsea ji nkata buru goolu unyaahụ ka otu egwuregwu Bournemouth ji okpụ goolu anọ asatagi ma otu gosi ha na - ejighi ọnụ ama onye ka ike . N'Itali , Real Madrid nyụkwara Sevile ịkpakwụ ka ha ji ọkpụ goolu isii a satara otu fụọ ha aka n'isi . Gee nkeji a be a : A maala otu onye ụkọchukwu bụ Walter Magaya ikpemaka ịre ọgwụ adịgboroja o kwuru na - agwọ nje HIV na mba Zimbabwe Dịka ọ dị ugbua a na - eche ka amara afọ ole ụlọikpe ga - ekwu n'ọ ga - anọ n'ụlọmkpọrọ . Walter Magaya bụ ụkọchukwu ama ama na mba ahụ . Otu Ipob asaala ndị agha Naijiria ihe ha kwuru maka iche ndị Ipob aka mgba n'oge ntuliaka na - abịa . Ọnụ na - ekwuru Ipob bụ Chuwkwudi Peace kwuru na mmaja a bụ ụzọ ndị agha si chọọ wakpo ma gbuo Ndigbo ọzọ na ntuliaka . Esha Gupta bụ onye na - anọchite otu Arsenal Esha Gupta bụ onye ihe nkiri mba India kparịrị Alex Iwobi n'izu gara aga akwụkwọ ozi iji rịọ ya mgbaghara . Aka na - achịkọtabu otu Manchester United bu Jose Mourninho ekwetaala na ọ ga - aga nga dịka akpụpụrụ ya ụlọikpe maka ịgbalahụ ụgwọ ụtụ isi na mba Spen . Mana gọọmentị spen ekwela ị nara ya ego ka ọ ghara ị ga ụlọmkpọrọ . Otu bọọlụ Naịjirịa nke ndị erughị afọ 20 etozuola ịga asọmpị Iko Mba Afrịka dịka ha ji otu ọkpụ goolu merie mba Nijiey mgbe ha zutere onwe ha taa . Ngalaba na - ahụ maka ntuliaka na Naịjirịa bụ Inec adọọtịala ohere ha nyere ndị mmadụ ịji nata PVC ha site n'ụbọchị Fraide ruo ụbọchị Monde Ọ gụnyere ụbọchị satọde nakwa ụbọchị ụka site n'elekere itoolu nke ụtụtụ rue elekere isii nke mgbede kwa ụbọchị . Ebe otu Citizen Forum , nke onye na - ede akwụkwọ ama ama bụ Wole Soyinka kpokọbara adọnyerela Kingsley Moghalu nke otu YPP ukwu maka ọkwa onyeisiala na 2019 . Joe Igbokwe nke APC na Ugochukwu Ikeakor nke PDP akpọọla Ndigbo oku ka ha pụta tụọ vootu ụbọchị ntuliaka iji kwado mwulite Alaigbo . Ha kporo okwu a na mkparịtaụka ha na BBC Igbo nwere na Facebook n'ubọchị Fraide . Ụwa niile , ọ kachasị ndị egwuregwu bọọlụ na - amasị pụtara ịgosi obi ntiwa ha dịka achọtara ozu Emiliano Sala bụ onye ọgba bọọlụ mba Ajentina nọ n'ime ụgboelu dara mmiri na mgbede tọọzde . Akụkọ BBC Igbo n'ime otu nkeji A zọgburu ihe ruru mmadụ abụọ ebe ọtụtụ ndị ọzọ merụrụ ahụ n'ọgbọ egwuregwu Jolly Nyame n'ọsọ achụmnta vootu APC mere na Jalingo Taraba Steeti . Onyeisiala Buhari kwuru na ọ na - ewute ya nke ukwuu ma ndị hụrụ ya n'anya tufuo ndụ ha n'ihi ịkwado ya . Ọtụtụ ụmụakwụkwọ ejila afọ ise gụọ akwụkwọ ha kwesịrị ịgụ afọ anọ Obi ụtọ juru ụmụakwụkwọ mahadum afọ dịka otu jikọtara ndị nkuzi ha bụ ASUU akwụsịla abụbọ ọrụ ha bidoro kemgbe ọnwa atọ . Nkwụsị a bịara na ngwụcha nzukọ ndị isi ha na minista na - ahu maka ọrụ bụ Chris Ngige nwere n'Abuja . Ebe onyeisi ndị ASUU bụ Abiodun Ogunyemi sị ka ndị nkuzi bido ọrụ ozugbo . Onye kachasị enwe ego n'ụwa bụ Jeff Bezos kwuru na ụlo ntaakụkọ National Enquirer yiri ya egwu na ha ga - agba ihe o jiri bụrụ nwoke n'anwụ ma ọ gwaghị ọha okwu masiri ha . Ọ kwuru na Enquirer sị ya kwuo na ọbụghị ndọrọndọrọ mere ha ji ebu akụkọ gbasara ya n'akwụkwọ mgbasa ọzi ha . Achọpụtala na ozu ahụ ahụrụ n'ime ụgbọelu ahụ kpọkasiri akpọkasị bụ nke onye otu egwuregwu Cardiff City bụ Emiliano Sala . Cheta na Sala mere njem na - aga Cardiff mgbe ụgbọelu ọ nọ na ya nke onye na - akwọ ya bụ David Ibbotson dabara na mmiri . Gee nkeji a ebe a : Onyeisiala mba Ijipt bụ Abdel Fattah Al - Sisi , ga - amalite ọchịchị dịka onyeisioche otu African Union site taa gawa n'ihu . Ọchịchị ya ga - ebido n'ọgbakọ nke iri atọ na abụọ nke a na - eme n'isi obodo Ethiopia bụ Addis Ababa . Mkparịtaụka BBC Igbo na Nnamdi Kanu : Ụmụ Igbo unu adịla njikere maka mkparịtaụka ga - adị n'etiti onye ndu ndị otu Ipob bụ Nnamdi Kanu na BBC Igbo n'ụbọchị Mọnday na - abịa ? Ọ ga - akpọtụ n'elekere atọ nke ehihie , ị nwekwara ohere ịjụ ya ajụjụ ndị na - anụ gị ọkụ n'obi . Ụfọdụ ndị Igbo na - akwado Onyeisiala Buhari pụtakwara n'ọgbọ Ụgbọ achụmnta vootu Onyeisiala Muhammadu Buhari na ndị otu pati APC bịarutere ọgbọegwuregwu Teslim Balogun dị na Legọs n'ụbọchị Satọọde a . Lee etu o si gaa ebe a : Etu ndị mmadụ si nabata Onyeisiala Buhari na Lagos Buhari zutekwara ndị ojiegoachụ ego na njem ahụ , ebe ọ nọ gwa ha na akụnaụba obodo amalitela ito ọzọ makwuo na ọ ga na - aga n'ihu na - etolite . Ndị akụ na - atakasị dịka Aliko Dangote na Femi Otedola so nọrọ na nzukọ a . Man Utd ji nkata kponye Fulham goolu atọ ka ha zutere na Premier League n'ụbọchị itoolu nke Febụwarị 2019 . Mmeri ahụ emeela ka ha rigoruo n'ọkwa anọ n'elu tebulu ahụ . APC sị na ha ka na - akwado Ayogu Eze Ndọrọ onye ga - eji aha APC azọ ọkwa gọvanọ n'Enugu Steeti dị n'etiti Ayogu na Ogara . Party APC ekwuola na agbanyeghị mkpebi Ụlọikpe Ukwu nyere banyere onye ga - eburu ha ọkọlọtọ n'Enuwgu , ha kwụọ Ayogu Eze na - azụ . N'ozi Edegbe Odemwingie bụ osote onye na - ahụ maka mgbasa ozi na APC zitere BBC , ha sị na ha nwere ncheckwube na ụlọ ikpe mkpegharị ga enye ha arịrịọ ha riọrọ ma mee Maazi Eze onye ga - azọ ọchịchi n'okpuru APC n'Enugwu . APC gakwara n'ihu sị na ha na - etinye anya n'okwu onye ga - azọrọ ha ọchịchị na Rivas steeti , bu ebe Ụlọ Ikpe ukwuu nyere ikpe atughi ha ọchị . Nzukọ Trump na Kim Jong - Un mere ya mbụ ndị isiala mba Amerịka na Nọt Koria ga - ezukọ Mba Amerịka na - akwado ka onyeisiala ha bụ Donald Trump na nke mba Nọt Koria bu Kim Jong - un nwee nzukọ ọzọ . Trump na Kim ga - ezute na ụbọchị iri abuọ na asaa nke ọnwa Febụwarị na obodo Hanoi di na mba Vietnam . Flying Eagles nke Naịjirịa ji ọkpụ goolu otu asataghị merịe mba Nije mgbe ha zutere ụnyaahụ n'asọmpị akpọrọ Under 20 African Cup of Nations . Mmerị a nyere Naịjirịa ohere itozu ịga agba nke abụọ n'asọmpị a . Nke pụtara na ha ga - eso sọọ mpị na Iko Under 20 a ga - agba na mba Polond n'ọnwa Mee . BBC Igbo na Nnamdi Kanu ga - eme mkparịtaụka , Ka ọ kwụ ugbua , BBC Igbo na Nnamdi Kanu bụ onyeisi Ipob ga - enwe mkparịtaụka n'ụbọchị iri na abụọ nke ọnwa Febụwarị afọ 2019 , bụ Mọnde . Mkparịtaụka a ga - eme ga - abịara unu dịka Facebook Live n'elekere atọ nke ehihe na Naịjirịa , nakwa elekere abụọ na London . Gee nkeji a ebe a : Ihe nkiri anyị taa bụ : Mmadụ asaa n'ime mmadụ asatọ anwụọla ka ọkụ tanka gbara n'Amawbia dị n'Awka . Haruna Mohammed bụ ọnụ na - ekwuchitere ndị uweojii na Anambra state kwuru na ọkụ a gbara ụgbọala ruru asatọ ma mebie ụlọ na ụlọ ahịa ha agụtabeghị ọnụ . Onweghi onye nwụrụ n'ime ọkụ tanka agbara ọkụ na Legọọs Abia fuel explosion : Ọkụ gbagburu ndị bi n'ụlọ m - Chuks benson Haruna kwuru na ihe mberede a n'elekere asatọ n'ụma nke abalị Februwarị asatọ n'okiri okiri Amawbia dị n'Awka . N'ọkwu ya , \"\"\"\" onye ọkwọ ụgbọala ahụ bụ mmanụ ugbọala na - achọ ka ọ gafee okiri okiri , wee nọrọ n'etiti mgbagoju anya , ụgbọala ya wee gbahapụ nwuru ọkụ . O kwuru na ebugala otu onye ka dị ndụ n'ime ndị ọkụ tanka a gbara n'ụlọ \"\"\"\" Nnewi Teaching Hospital \"\"\"\" . Haruna kwuru na ya na ndị otu ya nọ na - akwalisi ihu ebe ihe a mere ka ụzọ were gara ndị ọzọ were were . Akụkọ ndị ọzọ ga - amasị gị Nigeria Elections 2019 : Ihe ise bụ ọgbaraigbogharị mere Nasir el - Rufai : Onye ka a ga - eji akpa ozu buru ? 'Ipob pụtanụ tụọ vootu ka ụnụ chụpụ ndị ọchịchị ọjọ' - Ohaneze Ndigbo Otu ụlọ ebe a na - akwado ime ntuliaka alaala n'ọkụ gbara ya taa . Dịka akụkọ siri kwuo , ọkụ ahụ repịara ihe niile dị n'ime ụlọ ahụ gụnyere akpati akwụkwọ vootu nakwa akwụkwọ vootu dị icheiche . Onye ọnụ na - eru n'okwu kwuru na ihe a awụnyela aja na nkwado ntuliaka mana o rubeghi ịme nyocha gbasara ịrụka ntuliaka na abịa . Nne Leah Sharibu bụ otu nwa agbọghọ ka tọrọ n'aka ndị Boko Haram ka ha wakpochara obodo Dapchi n'afo gara aga , ezigarala gọọmentị ozi ka ha mezuo nkwa ha kwere ịnapụtara ya nwa ya . Ọ gwara ndị ntaakụkọ n'Abụja na nwa ya ka nọ n'aka ndị oji isi aghọ mgbọ a makana o kweghị esonye ha n'ofufe ha . Ngalaba United Nations kwuru sị na otu ụgbọelu helịkọpta nke ndị agha mba Itiopịa kpọkasịrị n'ogige ụlọọrụ UN nke dị Na mpaghara Abyei dị n'etiti mba Sudan nakwa Saụt Sudan . Ihe mberede ụgbọelu ahụ gburu mmadụ atọ , mana o dobeghi anya ihe mere o ji kpọkasịa . Otu Tottenham zuru ike n'ahụ ndị Leicester City ka ha ji ọkpụ atọ a satara otu merie ha mgbe ha zutere na Premier League . N'aka ọzọ , ndị na - akwado ndị Chelsea nakwa Man City , chị aka n'obi na - eche ihe ha ga - agbata ma e gbuzuo bọọlụ taa . Ndị agha na ndị Biafra : Ndị agha Naịjirịa nke Division 82 n'akpagharị n'Abia steeti agọọla ebubo na ha gbara egbe ma gbuo otu onye na steeti ahụ . Ha gọnarịrị na onweghị onye otu ha , ha dunyere ka o sogharịwa onye chiburu Abia steeti bụ Orji Uzor Kalu . Mana ha kwetara na ha nwụchịrị ndị otu Ipob isii ghara ha nye n'aka ndị uweojii nọ na steeti ahụ . Ọnụ na - ekwuchitere ha bụ Musa Sagir kwuru na ọ bụ maka iweta udo na iwezuga ọdachi ka ha ji wuchie mgbe ndị otu Ipob na - eme ngagharịwe . E mere ọkammụta Mahmood Yakubu onyeisi Inec n'ọnwa ọktoba afọ 2015 Ụlọọrụ na - ahụ maka ihe gbasara ntuliaka na Naịjirịa akpọrọ Inec n'ịchafụ ekwuola na ọ ga - ajụ aha ndị otu pati ndọrọndọrọ ọchịchị na - emeghị ihe ndị iwu kwadoro dịka a na - atụ anya n'aka ndị nnọchiteanya pati di iche iche tupu amalite ntuliaka . A wakporo ụfọdụ ndị nkwado PDP n'Abuja Peter Obi bụ onye na - azọ ọkwa osote onyeisiala n'okpuru PDP kwuputara nke a site n'akara Twitter ya . Ọ rịọkwara mmadụ niile ha gbalahụ nsogbu na ọgbaghara n'oge a . Ihe mberede a achụpụla mmadụ ruru puku atọ na be ha Ebupula mmadụ puku kwuru puku na mba New Zealand dịka ndị ọrụ mmeyụ ọkụ na - agba mbọ ịhụ na oke ọkụ bidoro n'ụfọdụ obodo na mba ahụ kwụsịrị kpam kpam . Oke ọkụ a malitere kamgbe abalị isii na - akwado ibanye obodo ọzọ dị n'akụkụ ya . Etinyela ọnọdụ gbata gbata , ebe mmadụ ruru puku atọ agbapụla na be ha maka ihe mberede a . Ọkụ a bụ ọkachasị kamgbe afọ 1955 . Otu Egwuregwu bọọlụ Mancity na Chelsea ga - akwata ya na mgbede taa bụ Febụwarị iri n'asọmpị Premier league . Soro anyị na bbc . com / Igbo ka ị chọpụta onye ike ga - agwụ makana anyị ga - agwa ụnụ ka o si gaa . Egbe ndị a rụrụ n'ụlọ so n'ihe ndị na - akwalite izu ohi nakwa mwakpo ndị mmadụ na mba Gana . BBC mere nyocha iji chọpụta ebe egbe ndị a si abịa . Lee ihe ha chọpụtara n'ime onyonyo a . Ebonyi steeti nwere ọtụtụ ebe na ihe nlegharị anya . Otu n'ime ha bụ mmiri Mmahi nke a kpọrọ \"\"\"\" Ebonyi salt lake \"\"\"\" n'olu bekee . Ị ma ka esi emepụta nnu ị na - etinye na nri gị ? Ị mana nwoke anaghị aba mmiri a . Kirie ihe nkiri a ka ịchọpụta . Sọọsọ ụmụnwoke na - achị ala Naịjirịa kemgbe ha ji nweta mwereonwe ha . Oge nwaanyị ga - achị obodo Naịjirịa o ruola kaọbụ o rubeghi ? Kedụ mgbe ọ ga - abụ ? Kedụ ihe na - egbochi nwaanyị ịchị Naịjirịa ? Lee ihe ndị Igbo kwuru . Inec ekwuola na agbanyeghị ọkụ gbara ụlọrụ ha na Anamara steeti , ntulliaka ga - aga dịka e siri kwado ya na steeti ahụ . Ọkụ amaghị ebe osi gbapịala ụlọọrụ Inec dị n'Ọka , Anambara Steeti ụbọchị Tuzde . Ọkụ agbaala ụlọ ntuliaka na Plateau steeti Dika ozi Inec wepụta nke Onye Kọmịshọna ha na - ahụ maka mgbasaozi bụ Festus Okoye binyere aka kwuru , otụtụ ngwaọrụ ha nke gụnyere 'Card Reader' dị pụkụ anọ , narị isii na iri itoolu na ise so na ihe ọkụ ahụ repịara . \"\"\"\" N'agbanyeghị ndọghachi azụ ọdachie wetara na nknjikere anyị maka ntuliaka n'Anambara steeti , ụlọọrụ anyị gbalịrị nweta 'card reader' ndị etinyeghị nọ ọrụ na steeti ndị ọzọ a ga - eziga Anambara . \"\"\"\" \"\"\"\" Nke a nyere anyị ọkịka obi na ntuliaka ga - aga n'Anambara dịka e siri kwado ya . \"\"\"\" Okoye kọwara na ọdachi nke Anambara bụ nke atọ ya n'ime abali iri na abụọ dịka ọkụ gbara ụlọọrụ ha dị na Isiala Ngwa , Abia steeti nakwa Opuru ọchịchị Qua'an Pan dị na Platu steeti . Ọ gara n'ihu kwuo na ha ewegarala ndị uweojii na ụlọọrụ na - agbanyụ ọkụ ozi , ndị maliterela nyocha . Otu ndịagha Naijiria nke 134 Artillery regiment di n'Obinze na steeti Imo , anwuchiela umuokorobia ano bu ndi Soja adigboroja . Ha kọwara ndi a dika ndi ori nọ n'Owere , gbakwunye na ha na - emenyụ ndị mmadu anya kemgbe . Otu onye anwụọla n'ọgbaghara sọ ndọrọndrọ ọchịchị na mba Senegal dịka ha na - akwado ime ntuliaka ọkwa onyeisiala . Ọ bụ ndị na - akwado Onyeisiala Macky Sall na onye na - azọ oche ya bụ Issa Sall malitere nsogbu a . Otu Flying Eagles nke Naịjirịa anarala ngalaba CAF ikike iyi mgbaaka ojii iji kwanyere Taiwo Ogbunjobi ugwu dịka ha na - akwado izute mba Mali n'asọmpị iko mba Afrịka . Taiwo Ogbunjobi , onye bụbu odeakwụkwọ ukwu otu NFF nwụrụ ụbọchị Monde ka ọ rịachara ahụ obere oge . Otu jikọrọ ndị nkuzi politekni bụ Asup n'aha ịchafụ akwụsịla abụbọọrụ ha gbara kemgbe ọnwa abụọ . Asup gbara abụbọ ọrụ kemgbe ọnwa Disemba afọ 2018 iji gosi iwe gbasara emezughị nkwekọrịta ha na gọọmenti etiti nke afọ 2009 nakwa nke 2017 ; akwụghị ha ụgwọ kwesịrị ha , ịta ụfọdụ ndị otu ha ahụhụ nakwa ihe ndị ọzọ . Clinton sị na ya agaghịkwa abịa Naijiria dịka ọkwadoburu Aka chiburu mba Amerịka bụ Bill Clinton akagbuola njem ya ịbịa Naịjirịa nke Otu National Peace Accord zigara ya akwụkwọ ka ọ bịa hụrụ ka mbinye aka n'akwụkwọ nkwekọrịta udo ga - esi gaa . Cheta na akara na ọ ga - ekwupute okwu n´ụbọchị a ga - ebinye aka n'akwụkwọ bụ ụbọchị Febrụwarị iri na abụọ na iri na atọ . Akwụkwọ ozi , ọnụ na - ekwuchitere ya bụ Angel Ureña zigara ụlọọrụ Thisday kwuru na ya bụ njem aghaghị ịnwe ntụpọ ndọrọndọrọ ọchịchị . \"\"\"\" Nke a mere na Clinton agaghị abịalị ọgbakọ a . \"\"\"\" Ọkụ tanka agbala ọtụtụ mmadụ na oge gara aga na Legos Ụgbọala bu mmanụ ụgbọala agbala ọkụ n'okporoụzọ gawara Nnewi Okigwe dị n'Anambra steeti . Onyeisioche ụlọ ebe a na - agbapụta mmanụ ụgbọala bụ Patrick Okeke kwuru na o nweghị onye nwụrụ n'ọkụ a gbaranụ . Nke a na - eme ka akụkọ pụtachara abali abụọ gara aga na mmadụ asaa nwụrụ n'ọkụọgbụgba tanka mere n'Awka . Ndị otu ndọrọndọrọ ọchịchị Demokrats na Repọblikan na mba Amerika ekwekọrịtala iwepụta ego a ga - eji rụ agada jikọtara ha na mba ndị ọzọ ka ha gbochie mmechi gọọmenti mba Amerịka nke ọzọ . Onye otu egqwuregwu Arsenal ama ama bụ Aaron Ramsey ebinyela aka n'akwụkwọ n'ọrụ ngo ruru pounds narị anọ kwa izu ụka maka ịbanye otu egwuregwu Juventus . Ọ nọọla ruo afọ iri na otu n'otu egwuregwu Arsenal . Otu PSG tiri Man Utd mmọnwụ , iji gosi ha na ha abịaghị igwu egwu , ka ha ji goolu abụọ merie ha na Old Trafford . Nke a bụ mmeri mbụ a na - emeri otu egwu bọọlụ Man Utd kemgbe Ole Gunna Solskjaer malitere ịchịkọta ha . Presnel Kimpembe ji ha gbachara ọnụ ma gbaa aka ahịa , n'ihe bụ goolu mbụ ọ na - enyere ndị PSG . Man City agwọọla Chelsea ka abacha Emiliano Sala : Ugboro ole ndị egwuregwu nwụrụ ka ọnwa ha na - achake Kylian Mbappe dọkara neetị David De Gea n'ọkara nke abụọ , ebe e mechara chụpụ Paul Pogba ka o nwetara akwụkwọ edo edo abụọ . Angel Di Maria gbabuuru Man Utd bọọlụ eleghi anya n'azụ ka ọ na - agwọ ha ara n'agbanyeghi emu ha nọ na - akwa ya ; o bunyere Kimpembe bọọlụ o ji nye goolu . Anthony Martial na Jesse Lingard merụrụ ahụ n'ọkara mbụ , mere ka ewepụ ha . Ajụjụ onye ọbụla kpụ n'ọnụ ugbua bụ \"\"\"\" isi Man Utd a ga - apụtakwa mgbe ha ga - aga na Parc des Princes n'ụbọchị isii nke ọnwa Maachị ? \"\"\"\" Ihe mberede okporoụzọ mere n'Imo steeti : Ụgbọala Tipa dakwasịrị ma kurie otu ụgbọala Pasat bụ nke otu pati APC ji achụ nta vootu n'Owere bụ isi obodo Imo steeti . Ihe mberede a mere n'okporoụzọ akpọrọ Jacob Zuma bụkwa nke e ji \"\"\"\" akanchawa \"\"\"\" wee mara . Anya hụrụ ka o si mee gwara BBC Igbo na ihe mberede a mere ka obere ụgbọala a e ji achụ nta vootu nke Muhammadu Buhari nakwa Rochas Okorocha , chọrọ igbafe ụgbọala Tipa ahụ . O kwuru na onweghi onye nwụrụ , mana e burula onye ọkwọụgbọala ahụ gawa n'ụlọọgwụ makana ọ merụrụ nnukwute ahụ . Na mkparịtaụka Nnamdi Kanu na BBC Igbo nwere , o kwuru na ihe ọ gabigara n'aka ndị agha mere o ji zoo mgbe ahụ o zoro . O bokwara ndị na - achị mpaghara ọwụwa anyanwụ ebubo na ha chọrọ igbu ya n'afọ gara aga , so mee o ji gbaa ọsọ , gaa lekọta onwe ya n'ahụ ọ merụrụ . Gere ihe ndị ọzọ o kwuru ebe a : Ndị na - azọ ọkwa gọvanọ n'Imo steeti ebinyela aka n'akwụkwọ udo , ebe ha kwenyere na udo ga - achị na ntuliaka na - abịa . Ndị otu ọrụ nchekwa niile nọ n'Imo steeti nke gụnyere ndị uweojii , haziri emume a . Uche Nwosu nke AA so binye aka Ndị binyere aka n'akwụkwọ udo a gụnyere : Emeka Ihedioha nke PDP , Uche Nwosu nke AA , Linus Okorie nke YPP , Tony Nwulu nke UPP nakwa ụfọdụ ndị ọzọ . Tony Nwulu nke YPP bịakwara Ikedi Ohakim nke pati Accord , Hope Uzodimma nke APC nakwa Ifeanyi Araraume nke APGA bụ ndị osote ha nọchiri anya ha na mmemme ahụ . Emeka Ihedioha nke PDP binyekwara aka Kọmishọna ndị uweojii n'Imo steeti bụ Dasuki Galadanchi , n'ozi nnabata ya , gwara ndị na - azọ ọkwa ka ha cheta na ha enweghi steeti ọzọ karịa Imo , ma dụzie ha ọdụ ka ha jiri udo kpọrọ ihe . Ụlọikpe dị na mba Amerịka achọtala ihe n'aka Joaquin Guzman bụ onye mba Mexico na - atụ mgbere ọgwụ ike a ma dị ka El Chapo . N'agbanyeghi na a mabeghi ya ikpe , a na - ekwu na e nwereike ịtụ ya nga mkpụrụọka ga - eme ka ọ nọgide n'ụlọmkpọrọ ruo oge ọnwụ ya . Gee nkeji BBC Igbo ebe a : Na ntuliaka 2019 , ka ụmụnwoke juru n'ọsọ ịzọ ọkwa onyeisiala , ụmụnwaanyị achọghị ịgba aka mere ka ihe ruru mmadụ atọ tinyere ụkwụ n'ọsọ ahụ . Ụmụnwaanyị ndị a meriri na ntuliaka imeụlọ ndị pati ha mere , na - atụanya ịbụ onye ga - achụpụ Onyeisiala Muhammadu Buhari n'oche na 2019 . Nigeria Elections 2019 : Ndị na - azọ ntuliaka na osote ha Nigeria Elections 2019 : Ihe ise bụ ọgbaraigbogharị merela Day 20 : Kedụ ka ụmụ Naịjirịa si ahụta 'Zoning' ? Nke a abụghị mbụ ụmụnwaanyị na - azọ ọkwa onyeisiala na Naịjirịa . Sarah Jubrin zọrọ n'afọ 2011 , ebe Comfort Oluremi Sonaiya zọrọ n'okpuru otu pati KOWA na 2015 . Cheta na nso nso a , Oby Ezekwesili gwara ọkwọụgbọ \"\"\"\" kwụsị , ka ọ pụọ \"\"\"\" n'ọnwa Jenụwarị afọ a . A mụrụ ya n'ụbọchị iri na isii nke ọnwa Ọgọst 1978 . Ọ bụ onye Enugwu steeti . O hibere pati ya bụ \"\"\"\" National Interest Party ( NIP ) \"\"\"\" n'afọ 2017 . Ọ bụkwa onye ọkaiwu n'ụlọikpe kachasị na Naịjirịa . Ọ bụkwa onye achụmnta ego . Ọ na - azọ ọkwa onyeisiala n'okpuru pati NIP . A mụrụ ya n'ụbọchị iri na ise nke ọnwa Ọktoba 1962 . Ọ na - azọ ọkwa onyeisiala n'okpuru pati Mass Action Joint Alliance ( MAJA ) ma bụrụkwa onye na - efe ọkọrọtọ ndị \"\"\"\" Coalition of United Political parties ( CUPP ) \"\"\"\" na ntuliaka 2019 . Ọ bụ ọkammụta n'ihe gbasara asụsụ nakwa onye ọnụ na - eru n'okwu n'ihe gbasara agụmakwụkwọ . Ọ bụkwa ọkammụta n'ihe gbasara ọmụma Chineke ma nwee asambodo dọktọreti n'ihe gbasara ọmụma Chineke . A mụrụ ya n'ụbọchị iri na isii nke ọnwa Nọvemba 1959 . Ọ bụ onye Abịa steeti . Ọ bụ ụkọchukwu ma bụrụkwa odeakwụkwọ ndị ụka . Ọ na - azọ ọkwa onyeisiala n'okpuru pati Alliance for a United Nigeria ( AUN ) . Ọ bụ onyeisi nakwa onye na - azọ ọkwa onyeisiala n'okpuru pati National Action Council ( NAC ) . Ọ bụ onye hibere nakwa onyeisi otu na - ahụ maka ụmụnwaanyị a kpọrọ Women Political Enlistment Campaign . Onyeisi ndị Inec ngalaba Anambara bụ Nwachukkwu Orji kwuru na ndọhachi azụ bere abalị ole na ole gara aga agaghị emtuta ntuliaka Satode . Ngalaba na - achịkọta ihe gbasara ntuliaka na Najirịa bụ Inec adọtịala ụbọchị ekwesiri ịme ntuliaka ọkwa onyeisiala , nke ndị ụlọomeiwu nakwa nke ndị ọkwa gọvanọ . Ha kwuru na nke a mere n'ihi na ha akwadoteghi ọ kachasị n'ikesa akaụrụngwaọrụ nakwa ịhazi ihe niile dị na ntuliaka kwesiri ịme taa . Nigeria Elections 2019 : Ụmụnwaanyi chọrọ ịnapụ Buhari ọrụ ya PDP na APC na - ebo onwe ha ebubo maka ndọtị aka ngalaba na - ahụ maka ntụliaka bụ Inec mere ntụliaka ọkwa Onyeisiala nakwa nke ndị omeiwu nke etiti na steeti dị iche ịchị . APC sị na ọ bụ nkata Inec na PDP kpara , ebe PDP gbụkwa otu asọ ahụ n'ọnụ . Festus Keyamo nke otu APC sị na ọ bụ makana PDP nọ n'ụzọ ịda na ntuliaka mere ha jiri mee ka Inec dọtịa emume a aka . Uche Secondus bụ onyeisi otu pati PDP kwuru dịka ọ bụ ya na Keyamo dekọtara akwụkwọ mgbasa ozi ebe ọ sịkwa na ọ bụ APC na Inec kụkọrọ mkpụrụ a furu ugbua . Onye na - azọ ọchịchị n'okpuru pati PDP bụ Atiku Abubakar tinyekwara ọnụ n'atụmatụ ndọtị aka a emere ntụliaka a . Atiku sị ndị na - akwado ya ka ha enwela iwe maka ihe mere . Ọ sikwa ha pụta n'uju bịa tụnye aka n'ụbọchị 23 nke Febrụwarị na ụbọchị 9 nke Maachị . Cheta na ọtụtụ mmadụ anọziela maka ntụliaka . Ụmụ Naịjirịa dị icheiche ebeela akwa arịrị gbasara ya bụ ndọtịaka Tosin Olugbenga na - akpọ NYSC oku ka ha tinye ọnụ n'okwu a Bashir Ahmad kwuru na ihe INEC mere adịghịrị ụmụ Naijirịa mma Nyigharị ntuliaka e kwesịrị ime n'ụbọchị 16 nke Febrụwarị 2019 , mere ka ụfọdụ ndị mmadụ malite ịchọ ụzọ ha si agbaga Kanada . O wuru ewu na soshal midia nke ọma , mere ka BBC wepụta ihe na - egosi etu ị ga - esinwu gaa ( ma ike dịkwa gị o ) . Akụkọ na - eru anyị ntị ugbua bụ na ndị EFCC anwụchiela onye ọkaiwu Atiku Abubakar bụ Uyi Giwa Osagie na Legọs . E chere na a nwụchiri ya maka akpa ego e si Abuja ebuga Legos nke ndị ngalaba EFCC kpụghere mana o dobeghi anya ma nnwụchi a o metụtara ọrụ ya n' achụmnta vootu Atiku . Ụfọdụ ndị Naịjirịa na - ekwu na ife ala nna adịchaghị oke mkpa tụmadị ọbụrụ na a ga - akọga ụmụ mmadụ na steeti na abụghị nke ha . Ngalaba Inec ekwela nkwa ilekọta ndị na - efe ala nna ga - eso ha arụ ọrụ ntuliaka anya ọfụma . Cheta na ndị mmadụ kpụ Inec n'ọnụ maka etu ha si hapụ ụmụ mmadụ chi horo ụbọchị ehigharịrị ntuliaka . BBC Igbo agbaala otu afọ , Oru na Igbo BBC Igbo agbaala otu afọ na mgbasa ozi taa . N'ụbọchị a n'afọ gara aga , ka BBC Igbo malitere mgbasaozi dịka otu n'ime ndị e kewapụtara na mgbakwunye BBC W2020 maka ndị asụsu na - abụghị bekee . Obi dị anyị mma maka ncheta ọmụmụ ụlọọrụ a , ma na - asị chere aka ghọrọ anyị n'ike na ebube . Steeti iri na isii gụnyere Kalifonia , agbaala onyeisiala mba Amerịka bụ Donald Trump , akwụkwọ , maka mkpebi ya itinye ọnọdụ gbatagbata maka inweta ego o ji arụ mgbidi aja maka oke ala ha na Mekziko . Gọọmenti mba US mechiri n'izu gara ga maka na ndị sineti akwadoghi bọjetị ha Onye ọkaikpe ukwu nke Kalifonia bụ Xavier Becerra , kwuru sị na ha na - agba ya akwụkwọ a ime ka ọ ghara imefu ụtụisi ndị mmadụ tụtara . Ọ ka na - akpọtụ n'isi ndị Chelsea , ka ndị Man Utd gosiri ha nkarị ma jiri ọkpụ goolu abụọ gbapụ ha n'asọmpi Iko FA . Ajụjụ bụzị 'isi Chelsea a ga - apụtakwa ma ha zute Manchester City n'agba ikpeazụ nke asọmpi Iko Carabao n'ụbọchị iri abụọ na anọ nke ọnwa a ? Gere akụkọ BBC Igbo na nkeji ebe a : Lee ihe nkiri anyị nwere taa : Ndị Naịjirịa ga - aga n'ihu ịhọpụta onye ga - abụ onyeisiala n'ime afọ anọ ọzọ na - abịa . Cheta na e higharịrị ụbọchị ntuliaka onyeisiala site n'ụbọchị Febrụawarị 16 , bufete ya taa bụ Febrụwarị 23 . Usoro ị ga - eji bụrụ onyeisiala Naịjirịa Nigeria Election 2019 : Ụmụnwaanyi chọrọ ịnapụ Buhari ọrụ ya Nigeria Election 2019 : Ndị na - azọ ntuliaka na osote ha N'ime ndị na - azọ ọkwa onyeisiala , gụnyere ndị aha ha kacha ada ụda bụ Muhammadu Buhari dị afọ 76 , Atiku Abubakar dị afọ 72 , Kingsley Moghalu , Omoyele Sowore nakwa Fela Durotoye . Ebe Buhari bụ onyeisiala ugbua na - ekwu na o meela ka akụnaụba obodo mụbanye , ndị ọzọ na - azọ ọkwa ya na - ekwu na ọ naghị arụ ọrụ ọbụla . Onye ọbụla meriri na ntuliaka a kwesịrị ime ihe a hụrụ anya banyere enweghị ọkụ latrik , mpụ na nrụrụaka , ọnọdụ nchekwa obodo nakwa akụnaụba obodo . A ga - ebido ime ntuliaka mgbe ọ kụrụ elekere asatọ nke ụtụtụ a , ma mechie ya n'elekere abụọ nke ehihie . Mana onye ọbụla ka kwụ n'ahịrị mgbe e mechiri ntuliaka , ka ga - atụnwu vootu . Odobeghi anya ụbọchị a ga - akpọpụta mpụtara onye meriri ; o nwere ike ịbụ ụbọchị mọnde maọbụ toozde maọbụ e mechaa . Akụkọ Mere Ugbua - Ihe a mabeghị ihe ọ bụ gbara n'Enugwu Ndigbo ejikọọla ọnụ katọọ iji ndị agha mee ntụliaka 'Ị tụghị vootu , ị mara na ị kwetala n'afọ anọ na - abịa ga - adịrị gị ka anọ gara aga' Ibeawuchi Izuchukwu bụ onye chịkọtara vootu n'okpuru ọchịchị Ọlụ n'Imo steeti gwara BBC Igbo etu o si gabiga ihe ize ndụ n'aka ndị na - arụrụ gọvanọ Imo steeti ọrụ maka na ya ekwetaghị ka e degharịa mpụtara vootu a tụrụ ebe ahụ . Izuchukwu gwara BBC Igbo na gọvanọ Okorocha na ndị otu ya jidere ya , nye ya ego ma nye ya iwu ka o degharịa mpụtara ntuliaka ahụ mana oge ya jụrụ ime nke ahụ , ha ejide ya ma mesie ya ike . Lee ihe o kwuru n'onyonyo a . BBC Igbo gbara onye ọrụ Rochas , Ebere Nzewuji ajụjụọnụ mana o kwuru na ọ dịka Ibeawuchi natara ndị iro Rochas ego ka o kwuo ihe ndị ahụ niile . N'okwu ya : \"\"\"\" Ihe ndị ahụ o kwuru bụ okwu asị , ọ dịka ọ natara ndị pati ndị ọzọ ego iji kwugide ọga m \"\"\"\" .\n"
          ]
        }
      ]
    }
  ]
}